{
  "nbformat": 4,
  "nbformat_minor": 0,
  "metadata": {
    "colab": {
      "name": "TF2.0 Stock Returns.ipynb",
      "provenance": [],
      "collapsed_sections": [],
      "authorship_tag": "ABX9TyNgAOMBofamtVp48v3mgsCp",
      "include_colab_link": true
    },
    "kernelspec": {
      "name": "python3",
      "display_name": "Python 3"
    }
  },
  "cells": [
    {
      "cell_type": "markdown",
      "metadata": {
        "id": "view-in-github",
        "colab_type": "text"
      },
      "source": [
        "<a href=\"https://colab.research.google.com/github/SwethaVipparla/Tensorflow/blob/master/RNN/Stock_Returns.ipynb\" target=\"_parent\"><img src=\"https://colab.research.google.com/assets/colab-badge.svg\" alt=\"Open In Colab\"/></a>"
      ]
    },
    {
      "cell_type": "code",
      "metadata": {
        "id": "bdULwTWiOnAu",
        "colab_type": "code",
        "colab": {
          "base_uri": "https://localhost:8080/",
          "height": 34
        },
        "outputId": "3cfd7f17-b537-4a93-fc23-41766143d55e"
      },
      "source": [
        "import tensorflow as tf\n",
        "print(tf.__version__)"
      ],
      "execution_count": 1,
      "outputs": [
        {
          "output_type": "stream",
          "text": [
            "2.2.0\n"
          ],
          "name": "stdout"
        }
      ]
    },
    {
      "cell_type": "code",
      "metadata": {
        "id": "M4WnxUuwOrKW",
        "colab_type": "code",
        "colab": {}
      },
      "source": [
        "# More imports\n",
        "from tensorflow.keras.layers import Input, LSTM, GRU, SimpleRNN, Dense, GlobalMaxPool1D\n",
        "from tensorflow.keras.models import Model\n",
        "from tensorflow.keras.optimizers import SGD, Adam\n",
        "\n",
        "import numpy as np\n",
        "import pandas as pd\n",
        "import matplotlib.pyplot as plt\n",
        "from sklearn.preprocessing import StandardScaler"
      ],
      "execution_count": 2,
      "outputs": []
    },
    {
      "cell_type": "code",
      "metadata": {
        "id": "2y7slcN7Ovvh",
        "colab_type": "code",
        "colab": {}
      },
      "source": [
        "# yes, you can read dataframes from URLs!\n",
        "df = pd.read_csv('https://raw.githubusercontent.com/lazyprogrammer/machine_learning_examples/master/tf2.0/sbux.csv')"
      ],
      "execution_count": 3,
      "outputs": []
    },
    {
      "cell_type": "code",
      "metadata": {
        "id": "OAAxf31qOyHF",
        "colab_type": "code",
        "colab": {
          "base_uri": "https://localhost:8080/",
          "height": 206
        },
        "outputId": "4455be1d-276d-4074-a650-e0e9eae7e4b7"
      },
      "source": [
        "df.head()"
      ],
      "execution_count": 4,
      "outputs": [
        {
          "output_type": "execute_result",
          "data": {
            "text/html": [
              "<div>\n",
              "<style scoped>\n",
              "    .dataframe tbody tr th:only-of-type {\n",
              "        vertical-align: middle;\n",
              "    }\n",
              "\n",
              "    .dataframe tbody tr th {\n",
              "        vertical-align: top;\n",
              "    }\n",
              "\n",
              "    .dataframe thead th {\n",
              "        text-align: right;\n",
              "    }\n",
              "</style>\n",
              "<table border=\"1\" class=\"dataframe\">\n",
              "  <thead>\n",
              "    <tr style=\"text-align: right;\">\n",
              "      <th></th>\n",
              "      <th>date</th>\n",
              "      <th>open</th>\n",
              "      <th>high</th>\n",
              "      <th>low</th>\n",
              "      <th>close</th>\n",
              "      <th>volume</th>\n",
              "      <th>Name</th>\n",
              "    </tr>\n",
              "  </thead>\n",
              "  <tbody>\n",
              "    <tr>\n",
              "      <th>0</th>\n",
              "      <td>2013-02-08</td>\n",
              "      <td>27.920</td>\n",
              "      <td>28.325</td>\n",
              "      <td>27.920</td>\n",
              "      <td>28.185</td>\n",
              "      <td>7146296</td>\n",
              "      <td>SBUX</td>\n",
              "    </tr>\n",
              "    <tr>\n",
              "      <th>1</th>\n",
              "      <td>2013-02-11</td>\n",
              "      <td>28.260</td>\n",
              "      <td>28.260</td>\n",
              "      <td>27.930</td>\n",
              "      <td>28.070</td>\n",
              "      <td>5457354</td>\n",
              "      <td>SBUX</td>\n",
              "    </tr>\n",
              "    <tr>\n",
              "      <th>2</th>\n",
              "      <td>2013-02-12</td>\n",
              "      <td>28.000</td>\n",
              "      <td>28.275</td>\n",
              "      <td>27.975</td>\n",
              "      <td>28.130</td>\n",
              "      <td>8665592</td>\n",
              "      <td>SBUX</td>\n",
              "    </tr>\n",
              "    <tr>\n",
              "      <th>3</th>\n",
              "      <td>2013-02-13</td>\n",
              "      <td>28.230</td>\n",
              "      <td>28.230</td>\n",
              "      <td>27.750</td>\n",
              "      <td>27.915</td>\n",
              "      <td>7022056</td>\n",
              "      <td>SBUX</td>\n",
              "    </tr>\n",
              "    <tr>\n",
              "      <th>4</th>\n",
              "      <td>2013-02-14</td>\n",
              "      <td>27.765</td>\n",
              "      <td>27.905</td>\n",
              "      <td>27.675</td>\n",
              "      <td>27.775</td>\n",
              "      <td>8899188</td>\n",
              "      <td>SBUX</td>\n",
              "    </tr>\n",
              "  </tbody>\n",
              "</table>\n",
              "</div>"
            ],
            "text/plain": [
              "         date    open    high     low   close   volume  Name\n",
              "0  2013-02-08  27.920  28.325  27.920  28.185  7146296  SBUX\n",
              "1  2013-02-11  28.260  28.260  27.930  28.070  5457354  SBUX\n",
              "2  2013-02-12  28.000  28.275  27.975  28.130  8665592  SBUX\n",
              "3  2013-02-13  28.230  28.230  27.750  27.915  7022056  SBUX\n",
              "4  2013-02-14  27.765  27.905  27.675  27.775  8899188  SBUX"
            ]
          },
          "metadata": {
            "tags": []
          },
          "execution_count": 4
        }
      ]
    },
    {
      "cell_type": "code",
      "metadata": {
        "id": "isKZvf2LOzbL",
        "colab_type": "code",
        "colab": {
          "base_uri": "https://localhost:8080/",
          "height": 206
        },
        "outputId": "0b4325be-2461-41fa-ab95-5229e0de31f6"
      },
      "source": [
        "df.tail()"
      ],
      "execution_count": 5,
      "outputs": [
        {
          "output_type": "execute_result",
          "data": {
            "text/html": [
              "<div>\n",
              "<style scoped>\n",
              "    .dataframe tbody tr th:only-of-type {\n",
              "        vertical-align: middle;\n",
              "    }\n",
              "\n",
              "    .dataframe tbody tr th {\n",
              "        vertical-align: top;\n",
              "    }\n",
              "\n",
              "    .dataframe thead th {\n",
              "        text-align: right;\n",
              "    }\n",
              "</style>\n",
              "<table border=\"1\" class=\"dataframe\">\n",
              "  <thead>\n",
              "    <tr style=\"text-align: right;\">\n",
              "      <th></th>\n",
              "      <th>date</th>\n",
              "      <th>open</th>\n",
              "      <th>high</th>\n",
              "      <th>low</th>\n",
              "      <th>close</th>\n",
              "      <th>volume</th>\n",
              "      <th>Name</th>\n",
              "    </tr>\n",
              "  </thead>\n",
              "  <tbody>\n",
              "    <tr>\n",
              "      <th>1254</th>\n",
              "      <td>2018-02-01</td>\n",
              "      <td>56.280</td>\n",
              "      <td>56.42</td>\n",
              "      <td>55.89</td>\n",
              "      <td>56.00</td>\n",
              "      <td>14690146</td>\n",
              "      <td>SBUX</td>\n",
              "    </tr>\n",
              "    <tr>\n",
              "      <th>1255</th>\n",
              "      <td>2018-02-02</td>\n",
              "      <td>55.900</td>\n",
              "      <td>56.32</td>\n",
              "      <td>55.70</td>\n",
              "      <td>55.77</td>\n",
              "      <td>15358909</td>\n",
              "      <td>SBUX</td>\n",
              "    </tr>\n",
              "    <tr>\n",
              "      <th>1256</th>\n",
              "      <td>2018-02-05</td>\n",
              "      <td>55.530</td>\n",
              "      <td>56.26</td>\n",
              "      <td>54.57</td>\n",
              "      <td>54.69</td>\n",
              "      <td>16059955</td>\n",
              "      <td>SBUX</td>\n",
              "    </tr>\n",
              "    <tr>\n",
              "      <th>1257</th>\n",
              "      <td>2018-02-06</td>\n",
              "      <td>53.685</td>\n",
              "      <td>56.06</td>\n",
              "      <td>53.56</td>\n",
              "      <td>55.61</td>\n",
              "      <td>17415065</td>\n",
              "      <td>SBUX</td>\n",
              "    </tr>\n",
              "    <tr>\n",
              "      <th>1258</th>\n",
              "      <td>2018-02-07</td>\n",
              "      <td>55.080</td>\n",
              "      <td>55.43</td>\n",
              "      <td>54.44</td>\n",
              "      <td>54.46</td>\n",
              "      <td>13927022</td>\n",
              "      <td>SBUX</td>\n",
              "    </tr>\n",
              "  </tbody>\n",
              "</table>\n",
              "</div>"
            ],
            "text/plain": [
              "            date    open   high    low  close    volume  Name\n",
              "1254  2018-02-01  56.280  56.42  55.89  56.00  14690146  SBUX\n",
              "1255  2018-02-02  55.900  56.32  55.70  55.77  15358909  SBUX\n",
              "1256  2018-02-05  55.530  56.26  54.57  54.69  16059955  SBUX\n",
              "1257  2018-02-06  53.685  56.06  53.56  55.61  17415065  SBUX\n",
              "1258  2018-02-07  55.080  55.43  54.44  54.46  13927022  SBUX"
            ]
          },
          "metadata": {
            "tags": []
          },
          "execution_count": 5
        }
      ]
    },
    {
      "cell_type": "code",
      "metadata": {
        "id": "dj6DIv34O074",
        "colab_type": "code",
        "colab": {}
      },
      "source": [
        "# Start by doing the WRONG thing - trying to predict the price itself\n",
        "series = df['close'].values.reshape(-1, 1)"
      ],
      "execution_count": 6,
      "outputs": []
    },
    {
      "cell_type": "code",
      "metadata": {
        "id": "XHrWqnAbO2QO",
        "colab_type": "code",
        "colab": {}
      },
      "source": [
        "# Normalize the data\n",
        "# Note: This is the approximate boundary.\n",
        "scaler = StandardScaler()\n",
        "scaler.fit(series[:len(series) // 2])\n",
        "series = scaler.transform(series).flatten()"
      ],
      "execution_count": 7,
      "outputs": []
    },
    {
      "cell_type": "code",
      "metadata": {
        "id": "_qafRijPO70Y",
        "colab_type": "code",
        "colab": {
          "base_uri": "https://localhost:8080/",
          "height": 34
        },
        "outputId": "b9903b0d-e9f2-4bfb-c7da-ba8926cc0f88"
      },
      "source": [
        "# build the dataset\n",
        "# let's see if we can use T past values to predict the next value\n",
        "T = 10\n",
        "D = 1\n",
        "X = []\n",
        "Y = []\n",
        "for t in range(len(series) - T):\n",
        "  x = series[t:t+T]\n",
        "  X.append(x)\n",
        "  y = series[t+T]\n",
        "  Y.append(y)\n",
        "\n",
        "X = np.array(X).reshape(-1, T, 1) # Now the data should be N x T x D\n",
        "Y = np.array(Y)\n",
        "N = len(X)\n",
        "print(\"X.shape\", X.shape, \"Y.shape\", Y.shape)"
      ],
      "execution_count": 8,
      "outputs": [
        {
          "output_type": "stream",
          "text": [
            "X.shape (1249, 10, 1) Y.shape (1249,)\n"
          ],
          "name": "stdout"
        }
      ]
    },
    {
      "cell_type": "code",
      "metadata": {
        "id": "R8fpkoMlO9jJ",
        "colab_type": "code",
        "colab": {
          "base_uri": "https://localhost:8080/",
          "height": 1000
        },
        "outputId": "1825a4bb-8416-4465-d925-d8f433e1b403"
      },
      "source": [
        "# try autoregressive RNN model\n",
        "i = Input(shape=(T, 1))\n",
        "x = LSTM(5)(i)\n",
        "x = Dense(1)(x)\n",
        "model = Model(i, x)\n",
        "model.compile(\n",
        "  loss='mse',\n",
        "  optimizer=Adam(lr=0.1),\n",
        ")\n",
        "\n",
        "# train the RNN\n",
        "r = model.fit(\n",
        "  X[:-N//2], Y[:-N//2],\n",
        "  epochs=80,\n",
        "  validation_data=(X[-N//2:], Y[-N//2:]),\n",
        ")"
      ],
      "execution_count": 9,
      "outputs": [
        {
          "output_type": "stream",
          "text": [
            "Epoch 1/80\n",
            "20/20 [==============================] - 1s 28ms/step - loss: 0.3466 - val_loss: 0.1319\n",
            "Epoch 2/80\n",
            "20/20 [==============================] - 0s 8ms/step - loss: 0.0125 - val_loss: 0.0210\n",
            "Epoch 3/80\n",
            "20/20 [==============================] - 0s 7ms/step - loss: 0.0072 - val_loss: 0.0244\n",
            "Epoch 4/80\n",
            "20/20 [==============================] - 0s 7ms/step - loss: 0.0067 - val_loss: 0.0169\n",
            "Epoch 5/80\n",
            "20/20 [==============================] - 0s 8ms/step - loss: 0.0063 - val_loss: 0.0271\n",
            "Epoch 6/80\n",
            "20/20 [==============================] - 0s 7ms/step - loss: 0.0065 - val_loss: 0.0240\n",
            "Epoch 7/80\n",
            "20/20 [==============================] - 0s 8ms/step - loss: 0.0064 - val_loss: 0.0206\n",
            "Epoch 8/80\n",
            "20/20 [==============================] - 0s 7ms/step - loss: 0.0059 - val_loss: 0.0322\n",
            "Epoch 9/80\n",
            "20/20 [==============================] - 0s 7ms/step - loss: 0.0057 - val_loss: 0.0269\n",
            "Epoch 10/80\n",
            "20/20 [==============================] - 0s 7ms/step - loss: 0.0058 - val_loss: 0.0329\n",
            "Epoch 11/80\n",
            "20/20 [==============================] - 0s 8ms/step - loss: 0.0058 - val_loss: 0.0201\n",
            "Epoch 12/80\n",
            "20/20 [==============================] - 0s 8ms/step - loss: 0.0063 - val_loss: 0.0214\n",
            "Epoch 13/80\n",
            "20/20 [==============================] - 0s 7ms/step - loss: 0.0058 - val_loss: 0.0203\n",
            "Epoch 14/80\n",
            "20/20 [==============================] - 0s 8ms/step - loss: 0.0084 - val_loss: 0.0249\n",
            "Epoch 15/80\n",
            "20/20 [==============================] - 0s 7ms/step - loss: 0.0069 - val_loss: 0.0231\n",
            "Epoch 16/80\n",
            "20/20 [==============================] - 0s 8ms/step - loss: 0.0066 - val_loss: 0.0204\n",
            "Epoch 17/80\n",
            "20/20 [==============================] - 0s 8ms/step - loss: 0.0063 - val_loss: 0.0187\n",
            "Epoch 18/80\n",
            "20/20 [==============================] - 0s 9ms/step - loss: 0.0065 - val_loss: 0.0307\n",
            "Epoch 19/80\n",
            "20/20 [==============================] - 0s 8ms/step - loss: 0.0061 - val_loss: 0.0220\n",
            "Epoch 20/80\n",
            "20/20 [==============================] - 0s 7ms/step - loss: 0.0059 - val_loss: 0.0228\n",
            "Epoch 21/80\n",
            "20/20 [==============================] - 0s 7ms/step - loss: 0.0067 - val_loss: 0.0214\n",
            "Epoch 22/80\n",
            "20/20 [==============================] - 0s 7ms/step - loss: 0.0058 - val_loss: 0.0210\n",
            "Epoch 23/80\n",
            "20/20 [==============================] - 0s 8ms/step - loss: 0.0055 - val_loss: 0.0203\n",
            "Epoch 24/80\n",
            "20/20 [==============================] - 0s 8ms/step - loss: 0.0079 - val_loss: 0.0229\n",
            "Epoch 25/80\n",
            "20/20 [==============================] - 0s 8ms/step - loss: 0.0072 - val_loss: 0.0203\n",
            "Epoch 26/80\n",
            "20/20 [==============================] - 0s 8ms/step - loss: 0.0058 - val_loss: 0.0206\n",
            "Epoch 27/80\n",
            "20/20 [==============================] - 0s 7ms/step - loss: 0.0055 - val_loss: 0.0185\n",
            "Epoch 28/80\n",
            "20/20 [==============================] - 0s 7ms/step - loss: 0.0065 - val_loss: 0.0459\n",
            "Epoch 29/80\n",
            "20/20 [==============================] - 0s 9ms/step - loss: 0.0054 - val_loss: 0.0201\n",
            "Epoch 30/80\n",
            "20/20 [==============================] - 0s 8ms/step - loss: 0.0055 - val_loss: 0.0591\n",
            "Epoch 31/80\n",
            "20/20 [==============================] - 0s 7ms/step - loss: 0.0059 - val_loss: 0.0321\n",
            "Epoch 32/80\n",
            "20/20 [==============================] - 0s 8ms/step - loss: 0.0057 - val_loss: 0.0264\n",
            "Epoch 33/80\n",
            "20/20 [==============================] - 0s 7ms/step - loss: 0.0060 - val_loss: 0.0185\n",
            "Epoch 34/80\n",
            "20/20 [==============================] - 0s 8ms/step - loss: 0.0060 - val_loss: 0.0209\n",
            "Epoch 35/80\n",
            "20/20 [==============================] - 0s 8ms/step - loss: 0.0056 - val_loss: 0.0283\n",
            "Epoch 36/80\n",
            "20/20 [==============================] - 0s 7ms/step - loss: 0.0063 - val_loss: 0.0237\n",
            "Epoch 37/80\n",
            "20/20 [==============================] - 0s 8ms/step - loss: 0.0077 - val_loss: 0.0210\n",
            "Epoch 38/80\n",
            "20/20 [==============================] - 0s 8ms/step - loss: 0.0058 - val_loss: 0.0237\n",
            "Epoch 39/80\n",
            "20/20 [==============================] - 0s 8ms/step - loss: 0.0054 - val_loss: 0.0229\n",
            "Epoch 40/80\n",
            "20/20 [==============================] - 0s 7ms/step - loss: 0.0056 - val_loss: 0.0229\n",
            "Epoch 41/80\n",
            "20/20 [==============================] - 0s 8ms/step - loss: 0.0059 - val_loss: 0.0217\n",
            "Epoch 42/80\n",
            "20/20 [==============================] - 0s 8ms/step - loss: 0.0060 - val_loss: 0.0331\n",
            "Epoch 43/80\n",
            "20/20 [==============================] - 0s 9ms/step - loss: 0.0066 - val_loss: 0.0231\n",
            "Epoch 44/80\n",
            "20/20 [==============================] - 0s 8ms/step - loss: 0.0053 - val_loss: 0.0372\n",
            "Epoch 45/80\n",
            "20/20 [==============================] - 0s 8ms/step - loss: 0.0073 - val_loss: 0.0257\n",
            "Epoch 46/80\n",
            "20/20 [==============================] - 0s 8ms/step - loss: 0.0073 - val_loss: 0.0374\n",
            "Epoch 47/80\n",
            "20/20 [==============================] - 0s 7ms/step - loss: 0.0071 - val_loss: 0.0337\n",
            "Epoch 48/80\n",
            "20/20 [==============================] - 0s 7ms/step - loss: 0.0062 - val_loss: 0.0198\n",
            "Epoch 49/80\n",
            "20/20 [==============================] - 0s 8ms/step - loss: 0.0054 - val_loss: 0.0260\n",
            "Epoch 50/80\n",
            "20/20 [==============================] - 0s 7ms/step - loss: 0.0053 - val_loss: 0.0315\n",
            "Epoch 51/80\n",
            "20/20 [==============================] - 0s 8ms/step - loss: 0.0059 - val_loss: 0.0365\n",
            "Epoch 52/80\n",
            "20/20 [==============================] - 0s 8ms/step - loss: 0.0058 - val_loss: 0.0256\n",
            "Epoch 53/80\n",
            "20/20 [==============================] - 0s 7ms/step - loss: 0.0064 - val_loss: 0.0283\n",
            "Epoch 54/80\n",
            "20/20 [==============================] - 0s 7ms/step - loss: 0.0068 - val_loss: 0.0245\n",
            "Epoch 55/80\n",
            "20/20 [==============================] - 0s 8ms/step - loss: 0.0072 - val_loss: 0.0601\n",
            "Epoch 56/80\n",
            "20/20 [==============================] - 0s 7ms/step - loss: 0.0084 - val_loss: 0.0298\n",
            "Epoch 57/80\n",
            "20/20 [==============================] - 0s 8ms/step - loss: 0.0056 - val_loss: 0.0311\n",
            "Epoch 58/80\n",
            "20/20 [==============================] - 0s 7ms/step - loss: 0.0056 - val_loss: 0.0318\n",
            "Epoch 59/80\n",
            "20/20 [==============================] - 0s 8ms/step - loss: 0.0056 - val_loss: 0.0244\n",
            "Epoch 60/80\n",
            "20/20 [==============================] - 0s 8ms/step - loss: 0.0054 - val_loss: 0.0225\n",
            "Epoch 61/80\n",
            "20/20 [==============================] - 0s 8ms/step - loss: 0.0056 - val_loss: 0.0352\n",
            "Epoch 62/80\n",
            "20/20 [==============================] - 0s 9ms/step - loss: 0.0054 - val_loss: 0.0229\n",
            "Epoch 63/80\n",
            "20/20 [==============================] - 0s 9ms/step - loss: 0.0059 - val_loss: 0.0382\n",
            "Epoch 64/80\n",
            "20/20 [==============================] - 0s 8ms/step - loss: 0.0057 - val_loss: 0.0261\n",
            "Epoch 65/80\n",
            "20/20 [==============================] - 0s 8ms/step - loss: 0.0051 - val_loss: 0.0272\n",
            "Epoch 66/80\n",
            "20/20 [==============================] - 0s 8ms/step - loss: 0.0054 - val_loss: 0.0247\n",
            "Epoch 67/80\n",
            "20/20 [==============================] - 0s 8ms/step - loss: 0.0056 - val_loss: 0.0195\n",
            "Epoch 68/80\n",
            "20/20 [==============================] - 0s 8ms/step - loss: 0.0078 - val_loss: 0.0295\n",
            "Epoch 69/80\n",
            "20/20 [==============================] - 0s 9ms/step - loss: 0.0064 - val_loss: 0.0505\n",
            "Epoch 70/80\n",
            "20/20 [==============================] - 0s 8ms/step - loss: 0.0060 - val_loss: 0.0299\n",
            "Epoch 71/80\n",
            "20/20 [==============================] - 0s 9ms/step - loss: 0.0052 - val_loss: 0.0266\n",
            "Epoch 72/80\n",
            "20/20 [==============================] - 0s 8ms/step - loss: 0.0052 - val_loss: 0.0267\n",
            "Epoch 73/80\n",
            "20/20 [==============================] - 0s 8ms/step - loss: 0.0058 - val_loss: 0.0813\n",
            "Epoch 74/80\n",
            "20/20 [==============================] - 0s 8ms/step - loss: 0.0068 - val_loss: 0.0239\n",
            "Epoch 75/80\n",
            "20/20 [==============================] - 0s 8ms/step - loss: 0.0053 - val_loss: 0.0350\n",
            "Epoch 76/80\n",
            "20/20 [==============================] - 0s 8ms/step - loss: 0.0057 - val_loss: 0.0278\n",
            "Epoch 77/80\n",
            "20/20 [==============================] - 0s 8ms/step - loss: 0.0064 - val_loss: 0.0245\n",
            "Epoch 78/80\n",
            "20/20 [==============================] - 0s 8ms/step - loss: 0.0063 - val_loss: 0.0422\n",
            "Epoch 79/80\n",
            "20/20 [==============================] - 0s 9ms/step - loss: 0.0055 - val_loss: 0.0372\n",
            "Epoch 80/80\n",
            "20/20 [==============================] - 0s 9ms/step - loss: 0.0060 - val_loss: 0.0238\n"
          ],
          "name": "stdout"
        }
      ]
    },
    {
      "cell_type": "code",
      "metadata": {
        "id": "iUX8ZYndO_jZ",
        "colab_type": "code",
        "colab": {
          "base_uri": "https://localhost:8080/",
          "height": 282
        },
        "outputId": "d66670d7-4978-4541-9934-313dce96d261"
      },
      "source": [
        "# Plot loss per iteration\n",
        "import matplotlib.pyplot as plt\n",
        "plt.plot(r.history['loss'], label='loss')\n",
        "plt.plot(r.history['val_loss'], label='val_loss')\n",
        "plt.legend()"
      ],
      "execution_count": 10,
      "outputs": [
        {
          "output_type": "execute_result",
          "data": {
            "text/plain": [
              "<matplotlib.legend.Legend at 0x7f57b8f5be80>"
            ]
          },
          "metadata": {
            "tags": []
          },
          "execution_count": 10
        },
        {
          "output_type": "display_data",
          "data": {
            "image/png": "[encoded data removed]",
            "text/plain": [
              "<Figure size 432x288 with 1 Axes>"
            ]
          },
          "metadata": {
            "tags": [],
            "needs_background": "light"
          }
        }
      ]
    },
    {
      "cell_type": "code",
      "metadata": {
        "id": "HJTlDa7LPFbA",
        "colab_type": "code",
        "colab": {
          "base_uri": "https://localhost:8080/",
          "height": 282
        },
        "outputId": "8b8c29e0-2c24-4ccd-be50-5077e0615e11"
      },
      "source": [
        "# One-step forecast using true targets\n",
        "outputs = model.predict(X)\n",
        "print(outputs.shape)\n",
        "predictions = outputs[:,0]\n",
        "\n",
        "plt.plot(Y, label='targets')\n",
        "plt.plot(predictions, label='predictions')\n",
        "plt.legend()\n",
        "plt.show()"
      ],
      "execution_count": 11,
      "outputs": [
        {
          "output_type": "stream",
          "text": [
            "(1249, 1)\n"
          ],
          "name": "stdout"
        },
        {
          "output_type": "display_data",
          "data": {
            "image/png": "[encoded data removed]",
            "text/plain": [
              "<Figure size 432x288 with 1 Axes>"
            ]
          },
          "metadata": {
            "tags": [],
            "needs_background": "light"
          }
        }
      ]
    },
    {
      "cell_type": "code",
      "metadata": {
        "id": "KNNUBOCnPG_V",
        "colab_type": "code",
        "colab": {
          "base_uri": "https://localhost:8080/",
          "height": 282
        },
        "outputId": "1cbb352f-f37a-4831-d04c-de29167dd80e"
      },
      "source": [
        "# Multi-step forecast\n",
        "validation_target = Y[-N//2:]\n",
        "validation_predictions = []\n",
        "\n",
        "# first validation input\n",
        "last_x = X[-N//2] # 1-D array of length T\n",
        "\n",
        "while len(validation_predictions) < len(validation_target):\n",
        "  p = model.predict(last_x.reshape(1, T, 1))[0,0] # 1x1 array -> scalar\n",
        "  \n",
        "  # update the predictions list\n",
        "  validation_predictions.append(p)\n",
        "  \n",
        "  # make the new input\n",
        "  last_x = np.roll(last_x, -1)\n",
        "  last_x[-1] = p\n",
        "\n",
        "plt.plot(validation_target, label='forecast target')\n",
        "plt.plot(validation_predictions, label='forecast prediction')\n",
        "plt.legend()"
      ],
      "execution_count": 12,
      "outputs": [
        {
          "output_type": "execute_result",
          "data": {
            "text/plain": [
              "<matplotlib.legend.Legend at 0x7f57b9a988d0>"
            ]
          },
          "metadata": {
            "tags": []
          },
          "execution_count": 12
        },
        {
          "output_type": "display_data",
          "data": {
            "image/png": "[encoded data removed]",
            "text/plain": [
              "<Figure size 432x288 with 1 Axes>"
            ]
          },
          "metadata": {
            "tags": [],
            "needs_background": "light"
          }
        }
      ]
    },
    {
      "cell_type": "code",
      "metadata": {
        "id": "t9kmEZZuPIWg",
        "colab_type": "code",
        "colab": {}
      },
      "source": [
        "# calculate returns by first shifting the data\n",
        "df['PrevClose'] = df['close'].shift(1) # move everything up 1\n",
        "\n",
        "# so now it's like\n",
        "# close / prev close\n",
        "# x[2] x[1]\n",
        "# x[3] x[2]\n",
        "# x[4] x[3]\n",
        "# ...\n",
        "# x[t] x[t-1]"
      ],
      "execution_count": 13,
      "outputs": []
    },
    {
      "cell_type": "code",
      "metadata": {
        "id": "DHuThcLMPNNV",
        "colab_type": "code",
        "colab": {
          "base_uri": "https://localhost:8080/",
          "height": 206
        },
        "outputId": "d541d9b8-f085-4d60-86a3-6ae13bbd4ba4"
      },
      "source": [
        "df.head()"
      ],
      "execution_count": 14,
      "outputs": [
        {
          "output_type": "execute_result",
          "data": {
            "text/html": [
              "<div>\n",
              "<style scoped>\n",
              "    .dataframe tbody tr th:only-of-type {\n",
              "        vertical-align: middle;\n",
              "    }\n",
              "\n",
              "    .dataframe tbody tr th {\n",
              "        vertical-align: top;\n",
              "    }\n",
              "\n",
              "    .dataframe thead th {\n",
              "        text-align: right;\n",
              "    }\n",
              "</style>\n",
              "<table border=\"1\" class=\"dataframe\">\n",
              "  <thead>\n",
              "    <tr style=\"text-align: right;\">\n",
              "      <th></th>\n",
              "      <th>date</th>\n",
              "      <th>open</th>\n",
              "      <th>high</th>\n",
              "      <th>low</th>\n",
              "      <th>close</th>\n",
              "      <th>volume</th>\n",
              "      <th>Name</th>\n",
              "      <th>PrevClose</th>\n",
              "    </tr>\n",
              "  </thead>\n",
              "  <tbody>\n",
              "    <tr>\n",
              "      <th>0</th>\n",
              "      <td>2013-02-08</td>\n",
              "      <td>27.920</td>\n",
              "      <td>28.325</td>\n",
              "      <td>27.920</td>\n",
              "      <td>28.185</td>\n",
              "      <td>7146296</td>\n",
              "      <td>SBUX</td>\n",
              "      <td>NaN</td>\n",
              "    </tr>\n",
              "    <tr>\n",
              "      <th>1</th>\n",
              "      <td>2013-02-11</td>\n",
              "      <td>28.260</td>\n",
              "      <td>28.260</td>\n",
              "      <td>27.930</td>\n",
              "      <td>28.070</td>\n",
              "      <td>5457354</td>\n",
              "      <td>SBUX</td>\n",
              "      <td>28.185</td>\n",
              "    </tr>\n",
              "    <tr>\n",
              "      <th>2</th>\n",
              "      <td>2013-02-12</td>\n",
              "      <td>28.000</td>\n",
              "      <td>28.275</td>\n",
              "      <td>27.975</td>\n",
              "      <td>28.130</td>\n",
              "      <td>8665592</td>\n",
              "      <td>SBUX</td>\n",
              "      <td>28.070</td>\n",
              "    </tr>\n",
              "    <tr>\n",
              "      <th>3</th>\n",
              "      <td>2013-02-13</td>\n",
              "      <td>28.230</td>\n",
              "      <td>28.230</td>\n",
              "      <td>27.750</td>\n",
              "      <td>27.915</td>\n",
              "      <td>7022056</td>\n",
              "      <td>SBUX</td>\n",
              "      <td>28.130</td>\n",
              "    </tr>\n",
              "    <tr>\n",
              "      <th>4</th>\n",
              "      <td>2013-02-14</td>\n",
              "      <td>27.765</td>\n",
              "      <td>27.905</td>\n",
              "      <td>27.675</td>\n",
              "      <td>27.775</td>\n",
              "      <td>8899188</td>\n",
              "      <td>SBUX</td>\n",
              "      <td>27.915</td>\n",
              "    </tr>\n",
              "  </tbody>\n",
              "</table>\n",
              "</div>"
            ],
            "text/plain": [
              "         date    open    high     low   close   volume  Name  PrevClose\n",
              "0  2013-02-08  27.920  28.325  27.920  28.185  7146296  SBUX        NaN\n",
              "1  2013-02-11  28.260  28.260  27.930  28.070  5457354  SBUX     28.185\n",
              "2  2013-02-12  28.000  28.275  27.975  28.130  8665592  SBUX     28.070\n",
              "3  2013-02-13  28.230  28.230  27.750  27.915  7022056  SBUX     28.130\n",
              "4  2013-02-14  27.765  27.905  27.675  27.775  8899188  SBUX     27.915"
            ]
          },
          "metadata": {
            "tags": []
          },
          "execution_count": 14
        }
      ]
    },
    {
      "cell_type": "code",
      "metadata": {
        "id": "0k3GLm9xPOmt",
        "colab_type": "code",
        "colab": {}
      },
      "source": [
        "# then the return is\n",
        "# (x[t] - x[t-1]) / x[t-1]\n",
        "df['Return'] = (df['close'] - df['PrevClose']) / df['PrevClose']"
      ],
      "execution_count": 15,
      "outputs": []
    },
    {
      "cell_type": "code",
      "metadata": {
        "id": "lwhuHSzpPQTm",
        "colab_type": "code",
        "colab": {
          "base_uri": "https://localhost:8080/",
          "height": 206
        },
        "outputId": "bebc66ff-5e5e-4e08-e269-558831edbe26"
      },
      "source": [
        "df.head()"
      ],
      "execution_count": 16,
      "outputs": [
        {
          "output_type": "execute_result",
          "data": {
            "text/html": [
              "<div>\n",
              "<style scoped>\n",
              "    .dataframe tbody tr th:only-of-type {\n",
              "        vertical-align: middle;\n",
              "    }\n",
              "\n",
              "    .dataframe tbody tr th {\n",
              "        vertical-align: top;\n",
              "    }\n",
              "\n",
              "    .dataframe thead th {\n",
              "        text-align: right;\n",
              "    }\n",
              "</style>\n",
              "<table border=\"1\" class=\"dataframe\">\n",
              "  <thead>\n",
              "    <tr style=\"text-align: right;\">\n",
              "      <th></th>\n",
              "      <th>date</th>\n",
              "      <th>open</th>\n",
              "      <th>high</th>\n",
              "      <th>low</th>\n",
              "      <th>close</th>\n",
              "      <th>volume</th>\n",
              "      <th>Name</th>\n",
              "      <th>PrevClose</th>\n",
              "      <th>Return</th>\n",
              "    </tr>\n",
              "  </thead>\n",
              "  <tbody>\n",
              "    <tr>\n",
              "      <th>0</th>\n",
              "      <td>2013-02-08</td>\n",
              "      <td>27.920</td>\n",
              "      <td>28.325</td>\n",
              "      <td>27.920</td>\n",
              "      <td>28.185</td>\n",
              "      <td>7146296</td>\n",
              "      <td>SBUX</td>\n",
              "      <td>NaN</td>\n",
              "      <td>NaN</td>\n",
              "    </tr>\n",
              "    <tr>\n",
              "      <th>1</th>\n",
              "      <td>2013-02-11</td>\n",
              "      <td>28.260</td>\n",
              "      <td>28.260</td>\n",
              "      <td>27.930</td>\n",
              "      <td>28.070</td>\n",
              "      <td>5457354</td>\n",
              "      <td>SBUX</td>\n",
              "      <td>28.185</td>\n",
              "      <td>-0.004080</td>\n",
              "    </tr>\n",
              "    <tr>\n",
              "      <th>2</th>\n",
              "      <td>2013-02-12</td>\n",
              "      <td>28.000</td>\n",
              "      <td>28.275</td>\n",
              "      <td>27.975</td>\n",
              "      <td>28.130</td>\n",
              "      <td>8665592</td>\n",
              "      <td>SBUX</td>\n",
              "      <td>28.070</td>\n",
              "      <td>0.002138</td>\n",
              "    </tr>\n",
              "    <tr>\n",
              "      <th>3</th>\n",
              "      <td>2013-02-13</td>\n",
              "      <td>28.230</td>\n",
              "      <td>28.230</td>\n",
              "      <td>27.750</td>\n",
              "      <td>27.915</td>\n",
              "      <td>7022056</td>\n",
              "      <td>SBUX</td>\n",
              "      <td>28.130</td>\n",
              "      <td>-0.007643</td>\n",
              "    </tr>\n",
              "    <tr>\n",
              "      <th>4</th>\n",
              "      <td>2013-02-14</td>\n",
              "      <td>27.765</td>\n",
              "      <td>27.905</td>\n",
              "      <td>27.675</td>\n",
              "      <td>27.775</td>\n",
              "      <td>8899188</td>\n",
              "      <td>SBUX</td>\n",
              "      <td>27.915</td>\n",
              "      <td>-0.005015</td>\n",
              "    </tr>\n",
              "  </tbody>\n",
              "</table>\n",
              "</div>"
            ],
            "text/plain": [
              "         date    open    high     low  ...   volume  Name PrevClose    Return\n",
              "0  2013-02-08  27.920  28.325  27.920  ...  7146296  SBUX       NaN       NaN\n",
              "1  2013-02-11  28.260  28.260  27.930  ...  5457354  SBUX    28.185 -0.004080\n",
              "2  2013-02-12  28.000  28.275  27.975  ...  8665592  SBUX    28.070  0.002138\n",
              "3  2013-02-13  28.230  28.230  27.750  ...  7022056  SBUX    28.130 -0.007643\n",
              "4  2013-02-14  27.765  27.905  27.675  ...  8899188  SBUX    27.915 -0.005015\n",
              "\n",
              "[5 rows x 9 columns]"
            ]
          },
          "metadata": {
            "tags": []
          },
          "execution_count": 16
        }
      ]
    },
    {
      "cell_type": "code",
      "metadata": {
        "id": "RraE_kmPPRN3",
        "colab_type": "code",
        "colab": {
          "base_uri": "https://localhost:8080/",
          "height": 282
        },
        "outputId": "64f05b15-e98f-4370-b5a7-6ffba71735fe"
      },
      "source": [
        "# Now let's try an LSTM to predict returns\n",
        "df['Return'].hist()"
      ],
      "execution_count": 17,
      "outputs": [
        {
          "output_type": "execute_result",
          "data": {
            "text/plain": [
              "<matplotlib.axes._subplots.AxesSubplot at 0x7f57b8ee7940>"
            ]
          },
          "metadata": {
            "tags": []
          },
          "execution_count": 17
        },
        {
          "output_type": "display_data",
          "data": {
            "image/png": "[encoded data removed]",
            "text/plain": [
              "<Figure size 432x288 with 1 Axes>"
            ]
          },
          "metadata": {
            "tags": [],
            "needs_background": "light"
          }
        }
      ]
    },
    {
      "cell_type": "code",
      "metadata": {
        "id": "qQLN_e1aPSR-",
        "colab_type": "code",
        "colab": {}
      },
      "source": [
        "series = df['Return'].values[1:].reshape(-1, 1)\n",
        "\n",
        "# Normalize the data\n",
        "# Note: I didn't think about where the true boundary is, this is just approx.\n",
        "scaler = StandardScaler()\n",
        "scaler.fit(series[:len(series) // 2])\n",
        "series = scaler.transform(series).flatten()"
      ],
      "execution_count": 18,
      "outputs": []
    },
    {
      "cell_type": "code",
      "metadata": {
        "id": "RJVGgGx9PUJp",
        "colab_type": "code",
        "colab": {
          "base_uri": "https://localhost:8080/",
          "height": 34
        },
        "outputId": "d14e999f-3e02-4a7f-ca22-411d88397bf1"
      },
      "source": [
        "# build the dataset\n",
        "# let's see if we can use T past values to predict the next value\n",
        "T = 10\n",
        "D = 1\n",
        "X = []\n",
        "Y = []\n",
        "for t in range(len(series) - T):\n",
        "  x = series[t:t+T]\n",
        "  X.append(x)\n",
        "  y = series[t+T]\n",
        "  Y.append(y)\n",
        "\n",
        "X = np.array(X).reshape(-1, T, 1) # Now the data should be N x T x D\n",
        "Y = np.array(Y)\n",
        "N = len(X)\n",
        "print(\"X.shape\", X.shape, \"Y.shape\", Y.shape)"
      ],
      "execution_count": 19,
      "outputs": [
        {
          "output_type": "stream",
          "text": [
            "X.shape (1248, 10, 1) Y.shape (1248,)\n"
          ],
          "name": "stdout"
        }
      ]
    },
    {
      "cell_type": "code",
      "metadata": {
        "id": "GH3gbB78PVlz",
        "colab_type": "code",
        "colab": {
          "base_uri": "https://localhost:8080/",
          "height": 1000
        },
        "outputId": "cc5183d9-9e4f-4eb3-e734-e2b0f9cc5239"
      },
      "source": [
        "# try autoregressive RNN model\n",
        "i = Input(shape=(T, 1))\n",
        "x = LSTM(5)(i)\n",
        "x = Dense(1)(x)\n",
        "model = Model(i, x)\n",
        "model.compile(\n",
        "  loss='mse',\n",
        "  optimizer=Adam(lr=0.01),\n",
        ")\n",
        "\n",
        "# train the RNN\n",
        "r = model.fit(\n",
        "  X[:-N//2], Y[:-N//2],\n",
        "  epochs=80,\n",
        "  validation_data=(X[-N//2:], Y[-N//2:]),\n",
        ")"
      ],
      "execution_count": 20,
      "outputs": [
        {
          "output_type": "stream",
          "text": [
            "Epoch 1/80\n",
            "20/20 [==============================] - 0s 25ms/step - loss: 0.9989 - val_loss: 1.1394\n",
            "Epoch 2/80\n",
            "20/20 [==============================] - 0s 8ms/step - loss: 0.9923 - val_loss: 1.1692\n",
            "Epoch 3/80\n",
            "20/20 [==============================] - 0s 8ms/step - loss: 0.9839 - val_loss: 1.1477\n",
            "Epoch 4/80\n",
            "20/20 [==============================] - 0s 9ms/step - loss: 0.9879 - val_loss: 1.1489\n",
            "Epoch 5/80\n",
            "20/20 [==============================] - 0s 8ms/step - loss: 0.9860 - val_loss: 1.1576\n",
            "Epoch 6/80\n",
            "20/20 [==============================] - 0s 8ms/step - loss: 0.9821 - val_loss: 1.1387\n",
            "Epoch 7/80\n",
            "20/20 [==============================] - 0s 8ms/step - loss: 0.9820 - val_loss: 1.1570\n",
            "Epoch 8/80\n",
            "20/20 [==============================] - 0s 8ms/step - loss: 0.9821 - val_loss: 1.1679\n",
            "Epoch 9/80\n",
            "20/20 [==============================] - 0s 8ms/step - loss: 0.9810 - val_loss: 1.1443\n",
            "Epoch 10/80\n",
            "20/20 [==============================] - 0s 8ms/step - loss: 0.9795 - val_loss: 1.1552\n",
            "Epoch 11/80\n",
            "20/20 [==============================] - 0s 8ms/step - loss: 0.9757 - val_loss: 1.1459\n",
            "Epoch 12/80\n",
            "20/20 [==============================] - 0s 8ms/step - loss: 0.9807 - val_loss: 1.1549\n",
            "Epoch 13/80\n",
            "20/20 [==============================] - 0s 9ms/step - loss: 0.9766 - val_loss: 1.1582\n",
            "Epoch 14/80\n",
            "20/20 [==============================] - 0s 8ms/step - loss: 0.9731 - val_loss: 1.1544\n",
            "Epoch 15/80\n",
            "20/20 [==============================] - 0s 8ms/step - loss: 0.9748 - val_loss: 1.1507\n",
            "Epoch 16/80\n",
            "20/20 [==============================] - 0s 8ms/step - loss: 0.9739 - val_loss: 1.1507\n",
            "Epoch 17/80\n",
            "20/20 [==============================] - 0s 8ms/step - loss: 0.9712 - val_loss: 1.1597\n",
            "Epoch 18/80\n",
            "20/20 [==============================] - 0s 8ms/step - loss: 0.9687 - val_loss: 1.1593\n",
            "Epoch 19/80\n",
            "20/20 [==============================] - 0s 8ms/step - loss: 0.9639 - val_loss: 1.1509\n",
            "Epoch 20/80\n",
            "20/20 [==============================] - 0s 8ms/step - loss: 0.9630 - val_loss: 1.1543\n",
            "Epoch 21/80\n",
            "20/20 [==============================] - 0s 8ms/step - loss: 0.9725 - val_loss: 1.1709\n",
            "Epoch 22/80\n",
            "20/20 [==============================] - 0s 8ms/step - loss: 0.9676 - val_loss: 1.1722\n",
            "Epoch 23/80\n",
            "20/20 [==============================] - 0s 8ms/step - loss: 0.9564 - val_loss: 1.1816\n",
            "Epoch 24/80\n",
            "20/20 [==============================] - 0s 8ms/step - loss: 0.9584 - val_loss: 1.2013\n",
            "Epoch 25/80\n",
            "20/20 [==============================] - 0s 9ms/step - loss: 0.9491 - val_loss: 1.2155\n",
            "Epoch 26/80\n",
            "20/20 [==============================] - 0s 8ms/step - loss: 0.9528 - val_loss: 1.1976\n",
            "Epoch 27/80\n",
            "20/20 [==============================] - 0s 8ms/step - loss: 0.9471 - val_loss: 1.2003\n",
            "Epoch 28/80\n",
            "20/20 [==============================] - 0s 8ms/step - loss: 0.9429 - val_loss: 1.1932\n",
            "Epoch 29/80\n",
            "20/20 [==============================] - 0s 8ms/step - loss: 0.9472 - val_loss: 1.2032\n",
            "Epoch 30/80\n",
            "20/20 [==============================] - 0s 8ms/step - loss: 0.9304 - val_loss: 1.2077\n",
            "Epoch 31/80\n",
            "20/20 [==============================] - 0s 8ms/step - loss: 0.9265 - val_loss: 1.2175\n",
            "Epoch 32/80\n",
            "20/20 [==============================] - 0s 8ms/step - loss: 0.9343 - val_loss: 1.2686\n",
            "Epoch 33/80\n",
            "20/20 [==============================] - 0s 8ms/step - loss: 0.9207 - val_loss: 1.2328\n",
            "Epoch 34/80\n",
            "20/20 [==============================] - 0s 7ms/step - loss: 0.9192 - val_loss: 1.2637\n",
            "Epoch 35/80\n",
            "20/20 [==============================] - 0s 8ms/step - loss: 0.9184 - val_loss: 1.2377\n",
            "Epoch 36/80\n",
            "20/20 [==============================] - 0s 7ms/step - loss: 0.9220 - val_loss: 1.2741\n",
            "Epoch 37/80\n",
            "20/20 [==============================] - 0s 8ms/step - loss: 0.9050 - val_loss: 1.2684\n",
            "Epoch 38/80\n",
            "20/20 [==============================] - 0s 8ms/step - loss: 0.9241 - val_loss: 1.2743\n",
            "Epoch 39/80\n",
            "20/20 [==============================] - 0s 9ms/step - loss: 0.9049 - val_loss: 1.2897\n",
            "Epoch 40/80\n",
            "20/20 [==============================] - 0s 8ms/step - loss: 0.9046 - val_loss: 1.3111\n",
            "Epoch 41/80\n",
            "20/20 [==============================] - 0s 8ms/step - loss: 0.8991 - val_loss: 1.2893\n",
            "Epoch 42/80\n",
            "20/20 [==============================] - 0s 8ms/step - loss: 0.9022 - val_loss: 1.3277\n",
            "Epoch 43/80\n",
            "20/20 [==============================] - 0s 8ms/step - loss: 0.8995 - val_loss: 1.3772\n",
            "Epoch 44/80\n",
            "20/20 [==============================] - 0s 8ms/step - loss: 0.8941 - val_loss: 1.3263\n",
            "Epoch 45/80\n",
            "20/20 [==============================] - 0s 9ms/step - loss: 0.8917 - val_loss: 1.2899\n",
            "Epoch 46/80\n",
            "20/20 [==============================] - 0s 8ms/step - loss: 0.8905 - val_loss: 1.3730\n",
            "Epoch 47/80\n",
            "20/20 [==============================] - 0s 8ms/step - loss: 0.8873 - val_loss: 1.3089\n",
            "Epoch 48/80\n",
            "20/20 [==============================] - 0s 8ms/step - loss: 0.8821 - val_loss: 1.3673\n",
            "Epoch 49/80\n",
            "20/20 [==============================] - 0s 8ms/step - loss: 0.8846 - val_loss: 1.3154\n",
            "Epoch 50/80\n",
            "20/20 [==============================] - 0s 8ms/step - loss: 0.8777 - val_loss: 1.3411\n",
            "Epoch 51/80\n",
            "20/20 [==============================] - 0s 8ms/step - loss: 0.8760 - val_loss: 1.3923\n",
            "Epoch 52/80\n",
            "20/20 [==============================] - 0s 8ms/step - loss: 0.8825 - val_loss: 1.3155\n",
            "Epoch 53/80\n",
            "20/20 [==============================] - 0s 8ms/step - loss: 0.8737 - val_loss: 1.3936\n",
            "Epoch 54/80\n",
            "20/20 [==============================] - 0s 8ms/step - loss: 0.8796 - val_loss: 1.3393\n",
            "Epoch 55/80\n",
            "20/20 [==============================] - 0s 8ms/step - loss: 0.8744 - val_loss: 1.3320\n",
            "Epoch 56/80\n",
            "20/20 [==============================] - 0s 8ms/step - loss: 0.8767 - val_loss: 1.4074\n",
            "Epoch 57/80\n",
            "20/20 [==============================] - 0s 8ms/step - loss: 0.9000 - val_loss: 1.3153\n",
            "Epoch 58/80\n",
            "20/20 [==============================] - 0s 8ms/step - loss: 0.8775 - val_loss: 1.3232\n",
            "Epoch 59/80\n",
            "20/20 [==============================] - 0s 8ms/step - loss: 0.8719 - val_loss: 1.3810\n",
            "Epoch 60/80\n",
            "20/20 [==============================] - 0s 8ms/step - loss: 0.8572 - val_loss: 1.3929\n",
            "Epoch 61/80\n",
            "20/20 [==============================] - 0s 8ms/step - loss: 0.8590 - val_loss: 1.3642\n",
            "Epoch 62/80\n",
            "20/20 [==============================] - 0s 8ms/step - loss: 0.8556 - val_loss: 1.4169\n",
            "Epoch 63/80\n",
            "20/20 [==============================] - 0s 8ms/step - loss: 0.8543 - val_loss: 1.4067\n",
            "Epoch 64/80\n",
            "20/20 [==============================] - 0s 8ms/step - loss: 0.8628 - val_loss: 1.4348\n",
            "Epoch 65/80\n",
            "20/20 [==============================] - 0s 8ms/step - loss: 0.8570 - val_loss: 1.3873\n",
            "Epoch 66/80\n",
            "20/20 [==============================] - 0s 9ms/step - loss: 0.8450 - val_loss: 1.4379\n",
            "Epoch 67/80\n",
            "20/20 [==============================] - 0s 9ms/step - loss: 0.8601 - val_loss: 1.3982\n",
            "Epoch 68/80\n",
            "20/20 [==============================] - 0s 8ms/step - loss: 0.8523 - val_loss: 1.3223\n",
            "Epoch 69/80\n",
            "20/20 [==============================] - 0s 8ms/step - loss: 0.8536 - val_loss: 1.5244\n",
            "Epoch 70/80\n",
            "20/20 [==============================] - 0s 8ms/step - loss: 0.8567 - val_loss: 1.4676\n",
            "Epoch 71/80\n",
            "20/20 [==============================] - 0s 8ms/step - loss: 0.8380 - val_loss: 1.3916\n",
            "Epoch 72/80\n",
            "20/20 [==============================] - 0s 8ms/step - loss: 0.8455 - val_loss: 1.4249\n",
            "Epoch 73/80\n",
            "20/20 [==============================] - 0s 8ms/step - loss: 0.8433 - val_loss: 1.4304\n",
            "Epoch 74/80\n",
            "20/20 [==============================] - 0s 8ms/step - loss: 0.8365 - val_loss: 1.4699\n",
            "Epoch 75/80\n",
            "20/20 [==============================] - 0s 9ms/step - loss: 0.8401 - val_loss: 1.3675\n",
            "Epoch 76/80\n",
            "20/20 [==============================] - 0s 8ms/step - loss: 0.8287 - val_loss: 1.4290\n",
            "Epoch 77/80\n",
            "20/20 [==============================] - 0s 8ms/step - loss: 0.8186 - val_loss: 1.4358\n",
            "Epoch 78/80\n",
            "20/20 [==============================] - 0s 8ms/step - loss: 0.8227 - val_loss: 1.4735\n",
            "Epoch 79/80\n",
            "20/20 [==============================] - 0s 8ms/step - loss: 0.8197 - val_loss: 1.4416\n",
            "Epoch 80/80\n",
            "20/20 [==============================] - 0s 8ms/step - loss: 0.8131 - val_loss: 1.4505\n"
          ],
          "name": "stdout"
        }
      ]
    },
    {
      "cell_type": "code",
      "metadata": {
        "id": "6ZdLKX5aPXh6",
        "colab_type": "code",
        "colab": {
          "base_uri": "https://localhost:8080/",
          "height": 282
        },
        "outputId": "f3ec4b65-8859-4f61-a808-a9c47f07ffdc"
      },
      "source": [
        "# Plot loss per iteration\n",
        "import matplotlib.pyplot as plt\n",
        "plt.plot(r.history['loss'], label='loss')\n",
        "plt.plot(r.history['val_loss'], label='val_loss')\n",
        "plt.legend()"
      ],
      "execution_count": 21,
      "outputs": [
        {
          "output_type": "execute_result",
          "data": {
            "text/plain": [
              "<matplotlib.legend.Legend at 0x7f57b97d42b0>"
            ]
          },
          "metadata": {
            "tags": []
          },
          "execution_count": 21
        },
        {
          "output_type": "display_data",
          "data": {
            "image/png": "[encoded data removed]",
            "text/plain": [
              "<Figure size 432x288 with 1 Axes>"
            ]
          },
          "metadata": {
            "tags": [],
            "needs_background": "light"
          }
        }
      ]
    },
    {
      "cell_type": "code",
      "metadata": {
        "id": "VyjvkwVCPb0W",
        "colab_type": "code",
        "colab": {
          "base_uri": "https://localhost:8080/",
          "height": 282
        },
        "outputId": "e5692a80-ea5d-41cc-850f-9efc813f4a7c"
      },
      "source": [
        "# One-step forecast using true targets\n",
        "outputs = model.predict(X)\n",
        "print(outputs.shape)\n",
        "predictions = outputs[:,0]\n",
        "\n",
        "plt.plot(Y, label='targets')\n",
        "plt.plot(predictions, label='predictions')\n",
        "plt.legend()\n",
        "plt.show()"
      ],
      "execution_count": 22,
      "outputs": [
        {
          "output_type": "stream",
          "text": [
            "(1248, 1)\n"
          ],
          "name": "stdout"
        },
        {
          "output_type": "display_data",
          "data": {
            "image/png": "[encoded data removed]",
            "text/plain": [
              "<Figure size 432x288 with 1 Axes>"
            ]
          },
          "metadata": {
            "tags": [],
            "needs_background": "light"
          }
        }
      ]
    },
    {
      "cell_type": "code",
      "metadata": {
        "id": "jHwsJxDdPdGh",
        "colab_type": "code",
        "colab": {
          "base_uri": "https://localhost:8080/",
          "height": 282
        },
        "outputId": "1a308cd4-abaa-435d-a5a7-7c5d7f1f2ed5"
      },
      "source": [
        "# Multi-step forecast\n",
        "validation_target = Y[-N//2:]\n",
        "validation_predictions = []\n",
        "\n",
        "# first validation input\n",
        "last_x = X[-N//2] # 1-D array of length T\n",
        "\n",
        "while len(validation_predictions) < len(validation_target):\n",
        "  p = model.predict(last_x.reshape(1, T, 1))[0,0] # 1x1 array -> scalar\n",
        "  \n",
        "  # update the predictions list\n",
        "  validation_predictions.append(p)\n",
        "  \n",
        "  # make the new input\n",
        "  last_x = np.roll(last_x, -1)\n",
        "  last_x[-1] = p\n",
        "\n",
        "plt.plot(validation_target, label='forecast target')\n",
        "plt.plot(validation_predictions, label='forecast prediction')\n",
        "plt.legend()"
      ],
      "execution_count": 23,
      "outputs": [
        {
          "output_type": "execute_result",
          "data": {
            "text/plain": [
              "<matplotlib.legend.Legend at 0x7f57b972a940>"
            ]
          },
          "metadata": {
            "tags": []
          },
          "execution_count": 23
        },
        {
          "output_type": "display_data",
          "data": {
            "image/png": "[encoded data removed]",
            "text/plain": [
              "<Figure size 432x288 with 1 Axes>"
            ]
          },
          "metadata": {
            "tags": [],
            "needs_background": "light"
          }
        }
      ]
    },
    {
      "cell_type": "code",
      "metadata": {
        "id": "n5-GKyY4Penn",
        "colab_type": "code",
        "colab": {}
      },
      "source": [
        "# Now turn the full data into numpy arrays\n",
        "\n",
        "# Not yet in the final \"X\" format!\n",
        "input_data = df[['open', 'high', 'low', 'close', 'volume']].values\n",
        "targets = df['Return'].values"
      ],
      "execution_count": 24,
      "outputs": []
    },
    {
      "cell_type": "code",
      "metadata": {
        "id": "I-divWQMPjzI",
        "colab_type": "code",
        "colab": {}
      },
      "source": [
        "# Now make the actual data which will go into the neural network\n",
        "T = 10 # the number of time steps to look at to make a prediction for the next day\n",
        "D = input_data.shape[1]\n",
        "N = len(input_data) - T # (e.g. if T=10 and you have 11 data points then you'd only have 1 sample)"
      ],
      "execution_count": 25,
      "outputs": []
    },
    {
      "cell_type": "code",
      "metadata": {
        "id": "Dyooqn_IPlOg",
        "colab_type": "code",
        "colab": {}
      },
      "source": [
        "# normalize the inputs\n",
        "Ntrain = len(input_data) * 2 // 3\n",
        "scaler = StandardScaler()\n",
        "scaler.fit(input_data[:Ntrain + T - 1])\n",
        "input_data = scaler.transform(input_data)"
      ],
      "execution_count": 26,
      "outputs": []
    },
    {
      "cell_type": "code",
      "metadata": {
        "id": "oytpXWYSPmMN",
        "colab_type": "code",
        "colab": {}
      },
      "source": [
        "# Setup X_train and Y_train\n",
        "X_train = np.zeros((Ntrain, T, D))\n",
        "Y_train = np.zeros(Ntrain)\n",
        "\n",
        "for t in range(Ntrain):\n",
        "  X_train[t, :, :] = input_data[t:t+T]\n",
        "  Y_train[t] = (targets[t+T] > 0)"
      ],
      "execution_count": 27,
      "outputs": []
    },
    {
      "cell_type": "code",
      "metadata": {
        "id": "Mto1GRDHPnGv",
        "colab_type": "code",
        "colab": {}
      },
      "source": [
        "# Setup X_test and Y_test\n",
        "X_test = np.zeros((N - Ntrain, T, D))\n",
        "Y_test = np.zeros(N - Ntrain)\n",
        "\n",
        "for u in range(N - Ntrain):\n",
        "  # u counts from 0...(N - Ntrain)\n",
        "  # t counts from Ntrain...N\n",
        "  t = u + Ntrain\n",
        "  X_test[u, :, :] = input_data[t:t+T]\n",
        "  Y_test[u] = (targets[t+T] > 0)"
      ],
      "execution_count": 28,
      "outputs": []
    },
    {
      "cell_type": "code",
      "metadata": {
        "id": "rnDbX2DfPoMz",
        "colab_type": "code",
        "colab": {}
      },
      "source": [
        "# make the RNN\n",
        "i = Input(shape=(T, D))\n",
        "x = LSTM(50)(i)\n",
        "x = Dense(1, activation='sigmoid')(x)\n",
        "model = Model(i, x)\n",
        "model.compile(\n",
        "  loss='binary_crossentropy',\n",
        "  optimizer=Adam(lr=0.001),\n",
        "  metrics=['accuracy'],\n",
        ")"
      ],
      "execution_count": 29,
      "outputs": []
    },
    {
      "cell_type": "code",
      "metadata": {
        "id": "fGRxx_bZPpJU",
        "colab_type": "code",
        "colab": {
          "base_uri": "https://localhost:8080/",
          "height": 1000
        },
        "outputId": "b0db03b7-bcbc-4b16-cd7a-d717fe6959e6"
      },
      "source": [
        "# train the RNN\n",
        "r = model.fit(\n",
        "  X_train, Y_train,\n",
        "  batch_size=32,\n",
        "  epochs=300,\n",
        "  validation_data=(X_test, Y_test),\n",
        ")"
      ],
      "execution_count": 30,
      "outputs": [
        {
          "output_type": "stream",
          "text": [
            "Epoch 1/300\n",
            "27/27 [==============================] - 1s 22ms/step - loss: 0.6950 - accuracy: 0.5173 - val_loss: 0.7013 - val_accuracy: 0.4854\n",
            "Epoch 2/300\n",
            "27/27 [==============================] - 0s 8ms/step - loss: 0.6944 - accuracy: 0.5066 - val_loss: 0.6967 - val_accuracy: 0.4878\n",
            "Epoch 3/300\n",
            "27/27 [==============================] - 0s 8ms/step - loss: 0.6925 - accuracy: 0.5185 - val_loss: 0.7011 - val_accuracy: 0.4854\n",
            "Epoch 4/300\n",
            "27/27 [==============================] - 0s 8ms/step - loss: 0.6903 - accuracy: 0.5304 - val_loss: 0.6903 - val_accuracy: 0.5268\n",
            "Epoch 5/300\n",
            "27/27 [==============================] - 0s 8ms/step - loss: 0.6907 - accuracy: 0.5149 - val_loss: 0.6936 - val_accuracy: 0.4976\n",
            "Epoch 6/300\n",
            "27/27 [==============================] - 0s 8ms/step - loss: 0.6903 - accuracy: 0.5304 - val_loss: 0.6952 - val_accuracy: 0.4927\n",
            "Epoch 7/300\n",
            "27/27 [==============================] - 0s 8ms/step - loss: 0.6892 - accuracy: 0.5268 - val_loss: 0.6908 - val_accuracy: 0.5390\n",
            "Epoch 8/300\n",
            "27/27 [==============================] - 0s 8ms/step - loss: 0.6909 - accuracy: 0.5149 - val_loss: 0.6958 - val_accuracy: 0.4951\n",
            "Epoch 9/300\n",
            "27/27 [==============================] - 0s 8ms/step - loss: 0.6910 - accuracy: 0.5209 - val_loss: 0.6932 - val_accuracy: 0.4976\n",
            "Epoch 10/300\n",
            "27/27 [==============================] - 0s 8ms/step - loss: 0.6903 - accuracy: 0.5375 - val_loss: 0.6917 - val_accuracy: 0.5122\n",
            "Epoch 11/300\n",
            "27/27 [==============================] - 0s 8ms/step - loss: 0.6879 - accuracy: 0.5411 - val_loss: 0.6944 - val_accuracy: 0.4951\n",
            "Epoch 12/300\n",
            "27/27 [==============================] - 0s 9ms/step - loss: 0.6874 - accuracy: 0.5447 - val_loss: 0.6951 - val_accuracy: 0.4902\n",
            "Epoch 13/300\n",
            "27/27 [==============================] - 0s 8ms/step - loss: 0.6868 - accuracy: 0.5364 - val_loss: 0.6908 - val_accuracy: 0.5146\n",
            "Epoch 14/300\n",
            "27/27 [==============================] - 0s 8ms/step - loss: 0.6874 - accuracy: 0.5328 - val_loss: 0.6901 - val_accuracy: 0.5341\n",
            "Epoch 15/300\n",
            "27/27 [==============================] - 0s 8ms/step - loss: 0.6869 - accuracy: 0.5495 - val_loss: 0.6936 - val_accuracy: 0.5024\n",
            "Epoch 16/300\n",
            "27/27 [==============================] - 0s 8ms/step - loss: 0.6865 - accuracy: 0.5542 - val_loss: 0.6914 - val_accuracy: 0.5195\n",
            "Epoch 17/300\n",
            "27/27 [==============================] - 0s 8ms/step - loss: 0.6864 - accuracy: 0.5459 - val_loss: 0.6912 - val_accuracy: 0.5171\n",
            "Epoch 18/300\n",
            "27/27 [==============================] - 0s 8ms/step - loss: 0.6860 - accuracy: 0.5483 - val_loss: 0.6986 - val_accuracy: 0.4854\n",
            "Epoch 19/300\n",
            "27/27 [==============================] - 0s 8ms/step - loss: 0.6872 - accuracy: 0.5423 - val_loss: 0.6895 - val_accuracy: 0.5293\n",
            "Epoch 20/300\n",
            "27/27 [==============================] - 0s 8ms/step - loss: 0.6857 - accuracy: 0.5578 - val_loss: 0.6897 - val_accuracy: 0.5341\n",
            "Epoch 21/300\n",
            "27/27 [==============================] - 0s 9ms/step - loss: 0.6851 - accuracy: 0.5459 - val_loss: 0.6932 - val_accuracy: 0.5195\n",
            "Epoch 22/300\n",
            "27/27 [==============================] - 0s 8ms/step - loss: 0.6852 - accuracy: 0.5459 - val_loss: 0.6923 - val_accuracy: 0.5220\n",
            "Epoch 23/300\n",
            "27/27 [==============================] - 0s 8ms/step - loss: 0.6847 - accuracy: 0.5662 - val_loss: 0.6927 - val_accuracy: 0.5195\n",
            "Epoch 24/300\n",
            "27/27 [==============================] - 0s 8ms/step - loss: 0.6841 - accuracy: 0.5614 - val_loss: 0.6942 - val_accuracy: 0.5195\n",
            "Epoch 25/300\n",
            "27/27 [==============================] - 0s 8ms/step - loss: 0.6844 - accuracy: 0.5638 - val_loss: 0.6975 - val_accuracy: 0.4756\n",
            "Epoch 26/300\n",
            "27/27 [==============================] - 0s 8ms/step - loss: 0.6866 - accuracy: 0.5614 - val_loss: 0.6962 - val_accuracy: 0.4878\n",
            "Epoch 27/300\n",
            "27/27 [==============================] - 0s 8ms/step - loss: 0.6846 - accuracy: 0.5662 - val_loss: 0.6921 - val_accuracy: 0.5220\n",
            "Epoch 28/300\n",
            "27/27 [==============================] - 0s 8ms/step - loss: 0.6853 - accuracy: 0.5542 - val_loss: 0.6942 - val_accuracy: 0.5073\n",
            "Epoch 29/300\n",
            "27/27 [==============================] - 0s 8ms/step - loss: 0.6833 - accuracy: 0.5614 - val_loss: 0.6944 - val_accuracy: 0.5171\n",
            "Epoch 30/300\n",
            "27/27 [==============================] - 0s 9ms/step - loss: 0.6829 - accuracy: 0.5578 - val_loss: 0.6923 - val_accuracy: 0.5220\n",
            "Epoch 31/300\n",
            "27/27 [==============================] - 0s 8ms/step - loss: 0.6818 - accuracy: 0.5685 - val_loss: 0.6963 - val_accuracy: 0.4951\n",
            "Epoch 32/300\n",
            "27/27 [==============================] - 0s 8ms/step - loss: 0.6848 - accuracy: 0.5495 - val_loss: 0.6965 - val_accuracy: 0.4805\n",
            "Epoch 33/300\n",
            "27/27 [==============================] - 0s 8ms/step - loss: 0.6829 - accuracy: 0.5602 - val_loss: 0.6967 - val_accuracy: 0.4878\n",
            "Epoch 34/300\n",
            "27/27 [==============================] - 0s 8ms/step - loss: 0.6811 - accuracy: 0.5566 - val_loss: 0.6950 - val_accuracy: 0.5195\n",
            "Epoch 35/300\n",
            "27/27 [==============================] - 0s 8ms/step - loss: 0.6810 - accuracy: 0.5709 - val_loss: 0.7003 - val_accuracy: 0.4927\n",
            "Epoch 36/300\n",
            "27/27 [==============================] - 0s 8ms/step - loss: 0.6810 - accuracy: 0.5650 - val_loss: 0.6930 - val_accuracy: 0.5341\n",
            "Epoch 37/300\n",
            "27/27 [==============================] - 0s 8ms/step - loss: 0.6808 - accuracy: 0.5721 - val_loss: 0.6963 - val_accuracy: 0.5220\n",
            "Epoch 38/300\n",
            "27/27 [==============================] - 0s 8ms/step - loss: 0.6793 - accuracy: 0.5805 - val_loss: 0.6985 - val_accuracy: 0.5024\n",
            "Epoch 39/300\n",
            "27/27 [==============================] - 0s 8ms/step - loss: 0.6792 - accuracy: 0.5566 - val_loss: 0.6930 - val_accuracy: 0.5366\n",
            "Epoch 40/300\n",
            "27/27 [==============================] - 0s 8ms/step - loss: 0.6807 - accuracy: 0.5769 - val_loss: 0.6953 - val_accuracy: 0.5317\n",
            "Epoch 41/300\n",
            "27/27 [==============================] - 0s 8ms/step - loss: 0.6790 - accuracy: 0.5697 - val_loss: 0.6959 - val_accuracy: 0.5195\n",
            "Epoch 42/300\n",
            "27/27 [==============================] - 0s 8ms/step - loss: 0.6785 - accuracy: 0.5673 - val_loss: 0.6952 - val_accuracy: 0.5268\n",
            "Epoch 43/300\n",
            "27/27 [==============================] - 0s 8ms/step - loss: 0.6778 - accuracy: 0.5697 - val_loss: 0.6961 - val_accuracy: 0.5317\n",
            "Epoch 44/300\n",
            "27/27 [==============================] - 0s 8ms/step - loss: 0.6772 - accuracy: 0.5781 - val_loss: 0.6953 - val_accuracy: 0.5195\n",
            "Epoch 45/300\n",
            "27/27 [==============================] - 0s 8ms/step - loss: 0.6757 - accuracy: 0.5626 - val_loss: 0.6972 - val_accuracy: 0.5073\n",
            "Epoch 46/300\n",
            "27/27 [==============================] - 0s 8ms/step - loss: 0.6749 - accuracy: 0.5840 - val_loss: 0.6938 - val_accuracy: 0.5244\n",
            "Epoch 47/300\n",
            "27/27 [==============================] - 0s 8ms/step - loss: 0.6752 - accuracy: 0.5673 - val_loss: 0.6972 - val_accuracy: 0.5098\n",
            "Epoch 48/300\n",
            "27/27 [==============================] - 0s 8ms/step - loss: 0.6742 - accuracy: 0.5614 - val_loss: 0.6995 - val_accuracy: 0.4902\n",
            "Epoch 49/300\n",
            "27/27 [==============================] - 0s 8ms/step - loss: 0.6748 - accuracy: 0.5673 - val_loss: 0.6960 - val_accuracy: 0.5146\n",
            "Epoch 50/300\n",
            "27/27 [==============================] - 0s 8ms/step - loss: 0.6729 - accuracy: 0.5757 - val_loss: 0.6977 - val_accuracy: 0.5098\n",
            "Epoch 51/300\n",
            "27/27 [==============================] - 0s 8ms/step - loss: 0.6732 - accuracy: 0.5673 - val_loss: 0.6969 - val_accuracy: 0.5024\n",
            "Epoch 52/300\n",
            "27/27 [==============================] - 0s 8ms/step - loss: 0.6708 - accuracy: 0.5578 - val_loss: 0.6949 - val_accuracy: 0.5268\n",
            "Epoch 53/300\n",
            "27/27 [==============================] - 0s 8ms/step - loss: 0.6706 - accuracy: 0.5733 - val_loss: 0.6969 - val_accuracy: 0.5220\n",
            "Epoch 54/300\n",
            "27/27 [==============================] - 0s 8ms/step - loss: 0.6709 - accuracy: 0.5816 - val_loss: 0.6982 - val_accuracy: 0.5049\n",
            "Epoch 55/300\n",
            "27/27 [==============================] - 0s 8ms/step - loss: 0.6683 - accuracy: 0.5816 - val_loss: 0.6990 - val_accuracy: 0.5195\n",
            "Epoch 56/300\n",
            "27/27 [==============================] - 0s 8ms/step - loss: 0.6695 - accuracy: 0.5685 - val_loss: 0.7008 - val_accuracy: 0.5000\n",
            "Epoch 57/300\n",
            "27/27 [==============================] - 0s 8ms/step - loss: 0.6683 - accuracy: 0.5805 - val_loss: 0.6962 - val_accuracy: 0.5073\n",
            "Epoch 58/300\n",
            "27/27 [==============================] - 0s 8ms/step - loss: 0.6683 - accuracy: 0.5852 - val_loss: 0.6999 - val_accuracy: 0.5073\n",
            "Epoch 59/300\n",
            "27/27 [==============================] - 0s 8ms/step - loss: 0.6685 - accuracy: 0.5697 - val_loss: 0.6982 - val_accuracy: 0.5049\n",
            "Epoch 60/300\n",
            "27/27 [==============================] - 0s 8ms/step - loss: 0.6670 - accuracy: 0.5805 - val_loss: 0.6970 - val_accuracy: 0.5122\n",
            "Epoch 61/300\n",
            "27/27 [==============================] - 0s 8ms/step - loss: 0.6690 - accuracy: 0.5721 - val_loss: 0.7009 - val_accuracy: 0.5122\n",
            "Epoch 62/300\n",
            "27/27 [==============================] - 0s 8ms/step - loss: 0.6686 - accuracy: 0.5662 - val_loss: 0.7001 - val_accuracy: 0.4927\n",
            "Epoch 63/300\n",
            "27/27 [==============================] - 0s 8ms/step - loss: 0.6655 - accuracy: 0.5805 - val_loss: 0.7004 - val_accuracy: 0.5098\n",
            "Epoch 64/300\n",
            "27/27 [==============================] - 0s 8ms/step - loss: 0.6669 - accuracy: 0.5685 - val_loss: 0.6986 - val_accuracy: 0.5098\n",
            "Epoch 65/300\n",
            "27/27 [==============================] - 0s 8ms/step - loss: 0.6677 - accuracy: 0.5852 - val_loss: 0.7064 - val_accuracy: 0.4951\n",
            "Epoch 66/300\n",
            "27/27 [==============================] - 0s 8ms/step - loss: 0.6612 - accuracy: 0.5959 - val_loss: 0.7038 - val_accuracy: 0.5024\n",
            "Epoch 67/300\n",
            "27/27 [==============================] - 0s 8ms/step - loss: 0.6624 - accuracy: 0.5816 - val_loss: 0.6990 - val_accuracy: 0.5122\n",
            "Epoch 68/300\n",
            "27/27 [==============================] - 0s 8ms/step - loss: 0.6621 - accuracy: 0.5936 - val_loss: 0.7037 - val_accuracy: 0.5049\n",
            "Epoch 69/300\n",
            "27/27 [==============================] - 0s 8ms/step - loss: 0.6584 - accuracy: 0.5840 - val_loss: 0.7004 - val_accuracy: 0.5171\n",
            "Epoch 70/300\n",
            "27/27 [==============================] - 0s 8ms/step - loss: 0.6581 - accuracy: 0.6091 - val_loss: 0.7033 - val_accuracy: 0.5000\n",
            "Epoch 71/300\n",
            "27/27 [==============================] - 0s 8ms/step - loss: 0.6587 - accuracy: 0.5900 - val_loss: 0.6984 - val_accuracy: 0.5317\n",
            "Epoch 72/300\n",
            "27/27 [==============================] - 0s 8ms/step - loss: 0.6574 - accuracy: 0.5959 - val_loss: 0.6994 - val_accuracy: 0.5195\n",
            "Epoch 73/300\n",
            "27/27 [==============================] - 0s 8ms/step - loss: 0.6552 - accuracy: 0.5840 - val_loss: 0.7055 - val_accuracy: 0.5098\n",
            "Epoch 74/300\n",
            "27/27 [==============================] - 0s 8ms/step - loss: 0.6596 - accuracy: 0.5828 - val_loss: 0.7018 - val_accuracy: 0.5122\n",
            "Epoch 75/300\n",
            "27/27 [==============================] - 0s 9ms/step - loss: 0.6532 - accuracy: 0.5983 - val_loss: 0.7021 - val_accuracy: 0.5171\n",
            "Epoch 76/300\n",
            "27/27 [==============================] - 0s 8ms/step - loss: 0.6506 - accuracy: 0.6031 - val_loss: 0.7039 - val_accuracy: 0.5000\n",
            "Epoch 77/300\n",
            "27/27 [==============================] - 0s 8ms/step - loss: 0.6559 - accuracy: 0.5840 - val_loss: 0.7014 - val_accuracy: 0.4805\n",
            "Epoch 78/300\n",
            "27/27 [==============================] - 0s 8ms/step - loss: 0.6539 - accuracy: 0.6019 - val_loss: 0.7107 - val_accuracy: 0.5000\n",
            "Epoch 79/300\n",
            "27/27 [==============================] - 0s 8ms/step - loss: 0.6510 - accuracy: 0.5995 - val_loss: 0.7061 - val_accuracy: 0.4951\n",
            "Epoch 80/300\n",
            "27/27 [==============================] - 0s 8ms/step - loss: 0.6486 - accuracy: 0.6043 - val_loss: 0.7058 - val_accuracy: 0.4902\n",
            "Epoch 81/300\n",
            "27/27 [==============================] - 0s 8ms/step - loss: 0.6482 - accuracy: 0.5971 - val_loss: 0.7017 - val_accuracy: 0.4951\n",
            "Epoch 82/300\n",
            "27/27 [==============================] - 0s 8ms/step - loss: 0.6452 - accuracy: 0.6162 - val_loss: 0.7115 - val_accuracy: 0.4902\n",
            "Epoch 83/300\n",
            "27/27 [==============================] - 0s 8ms/step - loss: 0.6453 - accuracy: 0.6103 - val_loss: 0.7072 - val_accuracy: 0.4878\n",
            "Epoch 84/300\n",
            "27/27 [==============================] - 0s 8ms/step - loss: 0.6421 - accuracy: 0.6150 - val_loss: 0.7090 - val_accuracy: 0.4902\n",
            "Epoch 85/300\n",
            "27/27 [==============================] - 0s 8ms/step - loss: 0.6413 - accuracy: 0.6186 - val_loss: 0.7077 - val_accuracy: 0.4976\n",
            "Epoch 86/300\n",
            "27/27 [==============================] - 0s 8ms/step - loss: 0.6467 - accuracy: 0.5995 - val_loss: 0.7096 - val_accuracy: 0.4902\n",
            "Epoch 87/300\n",
            "27/27 [==============================] - 0s 8ms/step - loss: 0.6438 - accuracy: 0.6043 - val_loss: 0.7197 - val_accuracy: 0.4902\n",
            "Epoch 88/300\n",
            "27/27 [==============================] - 0s 8ms/step - loss: 0.6367 - accuracy: 0.6222 - val_loss: 0.7115 - val_accuracy: 0.4780\n",
            "Epoch 89/300\n",
            "27/27 [==============================] - 0s 8ms/step - loss: 0.6386 - accuracy: 0.6222 - val_loss: 0.7136 - val_accuracy: 0.4780\n",
            "Epoch 90/300\n",
            "27/27 [==============================] - 0s 8ms/step - loss: 0.6314 - accuracy: 0.6257 - val_loss: 0.7143 - val_accuracy: 0.4780\n",
            "Epoch 91/300\n",
            "27/27 [==============================] - 0s 8ms/step - loss: 0.6299 - accuracy: 0.6198 - val_loss: 0.7160 - val_accuracy: 0.4683\n",
            "Epoch 92/300\n",
            "27/27 [==============================] - 0s 8ms/step - loss: 0.6273 - accuracy: 0.6293 - val_loss: 0.7290 - val_accuracy: 0.4707\n",
            "Epoch 93/300\n",
            "27/27 [==============================] - 0s 9ms/step - loss: 0.6279 - accuracy: 0.6257 - val_loss: 0.7191 - val_accuracy: 0.4439\n",
            "Epoch 94/300\n",
            "27/27 [==============================] - 0s 8ms/step - loss: 0.6250 - accuracy: 0.6293 - val_loss: 0.7310 - val_accuracy: 0.4707\n",
            "Epoch 95/300\n",
            "27/27 [==============================] - 0s 8ms/step - loss: 0.6258 - accuracy: 0.6389 - val_loss: 0.7259 - val_accuracy: 0.4610\n",
            "Epoch 96/300\n",
            "27/27 [==============================] - 0s 7ms/step - loss: 0.6257 - accuracy: 0.6365 - val_loss: 0.7375 - val_accuracy: 0.4829\n",
            "Epoch 97/300\n",
            "27/27 [==============================] - 0s 8ms/step - loss: 0.6181 - accuracy: 0.6424 - val_loss: 0.7287 - val_accuracy: 0.4585\n",
            "Epoch 98/300\n",
            "27/27 [==============================] - 0s 8ms/step - loss: 0.6186 - accuracy: 0.6317 - val_loss: 0.7400 - val_accuracy: 0.4805\n",
            "Epoch 99/300\n",
            "27/27 [==============================] - 0s 8ms/step - loss: 0.6139 - accuracy: 0.6663 - val_loss: 0.7335 - val_accuracy: 0.4415\n",
            "Epoch 100/300\n",
            "27/27 [==============================] - 0s 8ms/step - loss: 0.6089 - accuracy: 0.6532 - val_loss: 0.7319 - val_accuracy: 0.4512\n",
            "Epoch 101/300\n",
            "27/27 [==============================] - 0s 8ms/step - loss: 0.6134 - accuracy: 0.6412 - val_loss: 0.7349 - val_accuracy: 0.4683\n",
            "Epoch 102/300\n",
            "27/27 [==============================] - 0s 9ms/step - loss: 0.6109 - accuracy: 0.6555 - val_loss: 0.7422 - val_accuracy: 0.4585\n",
            "Epoch 103/300\n",
            "27/27 [==============================] - 0s 8ms/step - loss: 0.6156 - accuracy: 0.6472 - val_loss: 0.7374 - val_accuracy: 0.4561\n",
            "Epoch 104/300\n",
            "27/27 [==============================] - 0s 8ms/step - loss: 0.6042 - accuracy: 0.6734 - val_loss: 0.7462 - val_accuracy: 0.4659\n",
            "Epoch 105/300\n",
            "27/27 [==============================] - 0s 8ms/step - loss: 0.6051 - accuracy: 0.6555 - val_loss: 0.7426 - val_accuracy: 0.4512\n",
            "Epoch 106/300\n",
            "27/27 [==============================] - 0s 8ms/step - loss: 0.6091 - accuracy: 0.6615 - val_loss: 0.7411 - val_accuracy: 0.4634\n",
            "Epoch 107/300\n",
            "27/27 [==============================] - 0s 8ms/step - loss: 0.5989 - accuracy: 0.6698 - val_loss: 0.7454 - val_accuracy: 0.4415\n",
            "Epoch 108/300\n",
            "27/27 [==============================] - 0s 8ms/step - loss: 0.5983 - accuracy: 0.6532 - val_loss: 0.7509 - val_accuracy: 0.4415\n",
            "Epoch 109/300\n",
            "27/27 [==============================] - 0s 8ms/step - loss: 0.6019 - accuracy: 0.6603 - val_loss: 0.7474 - val_accuracy: 0.4707\n",
            "Epoch 110/300\n",
            "27/27 [==============================] - 0s 8ms/step - loss: 0.5944 - accuracy: 0.6639 - val_loss: 0.7541 - val_accuracy: 0.4561\n",
            "Epoch 111/300\n",
            "27/27 [==============================] - 0s 8ms/step - loss: 0.5968 - accuracy: 0.6544 - val_loss: 0.7471 - val_accuracy: 0.4634\n",
            "Epoch 112/300\n",
            "27/27 [==============================] - 0s 8ms/step - loss: 0.5902 - accuracy: 0.6591 - val_loss: 0.7739 - val_accuracy: 0.4659\n",
            "Epoch 113/300\n",
            "27/27 [==============================] - 0s 8ms/step - loss: 0.5909 - accuracy: 0.6639 - val_loss: 0.7504 - val_accuracy: 0.4585\n",
            "Epoch 114/300\n",
            "27/27 [==============================] - 0s 8ms/step - loss: 0.5816 - accuracy: 0.6675 - val_loss: 0.7683 - val_accuracy: 0.4585\n",
            "Epoch 115/300\n",
            "27/27 [==============================] - 0s 8ms/step - loss: 0.5837 - accuracy: 0.6675 - val_loss: 0.7705 - val_accuracy: 0.4512\n",
            "Epoch 116/300\n",
            "27/27 [==============================] - 0s 8ms/step - loss: 0.5810 - accuracy: 0.6830 - val_loss: 0.7571 - val_accuracy: 0.4732\n",
            "Epoch 117/300\n",
            "27/27 [==============================] - 0s 8ms/step - loss: 0.5766 - accuracy: 0.6710 - val_loss: 0.7711 - val_accuracy: 0.4415\n",
            "Epoch 118/300\n",
            "27/27 [==============================] - 0s 8ms/step - loss: 0.5766 - accuracy: 0.6853 - val_loss: 0.7692 - val_accuracy: 0.4732\n",
            "Epoch 119/300\n",
            "27/27 [==============================] - 0s 8ms/step - loss: 0.5750 - accuracy: 0.6746 - val_loss: 0.7726 - val_accuracy: 0.4463\n",
            "Epoch 120/300\n",
            "27/27 [==============================] - 0s 9ms/step - loss: 0.5742 - accuracy: 0.6782 - val_loss: 0.7690 - val_accuracy: 0.4463\n",
            "Epoch 121/300\n",
            "27/27 [==============================] - 0s 9ms/step - loss: 0.5678 - accuracy: 0.6830 - val_loss: 0.7671 - val_accuracy: 0.4537\n",
            "Epoch 122/300\n",
            "27/27 [==============================] - 0s 8ms/step - loss: 0.5717 - accuracy: 0.7008 - val_loss: 0.7690 - val_accuracy: 0.4537\n",
            "Epoch 123/300\n",
            "27/27 [==============================] - 0s 9ms/step - loss: 0.5712 - accuracy: 0.6698 - val_loss: 0.7490 - val_accuracy: 0.4902\n",
            "Epoch 124/300\n",
            "27/27 [==============================] - 0s 9ms/step - loss: 0.5636 - accuracy: 0.6841 - val_loss: 0.7781 - val_accuracy: 0.4390\n",
            "Epoch 125/300\n",
            "27/27 [==============================] - 0s 8ms/step - loss: 0.5593 - accuracy: 0.6794 - val_loss: 0.7678 - val_accuracy: 0.4561\n",
            "Epoch 126/300\n",
            "27/27 [==============================] - 0s 8ms/step - loss: 0.5572 - accuracy: 0.6853 - val_loss: 0.7712 - val_accuracy: 0.4659\n",
            "Epoch 127/300\n",
            "27/27 [==============================] - 0s 8ms/step - loss: 0.5633 - accuracy: 0.6901 - val_loss: 0.7706 - val_accuracy: 0.4585\n",
            "Epoch 128/300\n",
            "27/27 [==============================] - 0s 8ms/step - loss: 0.5563 - accuracy: 0.6925 - val_loss: 0.7747 - val_accuracy: 0.4659\n",
            "Epoch 129/300\n",
            "27/27 [==============================] - 0s 8ms/step - loss: 0.5506 - accuracy: 0.6877 - val_loss: 0.7806 - val_accuracy: 0.4659\n",
            "Epoch 130/300\n",
            "27/27 [==============================] - 0s 8ms/step - loss: 0.5597 - accuracy: 0.6961 - val_loss: 0.7834 - val_accuracy: 0.4585\n",
            "Epoch 131/300\n",
            "27/27 [==============================] - 0s 8ms/step - loss: 0.5465 - accuracy: 0.7056 - val_loss: 0.7762 - val_accuracy: 0.4732\n",
            "Epoch 132/300\n",
            "27/27 [==============================] - 0s 8ms/step - loss: 0.5485 - accuracy: 0.6913 - val_loss: 0.7765 - val_accuracy: 0.4732\n",
            "Epoch 133/300\n",
            "27/27 [==============================] - 0s 9ms/step - loss: 0.5452 - accuracy: 0.6985 - val_loss: 0.7835 - val_accuracy: 0.4512\n",
            "Epoch 134/300\n",
            "27/27 [==============================] - 0s 8ms/step - loss: 0.5389 - accuracy: 0.7044 - val_loss: 0.7854 - val_accuracy: 0.4707\n",
            "Epoch 135/300\n",
            "27/27 [==============================] - 0s 8ms/step - loss: 0.5355 - accuracy: 0.7116 - val_loss: 0.7980 - val_accuracy: 0.4634\n",
            "Epoch 136/300\n",
            "27/27 [==============================] - 0s 8ms/step - loss: 0.5379 - accuracy: 0.7080 - val_loss: 0.7911 - val_accuracy: 0.4683\n",
            "Epoch 137/300\n",
            "27/27 [==============================] - 0s 8ms/step - loss: 0.5364 - accuracy: 0.7044 - val_loss: 0.7917 - val_accuracy: 0.4780\n",
            "Epoch 138/300\n",
            "27/27 [==============================] - 0s 8ms/step - loss: 0.5255 - accuracy: 0.7128 - val_loss: 0.7983 - val_accuracy: 0.4780\n",
            "Epoch 139/300\n",
            "27/27 [==============================] - 0s 8ms/step - loss: 0.5225 - accuracy: 0.7139 - val_loss: 0.7959 - val_accuracy: 0.4780\n",
            "Epoch 140/300\n",
            "27/27 [==============================] - 0s 9ms/step - loss: 0.5242 - accuracy: 0.7175 - val_loss: 0.8127 - val_accuracy: 0.4659\n",
            "Epoch 141/300\n",
            "27/27 [==============================] - 0s 8ms/step - loss: 0.5144 - accuracy: 0.7187 - val_loss: 0.8025 - val_accuracy: 0.4707\n",
            "Epoch 142/300\n",
            "27/27 [==============================] - 0s 8ms/step - loss: 0.5152 - accuracy: 0.7211 - val_loss: 0.8098 - val_accuracy: 0.4683\n",
            "Epoch 143/300\n",
            "27/27 [==============================] - 0s 8ms/step - loss: 0.5096 - accuracy: 0.7342 - val_loss: 0.8178 - val_accuracy: 0.4634\n",
            "Epoch 144/300\n",
            "27/27 [==============================] - 0s 8ms/step - loss: 0.5128 - accuracy: 0.7318 - val_loss: 0.8230 - val_accuracy: 0.4756\n",
            "Epoch 145/300\n",
            "27/27 [==============================] - 0s 9ms/step - loss: 0.5080 - accuracy: 0.7449 - val_loss: 0.8160 - val_accuracy: 0.4854\n",
            "Epoch 146/300\n",
            "27/27 [==============================] - 0s 9ms/step - loss: 0.5053 - accuracy: 0.7247 - val_loss: 0.8131 - val_accuracy: 0.4732\n",
            "Epoch 147/300\n",
            "27/27 [==============================] - 0s 8ms/step - loss: 0.5071 - accuracy: 0.7271 - val_loss: 0.8136 - val_accuracy: 0.4659\n",
            "Epoch 148/300\n",
            "27/27 [==============================] - 0s 8ms/step - loss: 0.4973 - accuracy: 0.7306 - val_loss: 0.8017 - val_accuracy: 0.4756\n",
            "Epoch 149/300\n",
            "27/27 [==============================] - 0s 8ms/step - loss: 0.5030 - accuracy: 0.7354 - val_loss: 0.8040 - val_accuracy: 0.4927\n",
            "Epoch 150/300\n",
            "27/27 [==============================] - 0s 8ms/step - loss: 0.4965 - accuracy: 0.7414 - val_loss: 0.8218 - val_accuracy: 0.4732\n",
            "Epoch 151/300\n",
            "27/27 [==============================] - 0s 8ms/step - loss: 0.4993 - accuracy: 0.7390 - val_loss: 0.8119 - val_accuracy: 0.4854\n",
            "Epoch 152/300\n",
            "27/27 [==============================] - 0s 8ms/step - loss: 0.4835 - accuracy: 0.7580 - val_loss: 0.8248 - val_accuracy: 0.4951\n",
            "Epoch 153/300\n",
            "27/27 [==============================] - 0s 8ms/step - loss: 0.4836 - accuracy: 0.7473 - val_loss: 0.8213 - val_accuracy: 0.4902\n",
            "Epoch 154/300\n",
            "27/27 [==============================] - 0s 8ms/step - loss: 0.4804 - accuracy: 0.7414 - val_loss: 0.8285 - val_accuracy: 0.4951\n",
            "Epoch 155/300\n",
            "27/27 [==============================] - 0s 9ms/step - loss: 0.4788 - accuracy: 0.7473 - val_loss: 0.8228 - val_accuracy: 0.4951\n",
            "Epoch 156/300\n",
            "27/27 [==============================] - 0s 8ms/step - loss: 0.4710 - accuracy: 0.7569 - val_loss: 0.8473 - val_accuracy: 0.4854\n",
            "Epoch 157/300\n",
            "27/27 [==============================] - 0s 8ms/step - loss: 0.4736 - accuracy: 0.7509 - val_loss: 0.8363 - val_accuracy: 0.4976\n",
            "Epoch 158/300\n",
            "27/27 [==============================] - 0s 8ms/step - loss: 0.4706 - accuracy: 0.7569 - val_loss: 0.8256 - val_accuracy: 0.4829\n",
            "Epoch 159/300\n",
            "27/27 [==============================] - 0s 8ms/step - loss: 0.4678 - accuracy: 0.7545 - val_loss: 0.8390 - val_accuracy: 0.4951\n",
            "Epoch 160/300\n",
            "27/27 [==============================] - 0s 8ms/step - loss: 0.4570 - accuracy: 0.7640 - val_loss: 0.8429 - val_accuracy: 0.4951\n",
            "Epoch 161/300\n",
            "27/27 [==============================] - 0s 8ms/step - loss: 0.4559 - accuracy: 0.7712 - val_loss: 0.8410 - val_accuracy: 0.4951\n",
            "Epoch 162/300\n",
            "27/27 [==============================] - 0s 8ms/step - loss: 0.4562 - accuracy: 0.7759 - val_loss: 0.8393 - val_accuracy: 0.4951\n",
            "Epoch 163/300\n",
            "27/27 [==============================] - 0s 8ms/step - loss: 0.4548 - accuracy: 0.7759 - val_loss: 0.8484 - val_accuracy: 0.4976\n",
            "Epoch 164/300\n",
            "27/27 [==============================] - 0s 8ms/step - loss: 0.4488 - accuracy: 0.7700 - val_loss: 0.8576 - val_accuracy: 0.4976\n",
            "Epoch 165/300\n",
            "27/27 [==============================] - 0s 8ms/step - loss: 0.4517 - accuracy: 0.7771 - val_loss: 0.8606 - val_accuracy: 0.5049\n",
            "Epoch 166/300\n",
            "27/27 [==============================] - 0s 8ms/step - loss: 0.4441 - accuracy: 0.7783 - val_loss: 0.8512 - val_accuracy: 0.4927\n",
            "Epoch 167/300\n",
            "27/27 [==============================] - 0s 8ms/step - loss: 0.4480 - accuracy: 0.7688 - val_loss: 0.8482 - val_accuracy: 0.5073\n",
            "Epoch 168/300\n",
            "27/27 [==============================] - 0s 8ms/step - loss: 0.4379 - accuracy: 0.7747 - val_loss: 0.8412 - val_accuracy: 0.4976\n",
            "Epoch 169/300\n",
            "27/27 [==============================] - 0s 9ms/step - loss: 0.4378 - accuracy: 0.7855 - val_loss: 0.8579 - val_accuracy: 0.4829\n",
            "Epoch 170/300\n",
            "27/27 [==============================] - 0s 8ms/step - loss: 0.4335 - accuracy: 0.7878 - val_loss: 0.8555 - val_accuracy: 0.4878\n",
            "Epoch 171/300\n",
            "27/27 [==============================] - 0s 8ms/step - loss: 0.4355 - accuracy: 0.7890 - val_loss: 0.8589 - val_accuracy: 0.5000\n",
            "Epoch 172/300\n",
            "27/27 [==============================] - 0s 8ms/step - loss: 0.4284 - accuracy: 0.7819 - val_loss: 0.8561 - val_accuracy: 0.4976\n",
            "Epoch 173/300\n",
            "27/27 [==============================] - 0s 9ms/step - loss: 0.4283 - accuracy: 0.7855 - val_loss: 0.8698 - val_accuracy: 0.5073\n",
            "Epoch 174/300\n",
            "27/27 [==============================] - 0s 8ms/step - loss: 0.4205 - accuracy: 0.7878 - val_loss: 0.8601 - val_accuracy: 0.5098\n",
            "Epoch 175/300\n",
            "27/27 [==============================] - 0s 8ms/step - loss: 0.4165 - accuracy: 0.7974 - val_loss: 0.8782 - val_accuracy: 0.5049\n",
            "Epoch 176/300\n",
            "27/27 [==============================] - 0s 8ms/step - loss: 0.4203 - accuracy: 0.7878 - val_loss: 0.8654 - val_accuracy: 0.5024\n",
            "Epoch 177/300\n",
            "27/27 [==============================] - 0s 9ms/step - loss: 0.4218 - accuracy: 0.7807 - val_loss: 0.8693 - val_accuracy: 0.4951\n",
            "Epoch 178/300\n",
            "27/27 [==============================] - 0s 8ms/step - loss: 0.4181 - accuracy: 0.7938 - val_loss: 0.8891 - val_accuracy: 0.4951\n",
            "Epoch 179/300\n",
            "27/27 [==============================] - 0s 8ms/step - loss: 0.4076 - accuracy: 0.7938 - val_loss: 0.8781 - val_accuracy: 0.4927\n",
            "Epoch 180/300\n",
            "27/27 [==============================] - 0s 8ms/step - loss: 0.4055 - accuracy: 0.7938 - val_loss: 0.8879 - val_accuracy: 0.4854\n",
            "Epoch 181/300\n",
            "27/27 [==============================] - 0s 8ms/step - loss: 0.4005 - accuracy: 0.8010 - val_loss: 0.8939 - val_accuracy: 0.4951\n",
            "Epoch 182/300\n",
            "27/27 [==============================] - 0s 8ms/step - loss: 0.3965 - accuracy: 0.8081 - val_loss: 0.8821 - val_accuracy: 0.5098\n",
            "Epoch 183/300\n",
            "27/27 [==============================] - 0s 8ms/step - loss: 0.3988 - accuracy: 0.8069 - val_loss: 0.8937 - val_accuracy: 0.5049\n",
            "Epoch 184/300\n",
            "27/27 [==============================] - 0s 8ms/step - loss: 0.3904 - accuracy: 0.8153 - val_loss: 0.8991 - val_accuracy: 0.4951\n",
            "Epoch 185/300\n",
            "27/27 [==============================] - 0s 8ms/step - loss: 0.3891 - accuracy: 0.8105 - val_loss: 0.8799 - val_accuracy: 0.5000\n",
            "Epoch 186/300\n",
            "27/27 [==============================] - 0s 9ms/step - loss: 0.3877 - accuracy: 0.8212 - val_loss: 0.9094 - val_accuracy: 0.4756\n",
            "Epoch 187/300\n",
            "27/27 [==============================] - 0s 8ms/step - loss: 0.3863 - accuracy: 0.8081 - val_loss: 0.8905 - val_accuracy: 0.5122\n",
            "Epoch 188/300\n",
            "27/27 [==============================] - 0s 8ms/step - loss: 0.3778 - accuracy: 0.8200 - val_loss: 0.9007 - val_accuracy: 0.5146\n",
            "Epoch 189/300\n",
            "27/27 [==============================] - 0s 9ms/step - loss: 0.3854 - accuracy: 0.8069 - val_loss: 0.9040 - val_accuracy: 0.5049\n",
            "Epoch 190/300\n",
            "27/27 [==============================] - 0s 8ms/step - loss: 0.3754 - accuracy: 0.8248 - val_loss: 0.8945 - val_accuracy: 0.5146\n",
            "Epoch 191/300\n",
            "27/27 [==============================] - 0s 8ms/step - loss: 0.3730 - accuracy: 0.8093 - val_loss: 0.8983 - val_accuracy: 0.5024\n",
            "Epoch 192/300\n",
            "27/27 [==============================] - 0s 9ms/step - loss: 0.3681 - accuracy: 0.8224 - val_loss: 0.9114 - val_accuracy: 0.5073\n",
            "Epoch 193/300\n",
            "27/27 [==============================] - 0s 8ms/step - loss: 0.3621 - accuracy: 0.8260 - val_loss: 0.9092 - val_accuracy: 0.5073\n",
            "Epoch 194/300\n",
            "27/27 [==============================] - 0s 8ms/step - loss: 0.3655 - accuracy: 0.8272 - val_loss: 0.9076 - val_accuracy: 0.5220\n",
            "Epoch 195/300\n",
            "27/27 [==============================] - 0s 9ms/step - loss: 0.3560 - accuracy: 0.8403 - val_loss: 0.9024 - val_accuracy: 0.5146\n",
            "Epoch 196/300\n",
            "27/27 [==============================] - 0s 8ms/step - loss: 0.3631 - accuracy: 0.8260 - val_loss: 0.9029 - val_accuracy: 0.5073\n",
            "Epoch 197/300\n",
            "27/27 [==============================] - 0s 8ms/step - loss: 0.3588 - accuracy: 0.8296 - val_loss: 0.9269 - val_accuracy: 0.4927\n",
            "Epoch 198/300\n",
            "27/27 [==============================] - 0s 8ms/step - loss: 0.3530 - accuracy: 0.8391 - val_loss: 0.9179 - val_accuracy: 0.5024\n",
            "Epoch 199/300\n",
            "27/27 [==============================] - 0s 9ms/step - loss: 0.3483 - accuracy: 0.8308 - val_loss: 0.9189 - val_accuracy: 0.4951\n",
            "Epoch 200/300\n",
            "27/27 [==============================] - 0s 9ms/step - loss: 0.3651 - accuracy: 0.8236 - val_loss: 0.9193 - val_accuracy: 0.4976\n",
            "Epoch 201/300\n",
            "27/27 [==============================] - 0s 8ms/step - loss: 0.3556 - accuracy: 0.8427 - val_loss: 0.9445 - val_accuracy: 0.5146\n",
            "Epoch 202/300\n",
            "27/27 [==============================] - 0s 8ms/step - loss: 0.3419 - accuracy: 0.8451 - val_loss: 0.9337 - val_accuracy: 0.4951\n",
            "Epoch 203/300\n",
            "27/27 [==============================] - 0s 8ms/step - loss: 0.3392 - accuracy: 0.8462 - val_loss: 0.9379 - val_accuracy: 0.5049\n",
            "Epoch 204/300\n",
            "27/27 [==============================] - 0s 9ms/step - loss: 0.3326 - accuracy: 0.8486 - val_loss: 0.9444 - val_accuracy: 0.5024\n",
            "Epoch 205/300\n",
            "27/27 [==============================] - 0s 9ms/step - loss: 0.3583 - accuracy: 0.8343 - val_loss: 0.9384 - val_accuracy: 0.5049\n",
            "Epoch 206/300\n",
            "27/27 [==============================] - 0s 8ms/step - loss: 0.3350 - accuracy: 0.8439 - val_loss: 0.9505 - val_accuracy: 0.4902\n",
            "Epoch 207/300\n",
            "27/27 [==============================] - 0s 8ms/step - loss: 0.3365 - accuracy: 0.8439 - val_loss: 0.9387 - val_accuracy: 0.4976\n",
            "Epoch 208/300\n",
            "27/27 [==============================] - 0s 8ms/step - loss: 0.3434 - accuracy: 0.8391 - val_loss: 0.9362 - val_accuracy: 0.5171\n",
            "Epoch 209/300\n",
            "27/27 [==============================] - 0s 9ms/step - loss: 0.3365 - accuracy: 0.8462 - val_loss: 0.9700 - val_accuracy: 0.4927\n",
            "Epoch 210/300\n",
            "27/27 [==============================] - 0s 9ms/step - loss: 0.3359 - accuracy: 0.8486 - val_loss: 0.9523 - val_accuracy: 0.4902\n",
            "Epoch 211/300\n",
            "27/27 [==============================] - 0s 8ms/step - loss: 0.3255 - accuracy: 0.8510 - val_loss: 0.9620 - val_accuracy: 0.5098\n",
            "Epoch 212/300\n",
            "27/27 [==============================] - 0s 9ms/step - loss: 0.3187 - accuracy: 0.8582 - val_loss: 0.9691 - val_accuracy: 0.5122\n",
            "Epoch 213/300\n",
            "27/27 [==============================] - 0s 8ms/step - loss: 0.3169 - accuracy: 0.8498 - val_loss: 0.9419 - val_accuracy: 0.5195\n",
            "Epoch 214/300\n",
            "27/27 [==============================] - 0s 9ms/step - loss: 0.3162 - accuracy: 0.8594 - val_loss: 0.9307 - val_accuracy: 0.5122\n",
            "Epoch 215/300\n",
            "27/27 [==============================] - 0s 9ms/step - loss: 0.3085 - accuracy: 0.8594 - val_loss: 0.9661 - val_accuracy: 0.4976\n",
            "Epoch 216/300\n",
            "27/27 [==============================] - 0s 8ms/step - loss: 0.3119 - accuracy: 0.8570 - val_loss: 0.9705 - val_accuracy: 0.5024\n",
            "Epoch 217/300\n",
            "27/27 [==============================] - 0s 8ms/step - loss: 0.3071 - accuracy: 0.8605 - val_loss: 0.9705 - val_accuracy: 0.4854\n",
            "Epoch 218/300\n",
            "27/27 [==============================] - 0s 8ms/step - loss: 0.3022 - accuracy: 0.8677 - val_loss: 0.9767 - val_accuracy: 0.5171\n",
            "Epoch 219/300\n",
            "27/27 [==============================] - 0s 8ms/step - loss: 0.3050 - accuracy: 0.8582 - val_loss: 0.9698 - val_accuracy: 0.5049\n",
            "Epoch 220/300\n",
            "27/27 [==============================] - 0s 8ms/step - loss: 0.3011 - accuracy: 0.8522 - val_loss: 0.9576 - val_accuracy: 0.4951\n",
            "Epoch 221/300\n",
            "27/27 [==============================] - 0s 8ms/step - loss: 0.3062 - accuracy: 0.8677 - val_loss: 0.9544 - val_accuracy: 0.5122\n",
            "Epoch 222/300\n",
            "27/27 [==============================] - 0s 8ms/step - loss: 0.3127 - accuracy: 0.8510 - val_loss: 0.9985 - val_accuracy: 0.4878\n",
            "Epoch 223/300\n",
            "27/27 [==============================] - 0s 8ms/step - loss: 0.3424 - accuracy: 0.8403 - val_loss: 0.9664 - val_accuracy: 0.4927\n",
            "Epoch 224/300\n",
            "27/27 [==============================] - 0s 8ms/step - loss: 0.3139 - accuracy: 0.8498 - val_loss: 1.0035 - val_accuracy: 0.4756\n",
            "Epoch 225/300\n",
            "27/27 [==============================] - 0s 8ms/step - loss: 0.3131 - accuracy: 0.8462 - val_loss: 1.0008 - val_accuracy: 0.4756\n",
            "Epoch 226/300\n",
            "27/27 [==============================] - 0s 8ms/step - loss: 0.2982 - accuracy: 0.8641 - val_loss: 0.9873 - val_accuracy: 0.4780\n",
            "Epoch 227/300\n",
            "27/27 [==============================] - 0s 8ms/step - loss: 0.2881 - accuracy: 0.8713 - val_loss: 0.9973 - val_accuracy: 0.5073\n",
            "Epoch 228/300\n",
            "27/27 [==============================] - 0s 8ms/step - loss: 0.2820 - accuracy: 0.8796 - val_loss: 0.9903 - val_accuracy: 0.5098\n",
            "Epoch 229/300\n",
            "27/27 [==============================] - 0s 8ms/step - loss: 0.2826 - accuracy: 0.8713 - val_loss: 0.9929 - val_accuracy: 0.5171\n",
            "Epoch 230/300\n",
            "27/27 [==============================] - 0s 8ms/step - loss: 0.2821 - accuracy: 0.8737 - val_loss: 1.0110 - val_accuracy: 0.5000\n",
            "Epoch 231/300\n",
            "27/27 [==============================] - 0s 8ms/step - loss: 0.2900 - accuracy: 0.8701 - val_loss: 0.9906 - val_accuracy: 0.4976\n",
            "Epoch 232/300\n",
            "27/27 [==============================] - 0s 8ms/step - loss: 0.2858 - accuracy: 0.8665 - val_loss: 1.0130 - val_accuracy: 0.5073\n",
            "Epoch 233/300\n",
            "27/27 [==============================] - 0s 8ms/step - loss: 0.2762 - accuracy: 0.8701 - val_loss: 1.0225 - val_accuracy: 0.4829\n",
            "Epoch 234/300\n",
            "27/27 [==============================] - 0s 8ms/step - loss: 0.2718 - accuracy: 0.8784 - val_loss: 1.0187 - val_accuracy: 0.5000\n",
            "Epoch 235/300\n",
            "27/27 [==============================] - 0s 9ms/step - loss: 0.2719 - accuracy: 0.8772 - val_loss: 1.0229 - val_accuracy: 0.4805\n",
            "Epoch 236/300\n",
            "27/27 [==============================] - 0s 8ms/step - loss: 0.2882 - accuracy: 0.8677 - val_loss: 1.0233 - val_accuracy: 0.4976\n",
            "Epoch 237/300\n",
            "27/27 [==============================] - 0s 8ms/step - loss: 0.2808 - accuracy: 0.8677 - val_loss: 1.0234 - val_accuracy: 0.4976\n",
            "Epoch 238/300\n",
            "27/27 [==============================] - 0s 9ms/step - loss: 0.2820 - accuracy: 0.8641 - val_loss: 1.0291 - val_accuracy: 0.4829\n",
            "Epoch 239/300\n",
            "27/27 [==============================] - 0s 8ms/step - loss: 0.2683 - accuracy: 0.8760 - val_loss: 1.0249 - val_accuracy: 0.4951\n",
            "Epoch 240/300\n",
            "27/27 [==============================] - 0s 8ms/step - loss: 0.2708 - accuracy: 0.8832 - val_loss: 1.0141 - val_accuracy: 0.4829\n",
            "Epoch 241/300\n",
            "27/27 [==============================] - 0s 8ms/step - loss: 0.2648 - accuracy: 0.8856 - val_loss: 1.0304 - val_accuracy: 0.4878\n",
            "Epoch 242/300\n",
            "27/27 [==============================] - 0s 8ms/step - loss: 0.2586 - accuracy: 0.8951 - val_loss: 1.0164 - val_accuracy: 0.4951\n",
            "Epoch 243/300\n",
            "27/27 [==============================] - 0s 9ms/step - loss: 0.2712 - accuracy: 0.8760 - val_loss: 1.0378 - val_accuracy: 0.5024\n",
            "Epoch 244/300\n",
            "27/27 [==============================] - 0s 8ms/step - loss: 0.2645 - accuracy: 0.8796 - val_loss: 1.0593 - val_accuracy: 0.4927\n",
            "Epoch 245/300\n",
            "27/27 [==============================] - 0s 8ms/step - loss: 0.2575 - accuracy: 0.8808 - val_loss: 1.0437 - val_accuracy: 0.5049\n",
            "Epoch 246/300\n",
            "27/27 [==============================] - 0s 8ms/step - loss: 0.2624 - accuracy: 0.8880 - val_loss: 1.0374 - val_accuracy: 0.4976\n",
            "Epoch 247/300\n",
            "27/27 [==============================] - 0s 9ms/step - loss: 0.2631 - accuracy: 0.8868 - val_loss: 1.0541 - val_accuracy: 0.5049\n",
            "Epoch 248/300\n",
            "27/27 [==============================] - 0s 8ms/step - loss: 0.2597 - accuracy: 0.8749 - val_loss: 1.0355 - val_accuracy: 0.4829\n",
            "Epoch 249/300\n",
            "27/27 [==============================] - 0s 8ms/step - loss: 0.2565 - accuracy: 0.8844 - val_loss: 1.0599 - val_accuracy: 0.4927\n",
            "Epoch 250/300\n",
            "27/27 [==============================] - 0s 9ms/step - loss: 0.2500 - accuracy: 0.8975 - val_loss: 1.0503 - val_accuracy: 0.5171\n",
            "Epoch 251/300\n",
            "27/27 [==============================] - 0s 9ms/step - loss: 0.2606 - accuracy: 0.8820 - val_loss: 1.0693 - val_accuracy: 0.4878\n",
            "Epoch 252/300\n",
            "27/27 [==============================] - 0s 9ms/step - loss: 0.2590 - accuracy: 0.8903 - val_loss: 1.0842 - val_accuracy: 0.4902\n",
            "Epoch 253/300\n",
            "27/27 [==============================] - 0s 9ms/step - loss: 0.2497 - accuracy: 0.8784 - val_loss: 1.0504 - val_accuracy: 0.5049\n",
            "Epoch 254/300\n",
            "27/27 [==============================] - 0s 8ms/step - loss: 0.2423 - accuracy: 0.8903 - val_loss: 1.0708 - val_accuracy: 0.4951\n",
            "Epoch 255/300\n",
            "27/27 [==============================] - 0s 8ms/step - loss: 0.2354 - accuracy: 0.8963 - val_loss: 1.0927 - val_accuracy: 0.4976\n",
            "Epoch 256/300\n",
            "27/27 [==============================] - 0s 8ms/step - loss: 0.2376 - accuracy: 0.8963 - val_loss: 1.0908 - val_accuracy: 0.4878\n",
            "Epoch 257/300\n",
            "27/27 [==============================] - 0s 8ms/step - loss: 0.2303 - accuracy: 0.9046 - val_loss: 1.0897 - val_accuracy: 0.4878\n",
            "Epoch 258/300\n",
            "27/27 [==============================] - 0s 8ms/step - loss: 0.2365 - accuracy: 0.8951 - val_loss: 1.1060 - val_accuracy: 0.4902\n",
            "Epoch 259/300\n",
            "27/27 [==============================] - 0s 9ms/step - loss: 0.2271 - accuracy: 0.9035 - val_loss: 1.0849 - val_accuracy: 0.4927\n",
            "Epoch 260/300\n",
            "27/27 [==============================] - 0s 8ms/step - loss: 0.2273 - accuracy: 0.9082 - val_loss: 1.0963 - val_accuracy: 0.4976\n",
            "Epoch 261/300\n",
            "27/27 [==============================] - 0s 9ms/step - loss: 0.2205 - accuracy: 0.9082 - val_loss: 1.1129 - val_accuracy: 0.4927\n",
            "Epoch 262/300\n",
            "27/27 [==============================] - 0s 8ms/step - loss: 0.2229 - accuracy: 0.9023 - val_loss: 1.1115 - val_accuracy: 0.4902\n",
            "Epoch 263/300\n",
            "27/27 [==============================] - 0s 8ms/step - loss: 0.2191 - accuracy: 0.9046 - val_loss: 1.0715 - val_accuracy: 0.5000\n",
            "Epoch 264/300\n",
            "27/27 [==============================] - 0s 8ms/step - loss: 0.2161 - accuracy: 0.9106 - val_loss: 1.1175 - val_accuracy: 0.4878\n",
            "Epoch 265/300\n",
            "27/27 [==============================] - 0s 8ms/step - loss: 0.2181 - accuracy: 0.9058 - val_loss: 1.1024 - val_accuracy: 0.4976\n",
            "Epoch 266/300\n",
            "27/27 [==============================] - 0s 8ms/step - loss: 0.2144 - accuracy: 0.9118 - val_loss: 1.1036 - val_accuracy: 0.5000\n",
            "Epoch 267/300\n",
            "27/27 [==============================] - 0s 8ms/step - loss: 0.2162 - accuracy: 0.9058 - val_loss: 1.1212 - val_accuracy: 0.5000\n",
            "Epoch 268/300\n",
            "27/27 [==============================] - 0s 8ms/step - loss: 0.2213 - accuracy: 0.8987 - val_loss: 1.0821 - val_accuracy: 0.5000\n",
            "Epoch 269/300\n",
            "27/27 [==============================] - 0s 8ms/step - loss: 0.2384 - accuracy: 0.8951 - val_loss: 1.0613 - val_accuracy: 0.4927\n",
            "Epoch 270/300\n",
            "27/27 [==============================] - 0s 9ms/step - loss: 0.2163 - accuracy: 0.9070 - val_loss: 1.0858 - val_accuracy: 0.5122\n",
            "Epoch 271/300\n",
            "27/27 [==============================] - 0s 9ms/step - loss: 0.2129 - accuracy: 0.9154 - val_loss: 1.1032 - val_accuracy: 0.4976\n",
            "Epoch 272/300\n",
            "27/27 [==============================] - 0s 8ms/step - loss: 0.2092 - accuracy: 0.9118 - val_loss: 1.1081 - val_accuracy: 0.4976\n",
            "Epoch 273/300\n",
            "27/27 [==============================] - 0s 8ms/step - loss: 0.2065 - accuracy: 0.9142 - val_loss: 1.1168 - val_accuracy: 0.4927\n",
            "Epoch 274/300\n",
            "27/27 [==============================] - 0s 8ms/step - loss: 0.2093 - accuracy: 0.9070 - val_loss: 1.1222 - val_accuracy: 0.5000\n",
            "Epoch 275/300\n",
            "27/27 [==============================] - 0s 8ms/step - loss: 0.2444 - accuracy: 0.9011 - val_loss: 1.1348 - val_accuracy: 0.5073\n",
            "Epoch 276/300\n",
            "27/27 [==============================] - 0s 8ms/step - loss: 0.2351 - accuracy: 0.8987 - val_loss: 1.1383 - val_accuracy: 0.4951\n",
            "Epoch 277/300\n",
            "27/27 [==============================] - 0s 8ms/step - loss: 0.2082 - accuracy: 0.9094 - val_loss: 1.1103 - val_accuracy: 0.5049\n",
            "Epoch 278/300\n",
            "27/27 [==============================] - 0s 8ms/step - loss: 0.2063 - accuracy: 0.9094 - val_loss: 1.1494 - val_accuracy: 0.5024\n",
            "Epoch 279/300\n",
            "27/27 [==============================] - 0s 8ms/step - loss: 0.1997 - accuracy: 0.9166 - val_loss: 1.1654 - val_accuracy: 0.5000\n",
            "Epoch 280/300\n",
            "27/27 [==============================] - 0s 8ms/step - loss: 0.2006 - accuracy: 0.9142 - val_loss: 1.1410 - val_accuracy: 0.5000\n",
            "Epoch 281/300\n",
            "27/27 [==============================] - 0s 8ms/step - loss: 0.1965 - accuracy: 0.9178 - val_loss: 1.1381 - val_accuracy: 0.5049\n",
            "Epoch 282/300\n",
            "27/27 [==============================] - 0s 9ms/step - loss: 0.1947 - accuracy: 0.9130 - val_loss: 1.1518 - val_accuracy: 0.4878\n",
            "Epoch 283/300\n",
            "27/27 [==============================] - 0s 8ms/step - loss: 0.1922 - accuracy: 0.9154 - val_loss: 1.1669 - val_accuracy: 0.4854\n",
            "Epoch 284/300\n",
            "27/27 [==============================] - 0s 8ms/step - loss: 0.1900 - accuracy: 0.9166 - val_loss: 1.1514 - val_accuracy: 0.5024\n",
            "Epoch 285/300\n",
            "27/27 [==============================] - 0s 8ms/step - loss: 0.1931 - accuracy: 0.9082 - val_loss: 1.1610 - val_accuracy: 0.5024\n",
            "Epoch 286/300\n",
            "27/27 [==============================] - 0s 8ms/step - loss: 0.1854 - accuracy: 0.9237 - val_loss: 1.1748 - val_accuracy: 0.4854\n",
            "Epoch 287/300\n",
            "27/27 [==============================] - 0s 8ms/step - loss: 0.1862 - accuracy: 0.9213 - val_loss: 1.1615 - val_accuracy: 0.5000\n",
            "Epoch 288/300\n",
            "27/27 [==============================] - 0s 8ms/step - loss: 0.1817 - accuracy: 0.9213 - val_loss: 1.1808 - val_accuracy: 0.5024\n",
            "Epoch 289/300\n",
            "27/27 [==============================] - 0s 9ms/step - loss: 0.1820 - accuracy: 0.9237 - val_loss: 1.1960 - val_accuracy: 0.5000\n",
            "Epoch 290/300\n",
            "27/27 [==============================] - 0s 9ms/step - loss: 0.1880 - accuracy: 0.9106 - val_loss: 1.2188 - val_accuracy: 0.4756\n",
            "Epoch 291/300\n",
            "27/27 [==============================] - 0s 8ms/step - loss: 0.1810 - accuracy: 0.9261 - val_loss: 1.1842 - val_accuracy: 0.4878\n",
            "Epoch 292/300\n",
            "27/27 [==============================] - 0s 8ms/step - loss: 0.1782 - accuracy: 0.9285 - val_loss: 1.1695 - val_accuracy: 0.5000\n",
            "Epoch 293/300\n",
            "27/27 [==============================] - 0s 8ms/step - loss: 0.1849 - accuracy: 0.9190 - val_loss: 1.1689 - val_accuracy: 0.5049\n",
            "Epoch 294/300\n",
            "27/27 [==============================] - 0s 8ms/step - loss: 0.1777 - accuracy: 0.9261 - val_loss: 1.1926 - val_accuracy: 0.4976\n",
            "Epoch 295/300\n",
            "27/27 [==============================] - 0s 9ms/step - loss: 0.1741 - accuracy: 0.9309 - val_loss: 1.1778 - val_accuracy: 0.4927\n",
            "Epoch 296/300\n",
            "27/27 [==============================] - 0s 8ms/step - loss: 0.1776 - accuracy: 0.9249 - val_loss: 1.1816 - val_accuracy: 0.4805\n",
            "Epoch 297/300\n",
            "27/27 [==============================] - 0s 8ms/step - loss: 0.1721 - accuracy: 0.9225 - val_loss: 1.1731 - val_accuracy: 0.4951\n",
            "Epoch 298/300\n",
            "27/27 [==============================] - 0s 8ms/step - loss: 0.1714 - accuracy: 0.9309 - val_loss: 1.2065 - val_accuracy: 0.4927\n",
            "Epoch 299/300\n",
            "27/27 [==============================] - 0s 8ms/step - loss: 0.1903 - accuracy: 0.9178 - val_loss: 1.2072 - val_accuracy: 0.4805\n",
            "Epoch 300/300\n",
            "27/27 [==============================] - 0s 8ms/step - loss: 0.2009 - accuracy: 0.9154 - val_loss: 1.2127 - val_accuracy: 0.4976\n"
          ],
          "name": "stdout"
        }
      ]
    },
    {
      "cell_type": "code",
      "metadata": {
        "id": "lV3RDH7APqX9",
        "colab_type": "code",
        "colab": {
          "base_uri": "https://localhost:8080/",
          "height": 265
        },
        "outputId": "6ce9b2f7-df6c-45b7-b763-f24938cbb04e"
      },
      "source": [
        "# plot the loss\n",
        "plt.plot(r.history['loss'], label='loss')\n",
        "plt.plot(r.history['val_loss'], label='val_loss')\n",
        "plt.legend()\n",
        "plt.show()"
      ],
      "execution_count": 31,
      "outputs": [
        {
          "output_type": "display_data",
          "data": {
            "image/png": "[encoded data removed]",
            "text/plain": [
              "<Figure size 432x288 with 1 Axes>"
            ]
          },
          "metadata": {
            "tags": [],
            "needs_background": "light"
          }
        }
      ]
    },
    {
      "cell_type": "code",
      "metadata": {
        "id": "qTKSRD2qPs3I",
        "colab_type": "code",
        "colab": {
          "base_uri": "https://localhost:8080/",
          "height": 265
        },
        "outputId": "9246f3f3-5bdf-464a-b84d-80e423553af8"
      },
      "source": [
        "# Plot accuracy per iteration\n",
        "plt.plot(r.history['accuracy'], label='accuracy')\n",
        "plt.plot(r.history['val_accuracy'], label='val_accuracy')\n",
        "plt.legend()\n",
        "plt.show()"
      ],
      "execution_count": 32,
      "outputs": [
        {
          "output_type": "display_data",
          "data": {
            "image/png": "[encoded data removed]",
            "text/plain": [
              "<Figure size 432x288 with 1 Axes>"
            ]
          },
          "metadata": {
            "tags": [],
            "needs_background": "light"
          }
        }
      ]
    },
    {
      "cell_type": "code",
      "metadata": {
        "id": "DXzRYAqQP9V3",
        "colab_type": "code",
        "colab": {}
      },
      "source": [
        ""
      ],
      "execution_count": null,
      "outputs": []
    }
  ]
}