{
  "nbformat": 4,
  "nbformat_minor": 0,
  "metadata": {
    "colab": {
      "name": "TF2.0 Autoregressive Model.ipynb",
      "provenance": [],
      "collapsed_sections": [],
      "authorship_tag": "ABX9TyMsQ9MR2W96AETYG3hYPp1+",
      "include_colab_link": true
    },
    "kernelspec": {
      "name": "python3",
      "display_name": "Python 3"
    }
  },
  "cells": [
    {
      "cell_type": "markdown",
      "metadata": {
        "id": "view-in-github",
        "colab_type": "text"
      },
      "source": [
        "<a href=\"https://colab.research.google.com/github/SwethaVipparla/Tensorflow/blob/master/RNN/Autoregressive_Model.ipynb\" target=\"_parent\"><img src=\"https://colab.research.google.com/assets/colab-badge.svg\" alt=\"Open In Colab\"/></a>"
      ]
    },
    {
      "cell_type": "code",
      "metadata": {
        "id": "qFb0m4QD-jxv",
        "colab_type": "code",
        "colab": {
          "base_uri": "https://localhost:8080/",
          "height": 34
        },
        "outputId": "f4388d2c-54be-43b0-ed24-5f9d2d088474"
      },
      "source": [
        "import tensorflow as tf\n",
        "print(tf.__version__)"
      ],
      "execution_count": 1,
      "outputs": [
        {
          "output_type": "stream",
          "text": [
            "2.2.0\n"
          ],
          "name": "stdout"
        }
      ]
    },
    {
      "cell_type": "code",
      "metadata": {
        "id": "q4CgKial-rXT",
        "colab_type": "code",
        "colab": {}
      },
      "source": [
        "from tensorflow.keras.layers import Input, Dense\n",
        "from tensorflow.keras.models import Model\n",
        "from tensorflow.keras.optimizers import SGD, Adam\n",
        "\n",
        "import numpy as np\n",
        "import pandas as pd\n",
        "import matplotlib.pyplot as plt"
      ],
      "execution_count": 2,
      "outputs": []
    },
    {
      "cell_type": "code",
      "metadata": {
        "id": "WHD0vqPf-uKA",
        "colab_type": "code",
        "colab": {
          "base_uri": "https://localhost:8080/",
          "height": 265
        },
        "outputId": "cff69529-96e0-4135-ab06-99247ecf17af"
      },
      "source": [
        "# make the original data\n",
        "series = np.sin(0.1*np.arange(200)) #+ np.random.randn(200)*0.1\n",
        "\n",
        "# plot it\n",
        "plt.plot(series)\n",
        "plt.show()"
      ],
      "execution_count": 3,
      "outputs": [
        {
          "output_type": "display_data",
          "data": {
            "image/png": "[encoded data removed]",
            "text/plain": [
              "<Figure size 432x288 with 1 Axes>"
            ]
          },
          "metadata": {
            "tags": [],
            "needs_background": "light"
          }
        }
      ]
    },
    {
      "cell_type": "code",
      "metadata": {
        "id": "W8KuU2PH-vXh",
        "colab_type": "code",
        "colab": {
          "base_uri": "https://localhost:8080/",
          "height": 34
        },
        "outputId": "b38d2fc2-9a62-4be5-d552-f8700f25f5b3"
      },
      "source": [
        "### build the dataset\n",
        "# let's see if we can use T past values to predict the next value\n",
        "T = 10\n",
        "X = []\n",
        "Y = []\n",
        "for t in range(len(series) - T):\n",
        "  x = series[t:t+T]\n",
        "  X.append(x)\n",
        "  y = series[t+T]\n",
        "  Y.append(y)\n",
        "\n",
        "X = np.array(X).reshape(-1, T)\n",
        "Y = np.array(Y)\n",
        "N = len(X)\n",
        "print(\"X.shape\", X.shape, \"Y.shape\", Y.shape)"
      ],
      "execution_count": 4,
      "outputs": [
        {
          "output_type": "stream",
          "text": [
            "X.shape (190, 10) Y.shape (190,)\n"
          ],
          "name": "stdout"
        }
      ]
    },
    {
      "cell_type": "code",
      "metadata": {
        "id": "6OtPUd_f-4ZH",
        "colab_type": "code",
        "colab": {
          "base_uri": "https://localhost:8080/",
          "height": 1000
        },
        "outputId": "5c1af0a4-1d8e-4fa2-8776-9200e21e7ed5"
      },
      "source": [
        "# try autoregressive linear model\n",
        "i = Input(shape=(T,))\n",
        "x = Dense(1)(i)\n",
        "model = Model(i, x)\n",
        "model.compile(\n",
        "  loss='mse',\n",
        "  optimizer=Adam(lr=0.1),\n",
        ")\n",
        "\n",
        "# train the RNN\n",
        "r = model.fit(\n",
        "  X[:-N//2], Y[:-N//2],\n",
        "  epochs=80,\n",
        "  validation_data=(X[-N//2:], Y[-N//2:]),\n",
        ")"
      ],
      "execution_count": 5,
      "outputs": [
        {
          "output_type": "stream",
          "text": [
            "Epoch 1/80\n",
            "3/3 [==============================] - 0s 51ms/step - loss: 0.6508 - val_loss: 0.3172\n",
            "Epoch 2/80\n",
            "3/3 [==============================] - 0s 12ms/step - loss: 0.2001 - val_loss: 0.0745\n",
            "Epoch 3/80\n",
            "3/3 [==============================] - 0s 12ms/step - loss: 0.0350 - val_loss: 0.0304\n",
            "Epoch 4/80\n",
            "3/3 [==============================] - 0s 12ms/step - loss: 0.0331 - val_loss: 0.0686\n",
            "Epoch 5/80\n",
            "3/3 [==============================] - 0s 12ms/step - loss: 0.0727 - val_loss: 0.0922\n",
            "Epoch 6/80\n",
            "3/3 [==============================] - 0s 12ms/step - loss: 0.0736 - val_loss: 0.0747\n",
            "Epoch 7/80\n",
            "3/3 [==============================] - 0s 12ms/step - loss: 0.0471 - val_loss: 0.0271\n",
            "Epoch 8/80\n",
            "3/3 [==============================] - 0s 12ms/step - loss: 0.0213 - val_loss: 0.0042\n",
            "Epoch 9/80\n",
            "3/3 [==============================] - 0s 14ms/step - loss: 0.0031 - val_loss: 0.0058\n",
            "Epoch 10/80\n",
            "3/3 [==============================] - 0s 12ms/step - loss: 0.0063 - val_loss: 0.0114\n",
            "Epoch 11/80\n",
            "3/3 [==============================] - 0s 12ms/step - loss: 0.0140 - val_loss: 0.0132\n",
            "Epoch 12/80\n",
            "3/3 [==============================] - 0s 12ms/step - loss: 0.0122 - val_loss: 0.0100\n",
            "Epoch 13/80\n",
            "3/3 [==============================] - 0s 12ms/step - loss: 0.0065 - val_loss: 0.0042\n",
            "Epoch 14/80\n",
            "3/3 [==============================] - 0s 12ms/step - loss: 0.0019 - val_loss: 5.3275e-05\n",
            "Epoch 15/80\n",
            "3/3 [==============================] - 0s 12ms/step - loss: 7.3549e-04 - val_loss: 0.0017\n",
            "Epoch 16/80\n",
            "3/3 [==============================] - 0s 12ms/step - loss: 0.0021 - val_loss: 0.0031\n",
            "Epoch 17/80\n",
            "3/3 [==============================] - 0s 12ms/step - loss: 0.0027 - val_loss: 0.0025\n",
            "Epoch 18/80\n",
            "3/3 [==============================] - 0s 16ms/step - loss: 0.0015 - val_loss: 5.9271e-04\n",
            "Epoch 19/80\n",
            "3/3 [==============================] - 0s 14ms/step - loss: 3.0675e-04 - val_loss: 2.9059e-05\n",
            "Epoch 20/80\n",
            "3/3 [==============================] - 0s 11ms/step - loss: 1.3265e-04 - val_loss: 4.2872e-04\n",
            "Epoch 21/80\n",
            "3/3 [==============================] - 0s 12ms/step - loss: 5.2629e-04 - val_loss: 6.4455e-04\n",
            "Epoch 22/80\n",
            "3/3 [==============================] - 0s 12ms/step - loss: 5.5979e-04 - val_loss: 4.0848e-04\n",
            "Epoch 23/80\n",
            "3/3 [==============================] - 0s 11ms/step - loss: 2.5283e-04 - val_loss: 9.9463e-05\n",
            "Epoch 24/80\n",
            "3/3 [==============================] - 0s 12ms/step - loss: 4.1116e-05 - val_loss: 3.9369e-05\n",
            "Epoch 25/80\n",
            "3/3 [==============================] - 0s 12ms/step - loss: 7.4713e-05 - val_loss: 1.4341e-04\n",
            "Epoch 26/80\n",
            "3/3 [==============================] - 0s 13ms/step - loss: 1.5116e-04 - val_loss: 1.5506e-04\n",
            "Epoch 27/80\n",
            "3/3 [==============================] - 0s 12ms/step - loss: 1.1308e-04 - val_loss: 6.4489e-05\n",
            "Epoch 28/80\n",
            "3/3 [==============================] - 0s 16ms/step - loss: 3.0098e-05 - val_loss: 1.4132e-06\n",
            "Epoch 29/80\n",
            "3/3 [==============================] - 0s 12ms/step - loss: 7.7571e-06 - val_loss: 2.7653e-05\n",
            "Epoch 30/80\n",
            "3/3 [==============================] - 0s 12ms/step - loss: 3.2090e-05 - val_loss: 5.7287e-05\n",
            "Epoch 31/80\n",
            "3/3 [==============================] - 0s 13ms/step - loss: 3.8430e-05 - val_loss: 2.7377e-05\n",
            "Epoch 32/80\n",
            "3/3 [==============================] - 0s 12ms/step - loss: 1.9371e-05 - val_loss: 6.1787e-06\n",
            "Epoch 33/80\n",
            "3/3 [==============================] - 0s 12ms/step - loss: 6.1872e-06 - val_loss: 7.1145e-06\n",
            "Epoch 34/80\n",
            "3/3 [==============================] - 0s 11ms/step - loss: 1.0207e-05 - val_loss: 1.2189e-05\n",
            "Epoch 35/80\n",
            "3/3 [==============================] - 0s 12ms/step - loss: 1.1874e-05 - val_loss: 9.4097e-06\n",
            "Epoch 36/80\n",
            "3/3 [==============================] - 0s 12ms/step - loss: 5.9659e-06 - val_loss: 1.2113e-06\n",
            "Epoch 37/80\n",
            "3/3 [==============================] - 0s 16ms/step - loss: 1.3273e-06 - val_loss: 1.3241e-06\n",
            "Epoch 38/80\n",
            "3/3 [==============================] - 0s 12ms/step - loss: 2.2254e-06 - val_loss: 3.4738e-06\n",
            "Epoch 39/80\n",
            "3/3 [==============================] - 0s 12ms/step - loss: 3.6979e-06 - val_loss: 2.1695e-06\n",
            "Epoch 40/80\n",
            "3/3 [==============================] - 0s 12ms/step - loss: 2.0980e-06 - val_loss: 4.0499e-07\n",
            "Epoch 41/80\n",
            "3/3 [==============================] - 0s 12ms/step - loss: 7.4515e-07 - val_loss: 3.6604e-07\n",
            "Epoch 42/80\n",
            "3/3 [==============================] - 0s 14ms/step - loss: 1.1776e-06 - val_loss: 1.0987e-06\n",
            "Epoch 43/80\n",
            "3/3 [==============================] - 0s 12ms/step - loss: 1.4490e-06 - val_loss: 6.0174e-07\n",
            "Epoch 44/80\n",
            "3/3 [==============================] - 0s 11ms/step - loss: 6.4952e-07 - val_loss: 2.6291e-08\n",
            "Epoch 45/80\n",
            "3/3 [==============================] - 0s 13ms/step - loss: 2.4787e-07 - val_loss: 1.4207e-07\n",
            "Epoch 46/80\n",
            "3/3 [==============================] - 0s 12ms/step - loss: 3.3419e-07 - val_loss: 2.8717e-07\n",
            "Epoch 47/80\n",
            "3/3 [==============================] - 0s 14ms/step - loss: 2.8733e-07 - val_loss: 1.5128e-07\n",
            "Epoch 48/80\n",
            "3/3 [==============================] - 0s 13ms/step - loss: 7.7603e-08 - val_loss: 1.2362e-08\n",
            "Epoch 49/80\n",
            "3/3 [==============================] - 0s 13ms/step - loss: 2.2545e-08 - val_loss: 8.9753e-08\n",
            "Epoch 50/80\n",
            "3/3 [==============================] - 0s 12ms/step - loss: 8.2298e-08 - val_loss: 9.0888e-08\n",
            "Epoch 51/80\n",
            "3/3 [==============================] - 0s 12ms/step - loss: 6.5330e-08 - val_loss: 1.9685e-08\n",
            "Epoch 52/80\n",
            "3/3 [==============================] - 0s 12ms/step - loss: 1.2985e-08 - val_loss: 6.1722e-09\n",
            "Epoch 53/80\n",
            "3/3 [==============================] - 0s 12ms/step - loss: 1.4737e-08 - val_loss: 3.4567e-08\n",
            "Epoch 54/80\n",
            "3/3 [==============================] - 0s 12ms/step - loss: 3.3885e-08 - val_loss: 2.3936e-08\n",
            "Epoch 55/80\n",
            "3/3 [==============================] - 0s 12ms/step - loss: 1.3543e-08 - val_loss: 4.3133e-09\n",
            "Epoch 56/80\n",
            "3/3 [==============================] - 0s 12ms/step - loss: 4.0053e-09 - val_loss: 6.0755e-09\n",
            "Epoch 57/80\n",
            "3/3 [==============================] - 0s 16ms/step - loss: 8.6917e-09 - val_loss: 1.7071e-08\n",
            "Epoch 58/80\n",
            "3/3 [==============================] - 0s 12ms/step - loss: 1.0696e-08 - val_loss: 4.3901e-09\n",
            "Epoch 59/80\n",
            "3/3 [==============================] - 0s 12ms/step - loss: 4.6002e-09 - val_loss: 2.7860e-09\n",
            "Epoch 60/80\n",
            "3/3 [==============================] - 0s 12ms/step - loss: 3.3193e-09 - val_loss: 3.6495e-09\n",
            "Epoch 61/80\n",
            "3/3 [==============================] - 0s 12ms/step - loss: 4.4900e-09 - val_loss: 3.3360e-09\n",
            "Epoch 62/80\n",
            "3/3 [==============================] - 0s 12ms/step - loss: 2.7634e-09 - val_loss: 1.0057e-09\n",
            "Epoch 63/80\n",
            "3/3 [==============================] - 0s 12ms/step - loss: 9.3180e-10 - val_loss: 1.3393e-09\n",
            "Epoch 64/80\n",
            "3/3 [==============================] - 0s 13ms/step - loss: 1.2095e-09 - val_loss: 2.8212e-09\n",
            "Epoch 65/80\n",
            "3/3 [==============================] - 0s 12ms/step - loss: 1.7660e-09 - val_loss: 8.4168e-10\n",
            "Epoch 66/80\n",
            "3/3 [==============================] - 0s 17ms/step - loss: 4.1054e-10 - val_loss: 1.8947e-10\n",
            "Epoch 67/80\n",
            "3/3 [==============================] - 0s 13ms/step - loss: 4.1141e-10 - val_loss: 5.2801e-10\n",
            "Epoch 68/80\n",
            "3/3 [==============================] - 0s 12ms/step - loss: 5.1351e-10 - val_loss: 3.4340e-10\n",
            "Epoch 69/80\n",
            "3/3 [==============================] - 0s 12ms/step - loss: 3.1313e-10 - val_loss: 1.3658e-10\n",
            "Epoch 70/80\n",
            "3/3 [==============================] - 0s 12ms/step - loss: 1.3872e-10 - val_loss: 2.4220e-10\n",
            "Epoch 71/80\n",
            "3/3 [==============================] - 0s 12ms/step - loss: 2.1494e-10 - val_loss: 3.2464e-10\n",
            "Epoch 72/80\n",
            "3/3 [==============================] - 0s 12ms/step - loss: 2.2145e-10 - val_loss: 6.1106e-11\n",
            "Epoch 73/80\n",
            "3/3 [==============================] - 0s 12ms/step - loss: 6.3905e-11 - val_loss: 9.2442e-11\n",
            "Epoch 74/80\n",
            "3/3 [==============================] - 0s 13ms/step - loss: 9.0075e-11 - val_loss: 1.4826e-10\n",
            "Epoch 75/80\n",
            "3/3 [==============================] - 0s 12ms/step - loss: 1.0490e-10 - val_loss: 8.9725e-11\n",
            "Epoch 76/80\n",
            "3/3 [==============================] - 0s 14ms/step - loss: 7.3519e-11 - val_loss: 4.9960e-11\n",
            "Epoch 77/80\n",
            "3/3 [==============================] - 0s 12ms/step - loss: 4.5374e-11 - val_loss: 2.4824e-11\n",
            "Epoch 78/80\n",
            "3/3 [==============================] - 0s 12ms/step - loss: 4.6602e-11 - val_loss: 2.5435e-11\n",
            "Epoch 79/80\n",
            "3/3 [==============================] - 0s 12ms/step - loss: 2.9214e-11 - val_loss: 5.4453e-11\n",
            "Epoch 80/80\n",
            "3/3 [==============================] - 0s 12ms/step - loss: 2.3387e-11 - val_loss: 3.4413e-11\n"
          ],
          "name": "stdout"
        }
      ]
    },
    {
      "cell_type": "code",
      "metadata": {
        "id": "vYB8zd-v-8V0",
        "colab_type": "code",
        "colab": {
          "base_uri": "https://localhost:8080/",
          "height": 282
        },
        "outputId": "d981cf03-38a1-4644-dde2-4e326ea1c5e7"
      },
      "source": [
        "# Plot loss per iteration\n",
        "import matplotlib.pyplot as plt\n",
        "plt.plot(r.history['loss'], label='loss')\n",
        "plt.plot(r.history['val_loss'], label='val_loss')\n",
        "plt.legend()"
      ],
      "execution_count": 6,
      "outputs": [
        {
          "output_type": "execute_result",
          "data": {
            "text/plain": [
              "<matplotlib.legend.Legend at 0x7f4938a9ef28>"
            ]
          },
          "metadata": {
            "tags": []
          },
          "execution_count": 6
        },
        {
          "output_type": "display_data",
          "data": {
            "image/png": "[encoded data removed]",
            "text/plain": [
              "<Figure size 432x288 with 1 Axes>"
            ]
          },
          "metadata": {
            "tags": [],
            "needs_background": "light"
          }
        }
      ]
    },
    {
      "cell_type": "code",
      "metadata": {
        "id": "bcNQ672d_AXX",
        "colab_type": "code",
        "colab": {}
      },
      "source": [
        "# \"Wrong\" forecast using true targets\n",
        "\n",
        "validation_target = Y[-N//2:]\n",
        "validation_predictions = []\n",
        "\n",
        "# index of first validation input\n",
        "i = -N//2\n",
        "\n",
        "while len(validation_predictions) < len(validation_target):\n",
        "  p = model.predict(X[i].reshape(1, -1))[0,0] # 1x1 array -> scalar\n",
        "  i += 1\n",
        "  \n",
        "  # update the predictions list\n",
        "  validation_predictions.append(p)"
      ],
      "execution_count": 7,
      "outputs": []
    },
    {
      "cell_type": "code",
      "metadata": {
        "id": "8b1wO9Zs_CwC",
        "colab_type": "code",
        "colab": {
          "base_uri": "https://localhost:8080/",
          "height": 282
        },
        "outputId": "ad648113-6ea3-4867-b6f9-2bebb65c3dce"
      },
      "source": [
        "plt.plot(validation_target, label='forecast target')\n",
        "plt.plot(validation_predictions, label='forecast prediction')\n",
        "plt.legend()"
      ],
      "execution_count": 8,
      "outputs": [
        {
          "output_type": "execute_result",
          "data": {
            "text/plain": [
              "<matplotlib.legend.Legend at 0x7f4939b511d0>"
            ]
          },
          "metadata": {
            "tags": []
          },
          "execution_count": 8
        },
        {
          "output_type": "display_data",
          "data": {
            "image/png": "[encoded data removed]",
            "text/plain": [
              "<Figure size 432x288 with 1 Axes>"
            ]
          },
          "metadata": {
            "tags": [],
            "needs_background": "light"
          }
        }
      ]
    },
    {
      "cell_type": "code",
      "metadata": {
        "id": "RXuX2_vq_EP5",
        "colab_type": "code",
        "colab": {}
      },
      "source": [
        "# Forecast future values (use only self-predictions for making future predictions)\n",
        "\n",
        "validation_target = Y[-N//2:]\n",
        "validation_predictions = []\n",
        "\n",
        "# first validation input\n",
        "last_x = X[-N//2] # 1-D array of length T\n",
        "\n",
        "while len(validation_predictions) < len(validation_target):\n",
        "  p = model.predict(last_x.reshape(1, -1))[0,0] # 1x1 array -> scalar\n",
        "  \n",
        "  # update the predictions list\n",
        "  validation_predictions.append(p)\n",
        "  \n",
        "  # make the new input\n",
        "  last_x = np.roll(last_x, -1)\n",
        "  last_x[-1] = p"
      ],
      "execution_count": 9,
      "outputs": []
    },
    {
      "cell_type": "code",
      "metadata": {
        "id": "BN4n8ivZ_GP_",
        "colab_type": "code",
        "colab": {
          "base_uri": "https://localhost:8080/",
          "height": 282
        },
        "outputId": "040477d0-d1c8-4655-8988-61981f2b8c34"
      },
      "source": [
        "plt.plot(validation_target, label='forecast target')\n",
        "plt.plot(validation_predictions, label='forecast prediction')\n",
        "plt.legend()"
      ],
      "execution_count": 10,
      "outputs": [
        {
          "output_type": "execute_result",
          "data": {
            "text/plain": [
              "<matplotlib.legend.Legend at 0x7f493a40f7f0>"
            ]
          },
          "metadata": {
            "tags": []
          },
          "execution_count": 10
        },
        {
          "output_type": "display_data",
          "data": {
            "image/png": "[encoded data removed]",
            "text/plain": [
              "<Figure size 432x288 with 1 Axes>"
            ]
          },
          "metadata": {
            "tags": [],
            "needs_background": "light"
          }
        }
      ]
    },
    {
      "cell_type": "code",
      "metadata": {
        "id": "QXWw0nlT_HgN",
        "colab_type": "code",
        "colab": {}
      },
      "source": [
        ""
      ],
      "execution_count": null,
      "outputs": []
    }
  ]
}