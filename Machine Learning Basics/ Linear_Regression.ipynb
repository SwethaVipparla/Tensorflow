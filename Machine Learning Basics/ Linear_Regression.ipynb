{
  "nbformat": 4,
  "nbformat_minor": 0,
  "metadata": {
    "colab": {
      "name": "TF2.0 Linear Regression.ipynb",
      "provenance": [],
      "collapsed_sections": [],
      "authorship_tag": "ABX9TyNCJxhdZAX/8oM9KdsiFmuu",
      "include_colab_link": true
    },
    "kernelspec": {
      "name": "python3",
      "display_name": "Python 3"
    }
  },
  "cells": [
    {
      "cell_type": "markdown",
      "metadata": {
        "id": "view-in-github",
        "colab_type": "text"
      },
      "source": [
        "<a href=\"https://colab.research.google.com/github/SwethaVipparla/Tensorflow/blob/master/Machine%20Learning%20Basics/%20Linear_Regression.ipynb\" target=\"_parent\"><img src=\"https://colab.research.google.com/assets/colab-badge.svg\" alt=\"Open In Colab\"/></a>"
      ]
    },
    {
      "cell_type": "code",
      "metadata": {
        "id": "7w4k848OxZ8W",
        "colab_type": "code",
        "colab": {
          "base_uri": "https://localhost:8080/",
          "height": 34
        },
        "outputId": "ccd262cd-1340-4e79-cf46-cb52db228ea5"
      },
      "source": [
        "# Install TensorFlow\n",
        "import tensorflow as tf\n",
        "print(tf.__version__)"
      ],
      "execution_count": 1,
      "outputs": [
        {
          "output_type": "stream",
          "text": [
            "2.2.0\n"
          ],
          "name": "stdout"
        }
      ]
    },
    {
      "cell_type": "code",
      "metadata": {
        "id": "yAkxeU1DxgVm",
        "colab_type": "code",
        "colab": {}
      },
      "source": [
        "# Other imports\n",
        "import pandas as pd\n",
        "import numpy as np\n",
        "import matplotlib.pyplot as plt"
      ],
      "execution_count": 2,
      "outputs": []
    },
    {
      "cell_type": "code",
      "metadata": {
        "id": "FuJxngPtxp2j",
        "colab_type": "code",
        "colab": {
          "base_uri": "https://localhost:8080/",
          "height": 207
        },
        "outputId": "c3c995d8-0572-4741-c91a-2f85b7a5621e"
      },
      "source": [
        "# Get the data\n",
        "!wget https://raw.githubusercontent.com/lazyprogrammer/machine_learning_examples/master/tf2.0/moore.csv"
      ],
      "execution_count": 3,
      "outputs": [
        {
          "output_type": "stream",
          "text": [
            "--2020-06-29 15:51:51--  https://raw.githubusercontent.com/lazyprogrammer/machine_learning_examples/master/tf2.0/moore.csv\n",
            "Resolving raw.githubusercontent.com (raw.githubusercontent.com)... 151.101.0.133, 151.101.64.133, 151.101.128.133, ...\n",
            "Connecting to raw.githubusercontent.com (raw.githubusercontent.com)|151.101.0.133|:443... connected.\n",
            "HTTP request sent, awaiting response... 200 OK\n",
            "Length: 2302 (2.2K) [text/plain]\n",
            "Saving to: ‘moore.csv’\n",
            "\n",
            "\rmoore.csv             0%[                    ]       0  --.-KB/s               \rmoore.csv           100%[===================>]   2.25K  --.-KB/s    in 0s      \n",
            "\n",
            "2020-06-29 15:51:51 (44.7 MB/s) - ‘moore.csv’ saved [2302/2302]\n",
            "\n"
          ],
          "name": "stdout"
        }
      ]
    },
    {
      "cell_type": "code",
      "metadata": {
        "id": "Xi_gZOQjxqsr",
        "colab_type": "code",
        "colab": {}
      },
      "source": [
        "# Load in the data\n",
        "data = pd.read_csv('moore.csv', header=None).values\n",
        "X = data[:,0].reshape(-1, 1) # make it a 2-D array of size N x D where D = 1\n",
        "Y = data[:,1]"
      ],
      "execution_count": 4,
      "outputs": []
    },
    {
      "cell_type": "code",
      "metadata": {
        "id": "Q-j-aOr2xtNh",
        "colab_type": "code",
        "colab": {
          "base_uri": "https://localhost:8080/",
          "height": 293
        },
        "outputId": "27746b85-0f6f-474a-92b7-9fb169fae9ab"
      },
      "source": [
        "# Plot the data - it is exponential!\n",
        "plt.scatter(X, Y)"
      ],
      "execution_count": 5,
      "outputs": [
        {
          "output_type": "execute_result",
          "data": {
            "text/plain": [
              "<matplotlib.collections.PathCollection at 0x7fe6249cc518>"
            ]
          },
          "metadata": {
            "tags": []
          },
          "execution_count": 5
        },
        {
          "output_type": "display_data",
          "data": {
            "image/png": "[encoded data removed]",
            "text/plain": [
              "<Figure size 432x288 with 1 Axes>"
            ]
          },
          "metadata": {
            "tags": [],
            "needs_background": "light"
          }
        }
      ]
    },
    {
      "cell_type": "code",
      "metadata": {
        "id": "izGz0vprxumg",
        "colab_type": "code",
        "colab": {
          "base_uri": "https://localhost:8080/",
          "height": 282
        },
        "outputId": "600223f9-4778-4803-a11c-3abb454c4f3c"
      },
      "source": [
        "# Since we want a linear model, let's take the log\n",
        "Y = np.log(Y)\n",
        "plt.scatter(X, Y)\n"
      ],
      "execution_count": 6,
      "outputs": [
        {
          "output_type": "execute_result",
          "data": {
            "text/plain": [
              "<matplotlib.collections.PathCollection at 0x7fe624523630>"
            ]
          },
          "metadata": {
            "tags": []
          },
          "execution_count": 6
        },
        {
          "output_type": "display_data",
          "data": {
            "image/png": "[encoded data removed]",
            "text/plain": [
              "<Figure size 432x288 with 1 Axes>"
            ]
          },
          "metadata": {
            "tags": [],
            "needs_background": "light"
          }
        }
      ]
    },
    {
      "cell_type": "code",
      "metadata": {
        "id": "YVtpRVksxwfx",
        "colab_type": "code",
        "colab": {}
      },
      "source": [
        "# Let's also center the X data so the values are not too large\n",
        "# We could scale it too but then we'd have to reverse the transformation later\n",
        "X = X - X.mean()"
      ],
      "execution_count": 7,
      "outputs": []
    },
    {
      "cell_type": "code",
      "metadata": {
        "id": "LSILcludxx_2",
        "colab_type": "code",
        "colab": {
          "base_uri": "https://localhost:8080/",
          "height": 1000
        },
        "outputId": "ddd5cfa9-60e0-4c82-e11d-a468ae237e36"
      },
      "source": [
        "# Now create our Tensorflow model\n",
        "model = tf.keras.models.Sequential([\n",
        "  tf.keras.layers.Input(shape=(1,)),\n",
        "  tf.keras.layers.Dense(1)\n",
        "])\n",
        "\n",
        "model.compile(optimizer=tf.keras.optimizers.SGD(0.001, 0.9), loss='mse')\n",
        "# model.compile(optimizer='adam', loss='mse')\n",
        "\n",
        "\n",
        "# learning rate scheduler\n",
        "def schedule(epoch, lr):\n",
        "  if epoch >= 50:\n",
        "    return 0.0001\n",
        "  return 0.001\n",
        " \n",
        "\n",
        "scheduler = tf.keras.callbacks.LearningRateScheduler(schedule)\n",
        "\n",
        "\n",
        "# Train the model\n",
        "r = model.fit(X, Y, epochs=200, callbacks=[scheduler])"
      ],
      "execution_count": 8,
      "outputs": [
        {
          "output_type": "stream",
          "text": [
            "Epoch 1/200\n",
            "6/6 [==============================] - 0s 2ms/step - loss: 312.2200 - lr: 0.0010\n",
            "Epoch 2/200\n",
            "6/6 [==============================] - 0s 1ms/step - loss: 306.3602 - lr: 0.0010\n",
            "Epoch 3/200\n",
            "6/6 [==============================] - 0s 1ms/step - loss: 246.4556 - lr: 0.0010\n",
            "Epoch 4/200\n",
            "6/6 [==============================] - 0s 1ms/step - loss: 236.7080 - lr: 0.0010\n",
            "Epoch 5/200\n",
            "6/6 [==============================] - 0s 2ms/step - loss: 166.5922 - lr: 0.0010\n",
            "Epoch 6/200\n",
            "6/6 [==============================] - 0s 1ms/step - loss: 114.9009 - lr: 0.0010\n",
            "Epoch 7/200\n",
            "6/6 [==============================] - 0s 1ms/step - loss: 100.8113 - lr: 0.0010\n",
            "Epoch 8/200\n",
            "6/6 [==============================] - 0s 2ms/step - loss: 88.4687 - lr: 0.0010\n",
            "Epoch 9/200\n",
            "6/6 [==============================] - 0s 2ms/step - loss: 78.2933 - lr: 0.0010\n",
            "Epoch 10/200\n",
            "6/6 [==============================] - 0s 1ms/step - loss: 61.6490 - lr: 0.0010\n",
            "Epoch 11/200\n",
            "6/6 [==============================] - 0s 2ms/step - loss: 35.3831 - lr: 0.0010\n",
            "Epoch 12/200\n",
            "6/6 [==============================] - 0s 1ms/step - loss: 26.0136 - lr: 0.0010\n",
            "Epoch 13/200\n",
            "6/6 [==============================] - 0s 1ms/step - loss: 18.4381 - lr: 0.0010\n",
            "Epoch 14/200\n",
            "6/6 [==============================] - 0s 1ms/step - loss: 11.9372 - lr: 0.0010\n",
            "Epoch 15/200\n",
            "6/6 [==============================] - 0s 1ms/step - loss: 7.8922 - lr: 0.0010\n",
            "Epoch 16/200\n",
            "6/6 [==============================] - 0s 1ms/step - loss: 5.4617 - lr: 0.0010\n",
            "Epoch 17/200\n",
            "6/6 [==============================] - 0s 1ms/step - loss: 5.6939 - lr: 0.0010\n",
            "Epoch 18/200\n",
            "6/6 [==============================] - 0s 1ms/step - loss: 4.6095 - lr: 0.0010\n",
            "Epoch 19/200\n",
            "6/6 [==============================] - 0s 1ms/step - loss: 3.3444 - lr: 0.0010\n",
            "Epoch 20/200\n",
            "6/6 [==============================] - 0s 2ms/step - loss: 2.3186 - lr: 0.0010\n",
            "Epoch 21/200\n",
            "6/6 [==============================] - 0s 1ms/step - loss: 1.7989 - lr: 0.0010\n",
            "Epoch 22/200\n",
            "6/6 [==============================] - 0s 2ms/step - loss: 1.8609 - lr: 0.0010\n",
            "Epoch 23/200\n",
            "6/6 [==============================] - 0s 1ms/step - loss: 1.6277 - lr: 0.0010\n",
            "Epoch 24/200\n",
            "6/6 [==============================] - 0s 2ms/step - loss: 1.5242 - lr: 0.0010\n",
            "Epoch 25/200\n",
            "6/6 [==============================] - 0s 2ms/step - loss: 1.3321 - lr: 0.0010\n",
            "Epoch 26/200\n",
            "6/6 [==============================] - 0s 1ms/step - loss: 1.2203 - lr: 0.0010\n",
            "Epoch 27/200\n",
            "6/6 [==============================] - 0s 2ms/step - loss: 1.4674 - lr: 0.0010\n",
            "Epoch 28/200\n",
            "6/6 [==============================] - 0s 2ms/step - loss: 0.9800 - lr: 0.0010\n",
            "Epoch 29/200\n",
            "6/6 [==============================] - 0s 1ms/step - loss: 1.0789 - lr: 0.0010\n",
            "Epoch 30/200\n",
            "6/6 [==============================] - 0s 1ms/step - loss: 0.9959 - lr: 0.0010\n",
            "Epoch 31/200\n",
            "6/6 [==============================] - 0s 2ms/step - loss: 0.9158 - lr: 0.0010\n",
            "Epoch 32/200\n",
            "6/6 [==============================] - 0s 2ms/step - loss: 1.2867 - lr: 0.0010\n",
            "Epoch 33/200\n",
            "6/6 [==============================] - 0s 2ms/step - loss: 1.0468 - lr: 0.0010\n",
            "Epoch 34/200\n",
            "6/6 [==============================] - 0s 1ms/step - loss: 0.9409 - lr: 0.0010\n",
            "Epoch 35/200\n",
            "6/6 [==============================] - 0s 1ms/step - loss: 0.9975 - lr: 0.0010\n",
            "Epoch 36/200\n",
            "6/6 [==============================] - 0s 2ms/step - loss: 0.9197 - lr: 0.0010\n",
            "Epoch 37/200\n",
            "6/6 [==============================] - 0s 2ms/step - loss: 1.1097 - lr: 0.0010\n",
            "Epoch 38/200\n",
            "6/6 [==============================] - 0s 2ms/step - loss: 1.0205 - lr: 0.0010\n",
            "Epoch 39/200\n",
            "6/6 [==============================] - 0s 2ms/step - loss: 1.0710 - lr: 0.0010\n",
            "Epoch 40/200\n",
            "6/6 [==============================] - 0s 2ms/step - loss: 1.0915 - lr: 0.0010\n",
            "Epoch 41/200\n",
            "6/6 [==============================] - 0s 2ms/step - loss: 1.0717 - lr: 0.0010\n",
            "Epoch 42/200\n",
            "6/6 [==============================] - 0s 1ms/step - loss: 1.0579 - lr: 0.0010\n",
            "Epoch 43/200\n",
            "6/6 [==============================] - 0s 2ms/step - loss: 1.0366 - lr: 0.0010\n",
            "Epoch 44/200\n",
            "6/6 [==============================] - 0s 2ms/step - loss: 1.0038 - lr: 0.0010\n",
            "Epoch 45/200\n",
            "6/6 [==============================] - 0s 1ms/step - loss: 0.9712 - lr: 0.0010\n",
            "Epoch 46/200\n",
            "6/6 [==============================] - 0s 1ms/step - loss: 0.9654 - lr: 0.0010\n",
            "Epoch 47/200\n",
            "6/6 [==============================] - 0s 2ms/step - loss: 0.9637 - lr: 0.0010\n",
            "Epoch 48/200\n",
            "6/6 [==============================] - 0s 2ms/step - loss: 1.0351 - lr: 0.0010\n",
            "Epoch 49/200\n",
            "6/6 [==============================] - 0s 2ms/step - loss: 1.1521 - lr: 0.0010\n",
            "Epoch 50/200\n",
            "6/6 [==============================] - 0s 1ms/step - loss: 1.0136 - lr: 0.0010\n",
            "Epoch 51/200\n",
            "6/6 [==============================] - 0s 2ms/step - loss: 0.9920 - lr: 1.0000e-04\n",
            "Epoch 52/200\n",
            "6/6 [==============================] - 0s 2ms/step - loss: 0.8740 - lr: 1.0000e-04\n",
            "Epoch 53/200\n",
            "6/6 [==============================] - 0s 1ms/step - loss: 0.8826 - lr: 1.0000e-04\n",
            "Epoch 54/200\n",
            "6/6 [==============================] - 0s 1ms/step - loss: 0.8799 - lr: 1.0000e-04\n",
            "Epoch 55/200\n",
            "6/6 [==============================] - 0s 2ms/step - loss: 0.8730 - lr: 1.0000e-04\n",
            "Epoch 56/200\n",
            "6/6 [==============================] - 0s 1ms/step - loss: 0.8799 - lr: 1.0000e-04\n",
            "Epoch 57/200\n",
            "6/6 [==============================] - 0s 1ms/step - loss: 0.8984 - lr: 1.0000e-04\n",
            "Epoch 58/200\n",
            "6/6 [==============================] - 0s 1ms/step - loss: 0.8852 - lr: 1.0000e-04\n",
            "Epoch 59/200\n",
            "6/6 [==============================] - 0s 2ms/step - loss: 0.8780 - lr: 1.0000e-04\n",
            "Epoch 60/200\n",
            "6/6 [==============================] - 0s 1ms/step - loss: 0.8732 - lr: 1.0000e-04\n",
            "Epoch 61/200\n",
            "6/6 [==============================] - 0s 2ms/step - loss: 0.8714 - lr: 1.0000e-04\n",
            "Epoch 62/200\n",
            "6/6 [==============================] - 0s 1ms/step - loss: 0.8717 - lr: 1.0000e-04\n",
            "Epoch 63/200\n",
            "6/6 [==============================] - 0s 1ms/step - loss: 0.8843 - lr: 1.0000e-04\n",
            "Epoch 64/200\n",
            "6/6 [==============================] - 0s 2ms/step - loss: 0.8722 - lr: 1.0000e-04\n",
            "Epoch 65/200\n",
            "6/6 [==============================] - 0s 1ms/step - loss: 0.8818 - lr: 1.0000e-04\n",
            "Epoch 66/200\n",
            "6/6 [==============================] - 0s 1ms/step - loss: 0.8701 - lr: 1.0000e-04\n",
            "Epoch 67/200\n",
            "6/6 [==============================] - 0s 1ms/step - loss: 0.8852 - lr: 1.0000e-04\n",
            "Epoch 68/200\n",
            "6/6 [==============================] - 0s 1ms/step - loss: 0.8789 - lr: 1.0000e-04\n",
            "Epoch 69/200\n",
            "6/6 [==============================] - 0s 2ms/step - loss: 0.8735 - lr: 1.0000e-04\n",
            "Epoch 70/200\n",
            "6/6 [==============================] - 0s 2ms/step - loss: 0.8713 - lr: 1.0000e-04\n",
            "Epoch 71/200\n",
            "6/6 [==============================] - 0s 1ms/step - loss: 0.8713 - lr: 1.0000e-04\n",
            "Epoch 72/200\n",
            "6/6 [==============================] - 0s 2ms/step - loss: 0.8787 - lr: 1.0000e-04\n",
            "Epoch 73/200\n",
            "6/6 [==============================] - 0s 2ms/step - loss: 0.9271 - lr: 1.0000e-04\n",
            "Epoch 74/200\n",
            "6/6 [==============================] - 0s 2ms/step - loss: 0.9395 - lr: 1.0000e-04\n",
            "Epoch 75/200\n",
            "6/6 [==============================] - 0s 2ms/step - loss: 0.8865 - lr: 1.0000e-04\n",
            "Epoch 76/200\n",
            "6/6 [==============================] - 0s 1ms/step - loss: 0.9500 - lr: 1.0000e-04\n",
            "Epoch 77/200\n",
            "6/6 [==============================] - 0s 2ms/step - loss: 0.8979 - lr: 1.0000e-04\n",
            "Epoch 78/200\n",
            "6/6 [==============================] - 0s 2ms/step - loss: 0.9070 - lr: 1.0000e-04\n",
            "Epoch 79/200\n",
            "6/6 [==============================] - 0s 1ms/step - loss: 0.8856 - lr: 1.0000e-04\n",
            "Epoch 80/200\n",
            "6/6 [==============================] - 0s 2ms/step - loss: 0.8728 - lr: 1.0000e-04\n",
            "Epoch 81/200\n",
            "6/6 [==============================] - 0s 1ms/step - loss: 0.8795 - lr: 1.0000e-04\n",
            "Epoch 82/200\n",
            "6/6 [==============================] - 0s 2ms/step - loss: 0.8766 - lr: 1.0000e-04\n",
            "Epoch 83/200\n",
            "6/6 [==============================] - 0s 1ms/step - loss: 0.8797 - lr: 1.0000e-04\n",
            "Epoch 84/200\n",
            "6/6 [==============================] - 0s 1ms/step - loss: 0.8820 - lr: 1.0000e-04\n",
            "Epoch 85/200\n",
            "6/6 [==============================] - 0s 2ms/step - loss: 0.8751 - lr: 1.0000e-04\n",
            "Epoch 86/200\n",
            "6/6 [==============================] - 0s 2ms/step - loss: 0.8752 - lr: 1.0000e-04\n",
            "Epoch 87/200\n",
            "6/6 [==============================] - 0s 1ms/step - loss: 0.8736 - lr: 1.0000e-04\n",
            "Epoch 88/200\n",
            "6/6 [==============================] - 0s 2ms/step - loss: 0.8838 - lr: 1.0000e-04\n",
            "Epoch 89/200\n",
            "6/6 [==============================] - 0s 2ms/step - loss: 0.8757 - lr: 1.0000e-04\n",
            "Epoch 90/200\n",
            "6/6 [==============================] - 0s 1ms/step - loss: 0.8734 - lr: 1.0000e-04\n",
            "Epoch 91/200\n",
            "6/6 [==============================] - 0s 2ms/step - loss: 0.8727 - lr: 1.0000e-04\n",
            "Epoch 92/200\n",
            "6/6 [==============================] - 0s 2ms/step - loss: 0.8766 - lr: 1.0000e-04\n",
            "Epoch 93/200\n",
            "6/6 [==============================] - 0s 2ms/step - loss: 0.8864 - lr: 1.0000e-04\n",
            "Epoch 94/200\n",
            "6/6 [==============================] - 0s 1ms/step - loss: 0.8778 - lr: 1.0000e-04\n",
            "Epoch 95/200\n",
            "6/6 [==============================] - 0s 1ms/step - loss: 0.8694 - lr: 1.0000e-04\n",
            "Epoch 96/200\n",
            "6/6 [==============================] - 0s 1ms/step - loss: 0.8740 - lr: 1.0000e-04\n",
            "Epoch 97/200\n",
            "6/6 [==============================] - 0s 1ms/step - loss: 0.9120 - lr: 1.0000e-04\n",
            "Epoch 98/200\n",
            "6/6 [==============================] - 0s 1ms/step - loss: 0.8937 - lr: 1.0000e-04\n",
            "Epoch 99/200\n",
            "6/6 [==============================] - 0s 2ms/step - loss: 0.8871 - lr: 1.0000e-04\n",
            "Epoch 100/200\n",
            "6/6 [==============================] - 0s 1ms/step - loss: 0.8916 - lr: 1.0000e-04\n",
            "Epoch 101/200\n",
            "6/6 [==============================] - 0s 2ms/step - loss: 0.8708 - lr: 1.0000e-04\n",
            "Epoch 102/200\n",
            "6/6 [==============================] - 0s 2ms/step - loss: 0.8704 - lr: 1.0000e-04\n",
            "Epoch 103/200\n",
            "6/6 [==============================] - 0s 2ms/step - loss: 0.8795 - lr: 1.0000e-04\n",
            "Epoch 104/200\n",
            "6/6 [==============================] - 0s 1ms/step - loss: 0.8775 - lr: 1.0000e-04\n",
            "Epoch 105/200\n",
            "6/6 [==============================] - 0s 1ms/step - loss: 0.8713 - lr: 1.0000e-04\n",
            "Epoch 106/200\n",
            "6/6 [==============================] - 0s 2ms/step - loss: 0.8697 - lr: 1.0000e-04\n",
            "Epoch 107/200\n",
            "6/6 [==============================] - 0s 1ms/step - loss: 0.8730 - lr: 1.0000e-04\n",
            "Epoch 108/200\n",
            "6/6 [==============================] - 0s 1ms/step - loss: 0.8699 - lr: 1.0000e-04\n",
            "Epoch 109/200\n",
            "6/6 [==============================] - 0s 1ms/step - loss: 0.8820 - lr: 1.0000e-04\n",
            "Epoch 110/200\n",
            "6/6 [==============================] - 0s 1ms/step - loss: 0.8835 - lr: 1.0000e-04\n",
            "Epoch 111/200\n",
            "6/6 [==============================] - 0s 1ms/step - loss: 0.8844 - lr: 1.0000e-04\n",
            "Epoch 112/200\n",
            "6/6 [==============================] - 0s 1ms/step - loss: 0.8792 - lr: 1.0000e-04\n",
            "Epoch 113/200\n",
            "6/6 [==============================] - 0s 1ms/step - loss: 0.8711 - lr: 1.0000e-04\n",
            "Epoch 114/200\n",
            "6/6 [==============================] - 0s 2ms/step - loss: 0.8826 - lr: 1.0000e-04\n",
            "Epoch 115/200\n",
            "6/6 [==============================] - 0s 1ms/step - loss: 0.8823 - lr: 1.0000e-04\n",
            "Epoch 116/200\n",
            "6/6 [==============================] - 0s 2ms/step - loss: 0.8775 - lr: 1.0000e-04\n",
            "Epoch 117/200\n",
            "6/6 [==============================] - 0s 2ms/step - loss: 0.8742 - lr: 1.0000e-04\n",
            "Epoch 118/200\n",
            "6/6 [==============================] - 0s 1ms/step - loss: 0.8754 - lr: 1.0000e-04\n",
            "Epoch 119/200\n",
            "6/6 [==============================] - 0s 1ms/step - loss: 0.8729 - lr: 1.0000e-04\n",
            "Epoch 120/200\n",
            "6/6 [==============================] - 0s 2ms/step - loss: 0.8728 - lr: 1.0000e-04\n",
            "Epoch 121/200\n",
            "6/6 [==============================] - 0s 2ms/step - loss: 0.8762 - lr: 1.0000e-04\n",
            "Epoch 122/200\n",
            "6/6 [==============================] - 0s 1ms/step - loss: 0.8730 - lr: 1.0000e-04\n",
            "Epoch 123/200\n",
            "6/6 [==============================] - 0s 2ms/step - loss: 0.8791 - lr: 1.0000e-04\n",
            "Epoch 124/200\n",
            "6/6 [==============================] - 0s 2ms/step - loss: 0.8832 - lr: 1.0000e-04\n",
            "Epoch 125/200\n",
            "6/6 [==============================] - 0s 2ms/step - loss: 0.8722 - lr: 1.0000e-04\n",
            "Epoch 126/200\n",
            "6/6 [==============================] - 0s 1ms/step - loss: 0.8715 - lr: 1.0000e-04\n",
            "Epoch 127/200\n",
            "6/6 [==============================] - 0s 2ms/step - loss: 0.9079 - lr: 1.0000e-04\n",
            "Epoch 128/200\n",
            "6/6 [==============================] - 0s 1ms/step - loss: 0.8995 - lr: 1.0000e-04\n",
            "Epoch 129/200\n",
            "6/6 [==============================] - 0s 1ms/step - loss: 0.8681 - lr: 1.0000e-04\n",
            "Epoch 130/200\n",
            "6/6 [==============================] - 0s 2ms/step - loss: 0.8811 - lr: 1.0000e-04\n",
            "Epoch 131/200\n",
            "6/6 [==============================] - 0s 1ms/step - loss: 0.8754 - lr: 1.0000e-04\n",
            "Epoch 132/200\n",
            "6/6 [==============================] - 0s 1ms/step - loss: 0.8741 - lr: 1.0000e-04\n",
            "Epoch 133/200\n",
            "6/6 [==============================] - 0s 1ms/step - loss: 0.8749 - lr: 1.0000e-04\n",
            "Epoch 134/200\n",
            "6/6 [==============================] - 0s 1ms/step - loss: 0.8805 - lr: 1.0000e-04\n",
            "Epoch 135/200\n",
            "6/6 [==============================] - 0s 2ms/step - loss: 0.8787 - lr: 1.0000e-04\n",
            "Epoch 136/200\n",
            "6/6 [==============================] - 0s 2ms/step - loss: 0.8729 - lr: 1.0000e-04\n",
            "Epoch 137/200\n",
            "6/6 [==============================] - 0s 2ms/step - loss: 0.8717 - lr: 1.0000e-04\n",
            "Epoch 138/200\n",
            "6/6 [==============================] - 0s 2ms/step - loss: 0.8724 - lr: 1.0000e-04\n",
            "Epoch 139/200\n",
            "6/6 [==============================] - 0s 2ms/step - loss: 0.8796 - lr: 1.0000e-04\n",
            "Epoch 140/200\n",
            "6/6 [==============================] - 0s 2ms/step - loss: 0.9296 - lr: 1.0000e-04\n",
            "Epoch 141/200\n",
            "6/6 [==============================] - 0s 2ms/step - loss: 0.8997 - lr: 1.0000e-04\n",
            "Epoch 142/200\n",
            "6/6 [==============================] - 0s 2ms/step - loss: 0.8740 - lr: 1.0000e-04\n",
            "Epoch 143/200\n",
            "6/6 [==============================] - 0s 1ms/step - loss: 0.8842 - lr: 1.0000e-04\n",
            "Epoch 144/200\n",
            "6/6 [==============================] - 0s 2ms/step - loss: 0.8714 - lr: 1.0000e-04\n",
            "Epoch 145/200\n",
            "6/6 [==============================] - 0s 2ms/step - loss: 0.8776 - lr: 1.0000e-04\n",
            "Epoch 146/200\n",
            "6/6 [==============================] - 0s 2ms/step - loss: 0.8612 - lr: 1.0000e-04\n",
            "Epoch 147/200\n",
            "6/6 [==============================] - 0s 2ms/step - loss: 0.8889 - lr: 1.0000e-04\n",
            "Epoch 148/200\n",
            "6/6 [==============================] - 0s 2ms/step - loss: 0.8830 - lr: 1.0000e-04\n",
            "Epoch 149/200\n",
            "6/6 [==============================] - 0s 2ms/step - loss: 0.8841 - lr: 1.0000e-04\n",
            "Epoch 150/200\n",
            "6/6 [==============================] - 0s 1ms/step - loss: 0.8949 - lr: 1.0000e-04\n",
            "Epoch 151/200\n",
            "6/6 [==============================] - 0s 1ms/step - loss: 0.8717 - lr: 1.0000e-04\n",
            "Epoch 152/200\n",
            "6/6 [==============================] - 0s 1ms/step - loss: 0.8778 - lr: 1.0000e-04\n",
            "Epoch 153/200\n",
            "6/6 [==============================] - 0s 2ms/step - loss: 0.8753 - lr: 1.0000e-04\n",
            "Epoch 154/200\n",
            "6/6 [==============================] - 0s 1ms/step - loss: 0.8731 - lr: 1.0000e-04\n",
            "Epoch 155/200\n",
            "6/6 [==============================] - 0s 2ms/step - loss: 0.8723 - lr: 1.0000e-04\n",
            "Epoch 156/200\n",
            "6/6 [==============================] - 0s 1ms/step - loss: 0.8893 - lr: 1.0000e-04\n",
            "Epoch 157/200\n",
            "6/6 [==============================] - 0s 2ms/step - loss: 0.8932 - lr: 1.0000e-04\n",
            "Epoch 158/200\n",
            "6/6 [==============================] - 0s 1ms/step - loss: 0.9120 - lr: 1.0000e-04\n",
            "Epoch 159/200\n",
            "6/6 [==============================] - 0s 2ms/step - loss: 0.8859 - lr: 1.0000e-04\n",
            "Epoch 160/200\n",
            "6/6 [==============================] - 0s 1ms/step - loss: 0.8875 - lr: 1.0000e-04\n",
            "Epoch 161/200\n",
            "6/6 [==============================] - 0s 2ms/step - loss: 0.8847 - lr: 1.0000e-04\n",
            "Epoch 162/200\n",
            "6/6 [==============================] - 0s 2ms/step - loss: 0.8705 - lr: 1.0000e-04\n",
            "Epoch 163/200\n",
            "6/6 [==============================] - 0s 2ms/step - loss: 0.8723 - lr: 1.0000e-04\n",
            "Epoch 164/200\n",
            "6/6 [==============================] - 0s 2ms/step - loss: 0.8724 - lr: 1.0000e-04\n",
            "Epoch 165/200\n",
            "6/6 [==============================] - 0s 1ms/step - loss: 0.8709 - lr: 1.0000e-04\n",
            "Epoch 166/200\n",
            "6/6 [==============================] - 0s 1ms/step - loss: 0.8713 - lr: 1.0000e-04\n",
            "Epoch 167/200\n",
            "6/6 [==============================] - 0s 1ms/step - loss: 0.8734 - lr: 1.0000e-04\n",
            "Epoch 168/200\n",
            "6/6 [==============================] - 0s 1ms/step - loss: 0.8733 - lr: 1.0000e-04\n",
            "Epoch 169/200\n",
            "6/6 [==============================] - 0s 1ms/step - loss: 0.8709 - lr: 1.0000e-04\n",
            "Epoch 170/200\n",
            "6/6 [==============================] - 0s 2ms/step - loss: 0.8724 - lr: 1.0000e-04\n",
            "Epoch 171/200\n",
            "6/6 [==============================] - 0s 2ms/step - loss: 0.8705 - lr: 1.0000e-04\n",
            "Epoch 172/200\n",
            "6/6 [==============================] - 0s 2ms/step - loss: 0.8712 - lr: 1.0000e-04\n",
            "Epoch 173/200\n",
            "6/6 [==============================] - 0s 2ms/step - loss: 0.8727 - lr: 1.0000e-04\n",
            "Epoch 174/200\n",
            "6/6 [==============================] - 0s 1ms/step - loss: 0.8709 - lr: 1.0000e-04\n",
            "Epoch 175/200\n",
            "6/6 [==============================] - 0s 1ms/step - loss: 0.8709 - lr: 1.0000e-04\n",
            "Epoch 176/200\n",
            "6/6 [==============================] - 0s 1ms/step - loss: 0.8837 - lr: 1.0000e-04\n",
            "Epoch 177/200\n",
            "6/6 [==============================] - 0s 2ms/step - loss: 0.8766 - lr: 1.0000e-04\n",
            "Epoch 178/200\n",
            "6/6 [==============================] - 0s 2ms/step - loss: 0.8706 - lr: 1.0000e-04\n",
            "Epoch 179/200\n",
            "6/6 [==============================] - 0s 1ms/step - loss: 0.8722 - lr: 1.0000e-04\n",
            "Epoch 180/200\n",
            "6/6 [==============================] - 0s 1ms/step - loss: 0.8746 - lr: 1.0000e-04\n",
            "Epoch 181/200\n",
            "6/6 [==============================] - 0s 2ms/step - loss: 0.8766 - lr: 1.0000e-04\n",
            "Epoch 182/200\n",
            "6/6 [==============================] - 0s 2ms/step - loss: 0.8789 - lr: 1.0000e-04\n",
            "Epoch 183/200\n",
            "6/6 [==============================] - 0s 2ms/step - loss: 0.8808 - lr: 1.0000e-04\n",
            "Epoch 184/200\n",
            "6/6 [==============================] - 0s 2ms/step - loss: 0.8746 - lr: 1.0000e-04\n",
            "Epoch 185/200\n",
            "6/6 [==============================] - 0s 2ms/step - loss: 0.8712 - lr: 1.0000e-04\n",
            "Epoch 186/200\n",
            "6/6 [==============================] - 0s 1ms/step - loss: 0.8776 - lr: 1.0000e-04\n",
            "Epoch 187/200\n",
            "6/6 [==============================] - 0s 2ms/step - loss: 0.8790 - lr: 1.0000e-04\n",
            "Epoch 188/200\n",
            "6/6 [==============================] - 0s 1ms/step - loss: 0.8771 - lr: 1.0000e-04\n",
            "Epoch 189/200\n",
            "6/6 [==============================] - 0s 2ms/step - loss: 0.8869 - lr: 1.0000e-04\n",
            "Epoch 190/200\n",
            "6/6 [==============================] - 0s 1ms/step - loss: 0.9532 - lr: 1.0000e-04\n",
            "Epoch 191/200\n",
            "6/6 [==============================] - 0s 1ms/step - loss: 0.8962 - lr: 1.0000e-04\n",
            "Epoch 192/200\n",
            "6/6 [==============================] - 0s 2ms/step - loss: 0.8820 - lr: 1.0000e-04\n",
            "Epoch 193/200\n",
            "6/6 [==============================] - 0s 2ms/step - loss: 0.9123 - lr: 1.0000e-04\n",
            "Epoch 194/200\n",
            "6/6 [==============================] - 0s 2ms/step - loss: 0.8768 - lr: 1.0000e-04\n",
            "Epoch 195/200\n",
            "6/6 [==============================] - 0s 2ms/step - loss: 0.9198 - lr: 1.0000e-04\n",
            "Epoch 196/200\n",
            "6/6 [==============================] - 0s 2ms/step - loss: 0.9040 - lr: 1.0000e-04\n",
            "Epoch 197/200\n",
            "6/6 [==============================] - 0s 2ms/step - loss: 0.8666 - lr: 1.0000e-04\n",
            "Epoch 198/200\n",
            "6/6 [==============================] - 0s 1ms/step - loss: 0.8774 - lr: 1.0000e-04\n",
            "Epoch 199/200\n",
            "6/6 [==============================] - 0s 2ms/step - loss: 0.8740 - lr: 1.0000e-04\n",
            "Epoch 200/200\n",
            "6/6 [==============================] - 0s 1ms/step - loss: 0.8738 - lr: 1.0000e-04\n"
          ],
          "name": "stdout"
        }
      ]
    },
    {
      "cell_type": "code",
      "metadata": {
        "id": "TSMfiH-rx0Ho",
        "colab_type": "code",
        "colab": {
          "base_uri": "https://localhost:8080/",
          "height": 282
        },
        "outputId": "f03b5678-4b63-4216-991d-d441ff70883e"
      },
      "source": [
        "# Plot the loss\n",
        "plt.plot(r.history['loss'], label='loss')"
      ],
      "execution_count": 9,
      "outputs": [
        {
          "output_type": "execute_result",
          "data": {
            "text/plain": [
              "[<matplotlib.lines.Line2D at 0x7fe61b134da0>]"
            ]
          },
          "metadata": {
            "tags": []
          },
          "execution_count": 9
        },
        {
          "output_type": "display_data",
          "data": {
            "image/png": "[encoded data removed]",
            "text/plain": [
              "<Figure size 432x288 with 1 Axes>"
            ]
          },
          "metadata": {
            "tags": [],
            "needs_background": "light"
          }
        }
      ]
    },
    {
      "cell_type": "code",
      "metadata": {
        "id": "jjIMida5x3yL",
        "colab_type": "code",
        "colab": {
          "base_uri": "https://localhost:8080/",
          "height": 51
        },
        "outputId": "bb981eba-9eb8-45ed-814f-24b1adde28ed"
      },
      "source": [
        "# Get the slope of the line\n",
        "# The slope of the line is related to the doubling rate of transistor count\n",
        "print(model.layers) # Note: there is only 1 layer, the \"Input\" layer doesn't count\n",
        "print(model.layers[0].get_weights())"
      ],
      "execution_count": 10,
      "outputs": [
        {
          "output_type": "stream",
          "text": [
            "[<tensorflow.python.keras.layers.core.Dense object at 0x7fe624523908>]\n",
            "[array([[0.3469523]], dtype=float32), array([17.764006], dtype=float32)]\n"
          ],
          "name": "stdout"
        }
      ]
    },
    {
      "cell_type": "code",
      "metadata": {
        "id": "GT2_5xL2x5Ht",
        "colab_type": "code",
        "colab": {}
      },
      "source": [
        "# The slope of the line is:\n",
        "a = model.layers[0].get_weights()[0][0,0]"
      ],
      "execution_count": 11,
      "outputs": []
    },
    {
      "cell_type": "code",
      "metadata": {
        "id": "SlejfYvix6ZJ",
        "colab_type": "code",
        "colab": {
          "base_uri": "https://localhost:8080/",
          "height": 34
        },
        "outputId": "abd19f0f-3882-434c-f505-9849e7b59d1e"
      },
      "source": [
        "print(\"Time to double:\", np.log(2) / a)"
      ],
      "execution_count": 12,
      "outputs": [
        {
          "output_type": "stream",
          "text": [
            "Time to double: 1.9978169963159784\n"
          ],
          "name": "stdout"
        }
      ]
    },
    {
      "cell_type": "code",
      "metadata": {
        "id": "63B13CvPx89J",
        "colab_type": "code",
        "colab": {
          "base_uri": "https://localhost:8080/",
          "height": 51
        },
        "outputId": "5a86500b-f2e0-45f5-b8b3-4e8632c5140e"
      },
      "source": [
        "# If you know the analytical solution\n",
        "X = np.array(X).flatten()\n",
        "Y = np.array(Y)\n",
        "denominator = X.dot(X) - X.mean() * X.sum()\n",
        "a = ( X.dot(Y) - Y.mean()*X.sum() ) / denominator\n",
        "b = ( Y.mean() * X.dot(X) - X.mean() * X.dot(Y) ) / denominator\n",
        "print(a, b)\n",
        "print(\"Time to double:\", np.log(2) / a)"
      ],
      "execution_count": 13,
      "outputs": [
        {
          "output_type": "stream",
          "text": [
            "0.341682487387313 17.764939393631764\n",
            "Time to double: 2.0286295205239204\n"
          ],
          "name": "stdout"
        }
      ]
    },
    {
      "cell_type": "markdown",
      "metadata": {
        "id": "e7coDE0Cx-Xn",
        "colab_type": "text"
      },
      "source": [
        "# Part 2: Making Predictions"
      ]
    },
    {
      "cell_type": "code",
      "metadata": {
        "id": "McM7MqpWyDNR",
        "colab_type": "code",
        "colab": {
          "base_uri": "https://localhost:8080/",
          "height": 282
        },
        "outputId": "992223a7-c1a7-4515-b14e-6d702535b558"
      },
      "source": [
        "# Make sure the line fits our data\n",
        "Yhat = model.predict(X).flatten()\n",
        "plt.scatter(X, Y)\n",
        "plt.plot(X, Yhat)"
      ],
      "execution_count": 14,
      "outputs": [
        {
          "output_type": "execute_result",
          "data": {
            "text/plain": [
              "[<matplotlib.lines.Line2D at 0x7fe61b13f208>]"
            ]
          },
          "metadata": {
            "tags": []
          },
          "execution_count": 14
        },
        {
          "output_type": "display_data",
          "data": {
            "image/png": "[encoded data removed]",
            "text/plain": [
              "<Figure size 432x288 with 1 Axes>"
            ]
          },
          "metadata": {
            "tags": [],
            "needs_background": "light"
          }
        }
      ]
    },
    {
      "cell_type": "code",
      "metadata": {
        "id": "WQsWZXikyEVT",
        "colab_type": "code",
        "colab": {
          "base_uri": "https://localhost:8080/",
          "height": 34
        },
        "outputId": "5cafaf83-6ab1-4893-8618-7435f1b803fb"
      },
      "source": [
        "# Manual calculation\n",
        "\n",
        "# Get the weights\n",
        "w, b = model.layers[0].get_weights()\n",
        "\n",
        "# Reshape X because we flattened it again earlier\n",
        "X = X.reshape(-1, 1)\n",
        "\n",
        "# (N x 1) x (1 x 1) + (1) --> (N x 1)\n",
        "Yhat2 = (X.dot(w) + b).flatten()\n",
        "\n",
        "# Don't use == for floating points\n",
        "np.allclose(Yhat, Yhat2)"
      ],
      "execution_count": 15,
      "outputs": [
        {
          "output_type": "execute_result",
          "data": {
            "text/plain": [
              "True"
            ]
          },
          "metadata": {
            "tags": []
          },
          "execution_count": 15
        }
      ]
    },
    {
      "cell_type": "code",
      "metadata": {
        "id": "CbSPC-tnyFpY",
        "colab_type": "code",
        "colab": {}
      },
      "source": [
        ""
      ],
      "execution_count": null,
      "outputs": []
    }
  ]
}