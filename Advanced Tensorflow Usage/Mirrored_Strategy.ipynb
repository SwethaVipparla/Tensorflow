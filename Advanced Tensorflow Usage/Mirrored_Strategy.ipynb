{
  "nbformat": 4,
  "nbformat_minor": 0,
  "metadata": {
    "colab": {
      "name": "TF2.0 Mirrored Strategy.ipynb",
      "provenance": [],
      "collapsed_sections": [],
      "authorship_tag": "ABX9TyMcVpXgMmel0wBUAVRPeQkn",
      "include_colab_link": true
    },
    "kernelspec": {
      "name": "python3",
      "display_name": "Python 3"
    },
    "accelerator": "GPU"
  },
  "cells": [
    {
      "cell_type": "markdown",
      "metadata": {
        "id": "view-in-github",
        "colab_type": "text"
      },
      "source": [
        "<a href=\"https://colab.research.google.com/github/SwethaVipparla/Tensorflow/blob/master/Advanced%20Tensorflow%20Usage/Mirrored_Strategy.ipynb\" target=\"_parent\"><img src=\"https://colab.research.google.com/assets/colab-badge.svg\" alt=\"Open In Colab\"/></a>"
      ]
    },
    {
      "cell_type": "code",
      "metadata": {
        "id": "-ls5v7_cV0vI",
        "colab_type": "code",
        "colab": {
          "base_uri": "https://localhost:8080/",
          "height": 34
        },
        "outputId": "20471ce3-4cae-4344-c43c-17a7701dbb55"
      },
      "source": [
        "import tensorflow as tf\n",
        "print(tf.__version__)"
      ],
      "execution_count": 1,
      "outputs": [
        {
          "output_type": "stream",
          "text": [
            "2.2.0\n"
          ],
          "name": "stdout"
        }
      ]
    },
    {
      "cell_type": "code",
      "metadata": {
        "id": "WePp4eRTV9Xl",
        "colab_type": "code",
        "colab": {}
      },
      "source": [
        "# additional imports\n",
        "\n",
        "import numpy as np\n",
        "import matplotlib.pyplot as plt\n",
        "from tensorflow.keras.layers import Input, Conv2D, Dense, Flatten, Dropout, GlobalMaxPooling2D, MaxPooling2D, BatchNormalization\n",
        "from tensorflow.keras.models import Model"
      ],
      "execution_count": 2,
      "outputs": []
    },
    {
      "cell_type": "code",
      "metadata": {
        "id": "wPaoQhwigdX4",
        "colab_type": "code",
        "colab": {
          "base_uri": "https://localhost:8080/",
          "height": 86
        },
        "outputId": "06cbfad7-915e-401d-9b84-11de5f5dac96"
      },
      "source": [
        "# Load in the data\n",
        "cifar10 = tf.keras.datasets.cifar10\n",
        "\n",
        "(x_train, y_train), (x_test, y_test) = cifar10.load_data()\n",
        "x_train, x_test = x_train / 255.0, x_test / 255.0\n",
        "y_train, y_test = y_train.flatten(), y_test.flatten()\n",
        "print(\"x_train.shape:\", x_train.shape)\n",
        "print(\"y_train.shape\", y_train.shape)"
      ],
      "execution_count": 3,
      "outputs": [
        {
          "output_type": "stream",
          "text": [
            "Downloading data from https://www.cs.toronto.edu/~kriz/cifar-10-python.tar.gz\n",
            "170500096/170498071 [==============================] - 6s 0us/step\n",
            "x_train.shape: (50000, 32, 32, 3)\n",
            "y_train.shape (50000,)\n"
          ],
          "name": "stdout"
        }
      ]
    },
    {
      "cell_type": "code",
      "metadata": {
        "id": "hM0kk5cwgeq4",
        "colab_type": "code",
        "colab": {
          "base_uri": "https://localhost:8080/",
          "height": 34
        },
        "outputId": "88e8bce8-d635-403c-dfd1-e964ae64a107"
      },
      "source": [
        "# number of classes\n",
        "K = len(set(y_train))\n",
        "print(\"number of classes:\", K)"
      ],
      "execution_count": 4,
      "outputs": [
        {
          "output_type": "stream",
          "text": [
            "number of classes: 10\n"
          ],
          "name": "stdout"
        }
      ]
    },
    {
      "cell_type": "code",
      "metadata": {
        "id": "QDO7eHVwghM3",
        "colab_type": "code",
        "colab": {}
      },
      "source": [
        "# Build the model using the functional API\n",
        "def create_model():\n",
        "  i = Input(shape=x_train[0].shape)\n",
        "\n",
        "  x = Conv2D(32, (3, 3), activation='relu', padding='same')(i)\n",
        "  x = BatchNormalization()(x)\n",
        "  x = Conv2D(32, (3, 3), activation='relu', padding='same')(x)\n",
        "  x = BatchNormalization()(x)\n",
        "  x = MaxPooling2D((2, 2))(x)\n",
        "  x = Conv2D(64, (3, 3), activation='relu', padding='same')(x)\n",
        "  x = BatchNormalization()(x)\n",
        "  x = Conv2D(64, (3, 3), activation='relu', padding='same')(x)\n",
        "  x = BatchNormalization()(x)\n",
        "  x = MaxPooling2D((2, 2))(x)\n",
        "  x = Conv2D(128, (3, 3), activation='relu', padding='same')(x)\n",
        "  x = BatchNormalization()(x)\n",
        "  x = Conv2D(128, (3, 3), activation='relu', padding='same')(x)\n",
        "  x = BatchNormalization()(x)\n",
        "  x = MaxPooling2D((2, 2))(x)\n",
        "\n",
        "  x = Flatten()(x)\n",
        "  x = Dropout(0.2)(x)\n",
        "  x = Dense(1024, activation='relu')(x)\n",
        "  x = Dropout(0.2)(x)\n",
        "  x = Dense(K, activation='softmax')(x)\n",
        "\n",
        "  model = Model(i, x)\n",
        "  return model"
      ],
      "execution_count": 5,
      "outputs": []
    },
    {
      "cell_type": "code",
      "metadata": {
        "id": "LRI3K_DXgjIQ",
        "colab_type": "code",
        "colab": {
          "base_uri": "https://localhost:8080/",
          "height": 54
        },
        "outputId": "328d0a4d-4bb3-47a4-9e4b-6b51417256d2"
      },
      "source": [
        "strategy = tf.distribute.MirroredStrategy()\n",
        "# strategy = tf.distribute.experimental.CentralStorageStrategy()"
      ],
      "execution_count": 6,
      "outputs": [
        {
          "output_type": "stream",
          "text": [
            "INFO:tensorflow:Using MirroredStrategy with devices ('/job:localhost/replica:0/task:0/device:GPU:0',)\n"
          ],
          "name": "stdout"
        }
      ]
    },
    {
      "cell_type": "code",
      "metadata": {
        "id": "EqKDRRSAgkp8",
        "colab_type": "code",
        "colab": {
          "base_uri": "https://localhost:8080/",
          "height": 34
        },
        "outputId": "7533e235-3916-4585-d76c-b60fab0ef072"
      },
      "source": [
        "print(f'Number of devices: {strategy.num_replicas_in_sync}')"
      ],
      "execution_count": 7,
      "outputs": [
        {
          "output_type": "stream",
          "text": [
            "Number of devices: 1\n"
          ],
          "name": "stdout"
        }
      ]
    },
    {
      "cell_type": "code",
      "metadata": {
        "id": "a4Zzalzegl0K",
        "colab_type": "code",
        "colab": {
          "base_uri": "https://localhost:8080/",
          "height": 210
        },
        "outputId": "558fbed3-de0f-4e99-c923-5e2889aeaba2"
      },
      "source": [
        "with strategy.scope():\n",
        "  model = create_model()\n",
        "\n",
        "  model.compile(loss='sparse_categorical_crossentropy',\n",
        "                optimizer='adam',\n",
        "                metrics=['accuracy'])"
      ],
      "execution_count": 8,
      "outputs": [
        {
          "output_type": "stream",
          "text": [
            "INFO:tensorflow:Reduce to /job:localhost/replica:0/task:0/device:CPU:0 then broadcast to ('/job:localhost/replica:0/task:0/device:CPU:0',).\n",
            "INFO:tensorflow:Reduce to /job:localhost/replica:0/task:0/device:CPU:0 then broadcast to ('/job:localhost/replica:0/task:0/device:CPU:0',).\n",
            "INFO:tensorflow:Reduce to /job:localhost/replica:0/task:0/device:CPU:0 then broadcast to ('/job:localhost/replica:0/task:0/device:CPU:0',).\n",
            "INFO:tensorflow:Reduce to /job:localhost/replica:0/task:0/device:CPU:0 then broadcast to ('/job:localhost/replica:0/task:0/device:CPU:0',).\n",
            "INFO:tensorflow:Reduce to /job:localhost/replica:0/task:0/device:CPU:0 then broadcast to ('/job:localhost/replica:0/task:0/device:CPU:0',).\n",
            "INFO:tensorflow:Reduce to /job:localhost/replica:0/task:0/device:CPU:0 then broadcast to ('/job:localhost/replica:0/task:0/device:CPU:0',).\n",
            "INFO:tensorflow:Reduce to /job:localhost/replica:0/task:0/device:CPU:0 then broadcast to ('/job:localhost/replica:0/task:0/device:CPU:0',).\n",
            "INFO:tensorflow:Reduce to /job:localhost/replica:0/task:0/device:CPU:0 then broadcast to ('/job:localhost/replica:0/task:0/device:CPU:0',).\n",
            "INFO:tensorflow:Reduce to /job:localhost/replica:0/task:0/device:CPU:0 then broadcast to ('/job:localhost/replica:0/task:0/device:CPU:0',).\n",
            "INFO:tensorflow:Reduce to /job:localhost/replica:0/task:0/device:CPU:0 then broadcast to ('/job:localhost/replica:0/task:0/device:CPU:0',).\n"
          ],
          "name": "stdout"
        }
      ]
    },
    {
      "cell_type": "code",
      "metadata": {
        "id": "zOJ15HqignvN",
        "colab_type": "code",
        "colab": {
          "base_uri": "https://localhost:8080/",
          "height": 210
        },
        "outputId": "7f9961d9-f741-4bda-bd3b-6e6be10a6e8c"
      },
      "source": [
        "# Fit\n",
        "r = model.fit(x_train, y_train, validation_data=(x_test, y_test), epochs=5)"
      ],
      "execution_count": 9,
      "outputs": [
        {
          "output_type": "stream",
          "text": [
            "Epoch 1/5\n",
            "1563/1563 [==============================] - 13s 8ms/step - loss: 1.3161 - accuracy: 0.5500 - val_loss: 0.9930 - val_accuracy: 0.6465\n",
            "Epoch 2/5\n",
            "1563/1563 [==============================] - 11s 7ms/step - loss: 0.8510 - accuracy: 0.7057 - val_loss: 1.0277 - val_accuracy: 0.6603\n",
            "Epoch 3/5\n",
            "1563/1563 [==============================] - 11s 7ms/step - loss: 0.6880 - accuracy: 0.7642 - val_loss: 0.6683 - val_accuracy: 0.7736\n",
            "Epoch 4/5\n",
            "1563/1563 [==============================] - 11s 7ms/step - loss: 0.5870 - accuracy: 0.7995 - val_loss: 0.8439 - val_accuracy: 0.7284\n",
            "Epoch 5/5\n",
            "1563/1563 [==============================] - 11s 7ms/step - loss: 0.5021 - accuracy: 0.8298 - val_loss: 0.6186 - val_accuracy: 0.7960\n"
          ],
          "name": "stdout"
        }
      ]
    },
    {
      "cell_type": "code",
      "metadata": {
        "id": "9F5gzjKOgpcQ",
        "colab_type": "code",
        "colab": {
          "base_uri": "https://localhost:8080/",
          "height": 34
        },
        "outputId": "3410f49a-288c-4810-b282-565d2454e0d5"
      },
      "source": [
        "50000/391"
      ],
      "execution_count": 10,
      "outputs": [
        {
          "output_type": "execute_result",
          "data": {
            "text/plain": [
              "127.8772378516624"
            ]
          },
          "metadata": {
            "tags": []
          },
          "execution_count": 10
        }
      ]
    },
    {
      "cell_type": "code",
      "metadata": {
        "id": "ycvtzTYggsdj",
        "colab_type": "code",
        "colab": {
          "base_uri": "https://localhost:8080/",
          "height": 34
        },
        "outputId": "132b65d1-86ce-4f71-da7b-506befb07d77"
      },
      "source": [
        "10000/79"
      ],
      "execution_count": 11,
      "outputs": [
        {
          "output_type": "execute_result",
          "data": {
            "text/plain": [
              "126.58227848101266"
            ]
          },
          "metadata": {
            "tags": []
          },
          "execution_count": 11
        }
      ]
    },
    {
      "cell_type": "code",
      "metadata": {
        "id": "sgVIO60YguLM",
        "colab_type": "code",
        "colab": {
          "base_uri": "https://localhost:8080/",
          "height": 210
        },
        "outputId": "78e80909-c181-4281-d332-201d4970c453"
      },
      "source": [
        "# Compare this to non-distributed training\n",
        "model2 = create_model()\n",
        "model2.compile(loss='sparse_categorical_crossentropy',\n",
        "                optimizer='adam',\n",
        "                metrics=['accuracy'])\n",
        "r = model2.fit(x_train, y_train, validation_data=(x_test, y_test), epochs=5)"
      ],
      "execution_count": 12,
      "outputs": [
        {
          "output_type": "stream",
          "text": [
            "Epoch 1/5\n",
            "1563/1563 [==============================] - 9s 6ms/step - loss: 1.3173 - accuracy: 0.5475 - val_loss: 0.9921 - val_accuracy: 0.6608\n",
            "Epoch 2/5\n",
            "1563/1563 [==============================] - 9s 6ms/step - loss: 0.8511 - accuracy: 0.7049 - val_loss: 0.7787 - val_accuracy: 0.7373\n",
            "Epoch 3/5\n",
            "1563/1563 [==============================] - 9s 6ms/step - loss: 0.6982 - accuracy: 0.7610 - val_loss: 0.8131 - val_accuracy: 0.7289\n",
            "Epoch 4/5\n",
            "1563/1563 [==============================] - 9s 6ms/step - loss: 0.5874 - accuracy: 0.7988 - val_loss: 0.8222 - val_accuracy: 0.7262\n",
            "Epoch 5/5\n",
            "1563/1563 [==============================] - 9s 6ms/step - loss: 0.5032 - accuracy: 0.8286 - val_loss: 0.7082 - val_accuracy: 0.7809\n"
          ],
          "name": "stdout"
        }
      ]
    },
    {
      "cell_type": "code",
      "metadata": {
        "id": "H4VN6PYog8GW",
        "colab_type": "code",
        "colab": {}
      },
      "source": [
        ""
      ],
      "execution_count": null,
      "outputs": []
    }
  ]
}