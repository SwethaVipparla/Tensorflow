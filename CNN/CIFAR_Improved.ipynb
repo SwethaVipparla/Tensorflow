{
  "nbformat": 4,
  "nbformat_minor": 0,
  "metadata": {
    "colab": {
      "name": "TF2.0 CIFAR Improved.ipynb",
      "provenance": [],
      "collapsed_sections": [],
      "authorship_tag": "ABX9TyNkOnxZNeY6WzhO4NYFxOwP",
      "include_colab_link": true
    },
    "kernelspec": {
      "name": "python3",
      "display_name": "Python 3"
    },
    "accelerator": "GPU"
  },
  "cells": [
    {
      "cell_type": "markdown",
      "metadata": {
        "id": "view-in-github",
        "colab_type": "text"
      },
      "source": [
        "<a href=\"https://colab.research.google.com/github/SwethaVipparla/Tensorflow/blob/master/CNN/CIFAR_Improved.ipynb\" target=\"_parent\"><img src=\"https://colab.research.google.com/assets/colab-badge.svg\" alt=\"Open In Colab\"/></a>"
      ]
    },
    {
      "cell_type": "code",
      "metadata": {
        "id": "WGFpK16LhFS2",
        "colab_type": "code",
        "colab": {
          "base_uri": "https://localhost:8080/",
          "height": 34
        },
        "outputId": "534811a9-e9ad-46ea-cc21-b85f17de15ad"
      },
      "source": [
        "import tensorflow as tf\n",
        "print(tf.__version__)"
      ],
      "execution_count": 1,
      "outputs": [
        {
          "output_type": "stream",
          "text": [
            "2.2.0\n"
          ],
          "name": "stdout"
        }
      ]
    },
    {
      "cell_type": "code",
      "metadata": {
        "id": "UiLmGtWehSUb",
        "colab_type": "code",
        "colab": {}
      },
      "source": [
        "# additional imports\n",
        "import numpy as np\n",
        "import matplotlib.pyplot as plt\n",
        "from tensorflow.keras.layers import Input, Conv2D, Dense, Flatten, Dropout, GlobalMaxPooling2D, MaxPooling2D, BatchNormalization\n",
        "from tensorflow.keras.models import Model"
      ],
      "execution_count": 2,
      "outputs": []
    },
    {
      "cell_type": "code",
      "metadata": {
        "id": "L9SUCY5fhVTo",
        "colab_type": "code",
        "colab": {
          "base_uri": "https://localhost:8080/",
          "height": 86
        },
        "outputId": "ba3449ad-cc2b-4012-8627-c950104f17bd"
      },
      "source": [
        "# Load in the data\n",
        "cifar10 = tf.keras.datasets.cifar10\n",
        "\n",
        "(x_train, y_train), (x_test, y_test) = cifar10.load_data()\n",
        "x_train, x_test = x_train / 255.0, x_test / 255.0\n",
        "y_train, y_test = y_train.flatten(), y_test.flatten()\n",
        "print(\"x_train.shape:\", x_train.shape)\n",
        "print(\"y_train.shape\", y_train.shape)"
      ],
      "execution_count": 3,
      "outputs": [
        {
          "output_type": "stream",
          "text": [
            "Downloading data from https://www.cs.toronto.edu/~kriz/cifar-10-python.tar.gz\n",
            "170500096/170498071 [==============================] - 6s 0us/step\n",
            "x_train.shape: (50000, 32, 32, 3)\n",
            "y_train.shape (50000,)\n"
          ],
          "name": "stdout"
        }
      ]
    },
    {
      "cell_type": "code",
      "metadata": {
        "id": "TdL_yZRlhWcA",
        "colab_type": "code",
        "colab": {
          "base_uri": "https://localhost:8080/",
          "height": 34
        },
        "outputId": "34435922-c1b8-4715-c87a-206efa84fbe4"
      },
      "source": [
        "# number of classes\n",
        "K = len(set(y_train))\n",
        "print(\"number of classes:\", K)"
      ],
      "execution_count": 4,
      "outputs": [
        {
          "output_type": "stream",
          "text": [
            "number of classes: 10\n"
          ],
          "name": "stdout"
        }
      ]
    },
    {
      "cell_type": "code",
      "metadata": {
        "id": "ksrFUbaihcTZ",
        "colab_type": "code",
        "colab": {}
      },
      "source": [
        "# Build the model using the functional API\n",
        "i = Input(shape=x_train[0].shape)\n",
        "# x = Conv2D(32, (3, 3), strides=2, activation='relu')(i)\n",
        "# x = Conv2D(64, (3, 3), strides=2, activation='relu')(x)\n",
        "# x = Conv2D(128, (3, 3), strides=2, activation='relu')(x)\n",
        "\n",
        "x = Conv2D(32, (3, 3), activation='relu', padding='same')(i)\n",
        "x = BatchNormalization()(x)\n",
        "x = Conv2D(32, (3, 3), activation='relu', padding='same')(x)\n",
        "x = BatchNormalization()(x)\n",
        "x = MaxPooling2D((2, 2))(x)\n",
        "# x = Dropout(0.2)(x)\n",
        "x = Conv2D(64, (3, 3), activation='relu', padding='same')(x)\n",
        "x = BatchNormalization()(x)\n",
        "x = Conv2D(64, (3, 3), activation='relu', padding='same')(x)\n",
        "x = BatchNormalization()(x)\n",
        "x = MaxPooling2D((2, 2))(x)\n",
        "# x = Dropout(0.2)(x)\n",
        "x = Conv2D(128, (3, 3), activation='relu', padding='same')(x)\n",
        "x = BatchNormalization()(x)\n",
        "x = Conv2D(128, (3, 3), activation='relu', padding='same')(x)\n",
        "x = BatchNormalization()(x)\n",
        "x = MaxPooling2D((2, 2))(x)\n",
        "# x = Dropout(0.2)(x)\n",
        "\n",
        "# x = GlobalMaxPooling2D()(x)\n",
        "x = Flatten()(x)\n",
        "x = Dropout(0.2)(x)\n",
        "x = Dense(1024, activation='relu')(x)\n",
        "x = Dropout(0.2)(x)\n",
        "x = Dense(K, activation='softmax')(x)\n",
        "\n",
        "model = Model(i, x)"
      ],
      "execution_count": 5,
      "outputs": []
    },
    {
      "cell_type": "code",
      "metadata": {
        "id": "APwMJIwohegw",
        "colab_type": "code",
        "colab": {}
      },
      "source": [
        "# Compile\n",
        "# Note: make sure you are using the GPU for this!\n",
        "model.compile(optimizer='adam',\n",
        "              loss='sparse_categorical_crossentropy',\n",
        "              metrics=['accuracy'])"
      ],
      "execution_count": 6,
      "outputs": []
    },
    {
      "cell_type": "code",
      "metadata": {
        "id": "vpzXxjbthwON",
        "colab_type": "code",
        "colab": {}
      },
      "source": [
        "# Fit\n",
        "# r = model.fit(x_train, y_train, validation_data=(x_test, y_test), epochs=50)"
      ],
      "execution_count": 7,
      "outputs": []
    },
    {
      "cell_type": "code",
      "metadata": {
        "id": "2XPGnQ3Phzm-",
        "colab_type": "code",
        "colab": {
          "base_uri": "https://localhost:8080/",
          "height": 1000
        },
        "outputId": "4214d6ac-dbbd-4a7c-8e73-31ed67350deb"
      },
      "source": [
        "# Fit with data augmentation\n",
        "# Note: if you run this AFTER calling the previous model.fit(), it will CONTINUE training where it left off\n",
        "batch_size = 32\n",
        "data_generator = tf.keras.preprocessing.image.ImageDataGenerator(width_shift_range=0.1, height_shift_range=0.1, horizontal_flip=True)\n",
        "train_generator = data_generator.flow(x_train, y_train, batch_size)\n",
        "steps_per_epoch = x_train.shape[0] // batch_size\n",
        "r = model.fit(train_generator, validation_data=(x_test, y_test), steps_per_epoch=steps_per_epoch, epochs=50)"
      ],
      "execution_count": 8,
      "outputs": [
        {
          "output_type": "stream",
          "text": [
            "Epoch 1/50\n",
            "1562/1562 [==============================] - 46s 29ms/step - loss: 1.4066 - accuracy: 0.5109 - val_loss: 1.0772 - val_accuracy: 0.6244\n",
            "Epoch 2/50\n",
            "1562/1562 [==============================] - 46s 29ms/step - loss: 0.9767 - accuracy: 0.6619 - val_loss: 0.8899 - val_accuracy: 0.6962\n",
            "Epoch 3/50\n",
            "1562/1562 [==============================] - 46s 29ms/step - loss: 0.8363 - accuracy: 0.7108 - val_loss: 0.7340 - val_accuracy: 0.7464\n",
            "Epoch 4/50\n",
            "1562/1562 [==============================] - 46s 29ms/step - loss: 0.7490 - accuracy: 0.7440 - val_loss: 0.7285 - val_accuracy: 0.7501\n",
            "Epoch 5/50\n",
            "1562/1562 [==============================] - 46s 29ms/step - loss: 0.6828 - accuracy: 0.7693 - val_loss: 0.8002 - val_accuracy: 0.7384\n",
            "Epoch 6/50\n",
            "1562/1562 [==============================] - 46s 29ms/step - loss: 0.6259 - accuracy: 0.7873 - val_loss: 0.6177 - val_accuracy: 0.7940\n",
            "Epoch 7/50\n",
            "1562/1562 [==============================] - 46s 29ms/step - loss: 0.5865 - accuracy: 0.7998 - val_loss: 0.6544 - val_accuracy: 0.7846\n",
            "Epoch 8/50\n",
            "1562/1562 [==============================] - 46s 29ms/step - loss: 0.5469 - accuracy: 0.8139 - val_loss: 0.5818 - val_accuracy: 0.8046\n",
            "Epoch 9/50\n",
            "1562/1562 [==============================] - 45s 29ms/step - loss: 0.5260 - accuracy: 0.8221 - val_loss: 0.5560 - val_accuracy: 0.8214\n",
            "Epoch 10/50\n",
            "1562/1562 [==============================] - 46s 29ms/step - loss: 0.4986 - accuracy: 0.8303 - val_loss: 0.4964 - val_accuracy: 0.8404\n",
            "Epoch 11/50\n",
            "1562/1562 [==============================] - 46s 29ms/step - loss: 0.4678 - accuracy: 0.8401 - val_loss: 0.4914 - val_accuracy: 0.8391\n",
            "Epoch 12/50\n",
            "1562/1562 [==============================] - 46s 29ms/step - loss: 0.4454 - accuracy: 0.8462 - val_loss: 0.5487 - val_accuracy: 0.8173\n",
            "Epoch 13/50\n",
            "1562/1562 [==============================] - 46s 29ms/step - loss: 0.4310 - accuracy: 0.8546 - val_loss: 0.4863 - val_accuracy: 0.8413\n",
            "Epoch 14/50\n",
            "1562/1562 [==============================] - 46s 29ms/step - loss: 0.4027 - accuracy: 0.8609 - val_loss: 0.5431 - val_accuracy: 0.8234\n",
            "Epoch 15/50\n",
            "1562/1562 [==============================] - 46s 29ms/step - loss: 0.3921 - accuracy: 0.8663 - val_loss: 0.4337 - val_accuracy: 0.8569\n",
            "Epoch 16/50\n",
            "1562/1562 [==============================] - 46s 29ms/step - loss: 0.3815 - accuracy: 0.8696 - val_loss: 0.4578 - val_accuracy: 0.8540\n",
            "Epoch 17/50\n",
            "1562/1562 [==============================] - 46s 29ms/step - loss: 0.3659 - accuracy: 0.8752 - val_loss: 0.4748 - val_accuracy: 0.8468\n",
            "Epoch 18/50\n",
            "1562/1562 [==============================] - 46s 29ms/step - loss: 0.3508 - accuracy: 0.8779 - val_loss: 0.4701 - val_accuracy: 0.8484\n",
            "Epoch 19/50\n",
            "1562/1562 [==============================] - 46s 29ms/step - loss: 0.3416 - accuracy: 0.8818 - val_loss: 0.4233 - val_accuracy: 0.8626\n",
            "Epoch 20/50\n",
            "1562/1562 [==============================] - 46s 29ms/step - loss: 0.3303 - accuracy: 0.8864 - val_loss: 0.4187 - val_accuracy: 0.8592\n",
            "Epoch 21/50\n",
            "1562/1562 [==============================] - 46s 29ms/step - loss: 0.3197 - accuracy: 0.8899 - val_loss: 0.4898 - val_accuracy: 0.8483\n",
            "Epoch 22/50\n",
            "1562/1562 [==============================] - 46s 29ms/step - loss: 0.3137 - accuracy: 0.8926 - val_loss: 0.4611 - val_accuracy: 0.8496\n",
            "Epoch 23/50\n",
            "1562/1562 [==============================] - 46s 29ms/step - loss: 0.3012 - accuracy: 0.8955 - val_loss: 0.4065 - val_accuracy: 0.8676\n",
            "Epoch 24/50\n",
            "1562/1562 [==============================] - 46s 29ms/step - loss: 0.2950 - accuracy: 0.8987 - val_loss: 0.4307 - val_accuracy: 0.8620\n",
            "Epoch 25/50\n",
            "1562/1562 [==============================] - 46s 29ms/step - loss: 0.2913 - accuracy: 0.9013 - val_loss: 0.4299 - val_accuracy: 0.8630\n",
            "Epoch 26/50\n",
            "1562/1562 [==============================] - 46s 29ms/step - loss: 0.2798 - accuracy: 0.9037 - val_loss: 0.4337 - val_accuracy: 0.8660\n",
            "Epoch 27/50\n",
            "1562/1562 [==============================] - 46s 29ms/step - loss: 0.2783 - accuracy: 0.9035 - val_loss: 0.3949 - val_accuracy: 0.8755\n",
            "Epoch 28/50\n",
            "1562/1562 [==============================] - 46s 29ms/step - loss: 0.2670 - accuracy: 0.9077 - val_loss: 0.4214 - val_accuracy: 0.8685\n",
            "Epoch 29/50\n",
            "1562/1562 [==============================] - 46s 29ms/step - loss: 0.2589 - accuracy: 0.9105 - val_loss: 0.4445 - val_accuracy: 0.8627\n",
            "Epoch 30/50\n",
            "1562/1562 [==============================] - 46s 29ms/step - loss: 0.2565 - accuracy: 0.9124 - val_loss: 0.4581 - val_accuracy: 0.8584\n",
            "Epoch 31/50\n",
            "1562/1562 [==============================] - 46s 29ms/step - loss: 0.2512 - accuracy: 0.9126 - val_loss: 0.4042 - val_accuracy: 0.8743\n",
            "Epoch 32/50\n",
            "1562/1562 [==============================] - 46s 29ms/step - loss: 0.2475 - accuracy: 0.9148 - val_loss: 0.4137 - val_accuracy: 0.8692\n",
            "Epoch 33/50\n",
            "1562/1562 [==============================] - 46s 29ms/step - loss: 0.2383 - accuracy: 0.9176 - val_loss: 0.4269 - val_accuracy: 0.8697\n",
            "Epoch 34/50\n",
            "1562/1562 [==============================] - 46s 30ms/step - loss: 0.2381 - accuracy: 0.9181 - val_loss: 0.4520 - val_accuracy: 0.8659\n",
            "Epoch 35/50\n",
            "1562/1562 [==============================] - 46s 29ms/step - loss: 0.2288 - accuracy: 0.9200 - val_loss: 0.4084 - val_accuracy: 0.8770\n",
            "Epoch 36/50\n",
            "1562/1562 [==============================] - 46s 30ms/step - loss: 0.2234 - accuracy: 0.9238 - val_loss: 0.3742 - val_accuracy: 0.8800\n",
            "Epoch 37/50\n",
            "1562/1562 [==============================] - 46s 29ms/step - loss: 0.2210 - accuracy: 0.9238 - val_loss: 0.4271 - val_accuracy: 0.8753\n",
            "Epoch 38/50\n",
            "1562/1562 [==============================] - 46s 30ms/step - loss: 0.2149 - accuracy: 0.9256 - val_loss: 0.3726 - val_accuracy: 0.8808\n",
            "Epoch 39/50\n",
            "1562/1562 [==============================] - 46s 29ms/step - loss: 0.2148 - accuracy: 0.9269 - val_loss: 0.4341 - val_accuracy: 0.8770\n",
            "Epoch 40/50\n",
            "1562/1562 [==============================] - 46s 29ms/step - loss: 0.2095 - accuracy: 0.9282 - val_loss: 0.4071 - val_accuracy: 0.8743\n",
            "Epoch 41/50\n",
            "1562/1562 [==============================] - 46s 29ms/step - loss: 0.2090 - accuracy: 0.9286 - val_loss: 0.4395 - val_accuracy: 0.8685\n",
            "Epoch 42/50\n",
            "1562/1562 [==============================] - 46s 29ms/step - loss: 0.2029 - accuracy: 0.9302 - val_loss: 0.4429 - val_accuracy: 0.8740\n",
            "Epoch 43/50\n",
            "1562/1562 [==============================] - 46s 29ms/step - loss: 0.2051 - accuracy: 0.9291 - val_loss: 0.3994 - val_accuracy: 0.8742\n",
            "Epoch 44/50\n",
            "1562/1562 [==============================] - 46s 29ms/step - loss: 0.2019 - accuracy: 0.9310 - val_loss: 0.4163 - val_accuracy: 0.8821\n",
            "Epoch 45/50\n",
            "1562/1562 [==============================] - 46s 30ms/step - loss: 0.1940 - accuracy: 0.9325 - val_loss: 0.4006 - val_accuracy: 0.8833\n",
            "Epoch 46/50\n",
            "1562/1562 [==============================] - 46s 29ms/step - loss: 0.1932 - accuracy: 0.9321 - val_loss: 0.3892 - val_accuracy: 0.8793\n",
            "Epoch 47/50\n",
            "1562/1562 [==============================] - 46s 29ms/step - loss: 0.1893 - accuracy: 0.9353 - val_loss: 0.4612 - val_accuracy: 0.8653\n",
            "Epoch 48/50\n",
            "1562/1562 [==============================] - 46s 29ms/step - loss: 0.1851 - accuracy: 0.9362 - val_loss: 0.4012 - val_accuracy: 0.8852\n",
            "Epoch 49/50\n",
            "1562/1562 [==============================] - 46s 29ms/step - loss: 0.1836 - accuracy: 0.9367 - val_loss: 0.3764 - val_accuracy: 0.8842\n",
            "Epoch 50/50\n",
            "1562/1562 [==============================] - 46s 29ms/step - loss: 0.1807 - accuracy: 0.9372 - val_loss: 0.4228 - val_accuracy: 0.8839\n"
          ],
          "name": "stdout"
        }
      ]
    },
    {
      "cell_type": "code",
      "metadata": {
        "id": "hp5-Gzng-E39",
        "colab_type": "code",
        "colab": {
          "base_uri": "https://localhost:8080/",
          "height": 282
        },
        "outputId": "aa786437-dce2-4ecd-a002-d5b7ad864194"
      },
      "source": [
        "# Plot loss per iteration\n",
        "import matplotlib.pyplot as plt\n",
        "plt.plot(r.history['loss'], label='loss')\n",
        "plt.plot(r.history['val_loss'], label='val_loss')\n",
        "plt.legend()"
      ],
      "execution_count": 9,
      "outputs": [
        {
          "output_type": "execute_result",
          "data": {
            "text/plain": [
              "<matplotlib.legend.Legend at 0x7fb71fc6cb70>"
            ]
          },
          "metadata": {
            "tags": []
          },
          "execution_count": 9
        },
        {
          "output_type": "display_data",
          "data": {
            "image/png": "[encoded data removed]",
            "text/plain": [
              "<Figure size 432x288 with 1 Axes>"
            ]
          },
          "metadata": {
            "tags": [],
            "needs_background": "light"
          }
        }
      ]
    },
    {
      "cell_type": "code",
      "metadata": {
        "id": "tPTlWb3v-F3l",
        "colab_type": "code",
        "colab": {
          "base_uri": "https://localhost:8080/",
          "height": 282
        },
        "outputId": "c0e81d2e-9fa5-44a1-9f36-2e5d2146754c"
      },
      "source": [
        "# Plot accuracy per iteration\n",
        "plt.plot(r.history['accuracy'], label='acc')\n",
        "plt.plot(r.history['val_accuracy'], label='val_acc')\n",
        "plt.legend()"
      ],
      "execution_count": 10,
      "outputs": [
        {
          "output_type": "execute_result",
          "data": {
            "text/plain": [
              "<matplotlib.legend.Legend at 0x7fb71fc98208>"
            ]
          },
          "metadata": {
            "tags": []
          },
          "execution_count": 10
        },
        {
          "output_type": "display_data",
          "data": {
            "image/png": "[encoded data removed]",
            "text/plain": [
              "<Figure size 432x288 with 1 Axes>"
            ]
          },
          "metadata": {
            "tags": [],
            "needs_background": "light"
          }
        }
      ]
    },
    {
      "cell_type": "code",
      "metadata": {
        "id": "KcMwY9cV-IKP",
        "colab_type": "code",
        "colab": {
          "base_uri": "https://localhost:8080/",
          "height": 501
        },
        "outputId": "f4e7eec3-5fab-4122-ac12-35773daa0e2b"
      },
      "source": [
        "# Plot confusion matrix\n",
        "from sklearn.metrics import confusion_matrix\n",
        "import itertools\n",
        "\n",
        "def plot_confusion_matrix(cm, classes,\n",
        "                          normalize=False,\n",
        "                          title='Confusion matrix',\n",
        "                          cmap=plt.cm.Blues):\n",
        "  \"\"\"\n",
        "  This function prints and plots the confusion matrix.\n",
        "  Normalization can be applied by setting `normalize=True`.\n",
        "  \"\"\"\n",
        "  if normalize:\n",
        "      cm = cm.astype('float') / cm.sum(axis=1)[:, np.newaxis]\n",
        "      print(\"Normalized confusion matrix\")\n",
        "  else:\n",
        "      print('Confusion matrix, without normalization')\n",
        "\n",
        "  print(cm)\n",
        "\n",
        "  plt.imshow(cm, interpolation='nearest', cmap=cmap)\n",
        "  plt.title(title)\n",
        "  plt.colorbar()\n",
        "  tick_marks = np.arange(len(classes))\n",
        "  plt.xticks(tick_marks, classes, rotation=45)\n",
        "  plt.yticks(tick_marks, classes)\n",
        "\n",
        "  fmt = '.2f' if normalize else 'd'\n",
        "  thresh = cm.max() / 2.\n",
        "  for i, j in itertools.product(range(cm.shape[0]), range(cm.shape[1])):\n",
        "      plt.text(j, i, format(cm[i, j], fmt),\n",
        "               horizontalalignment=\"center\",\n",
        "               color=\"white\" if cm[i, j] > thresh else \"black\")\n",
        "\n",
        "  plt.tight_layout()\n",
        "  plt.ylabel('True label')\n",
        "  plt.xlabel('Predicted label')\n",
        "  plt.show()\n",
        "\n",
        "\n",
        "p_test = model.predict(x_test).argmax(axis=1)\n",
        "cm = confusion_matrix(y_test, p_test)\n",
        "plot_confusion_matrix(cm, list(range(10)))\n"
      ],
      "execution_count": 11,
      "outputs": [
        {
          "output_type": "stream",
          "text": [
            "Confusion matrix, without normalization\n",
            "[[941   7  21   4   3   0   2   0  18   4]\n",
            " [  7 972   0   1   0   0   0   0   2  18]\n",
            " [ 32   3 856  16  22  20  33  11   3   4]\n",
            " [ 18   5  40 749  22  89  44  13  10  10]\n",
            " [ 17   2  46  23 841  15  31  21   1   3]\n",
            " [ 10   3  26  84  25 812  14  20   2   4]\n",
            " [  5   2  22  22   2   5 936   1   3   2]\n",
            " [ 10   0  14  11  26  18   2 911   2   6]\n",
            " [ 58  10   7   3   0   1   0   1 910  10]\n",
            " [ 14  51   4   5   0   1   0   2  12 911]]\n"
          ],
          "name": "stdout"
        },
        {
          "output_type": "display_data",
          "data": {
            "image/png": "[encoded data removed]",
            "text/plain": [
              "<Figure size 432x288 with 2 Axes>"
            ]
          },
          "metadata": {
            "tags": [],
            "needs_background": "light"
          }
        }
      ]
    },
    {
      "cell_type": "code",
      "metadata": {
        "id": "kbk-WnWO-K6A",
        "colab_type": "code",
        "colab": {}
      },
      "source": [
        "# label mapping\n",
        "labels = '''airplane\n",
        "automobile\n",
        "bird\n",
        "cat\n",
        "deer\n",
        "dog\n",
        "frog\n",
        "horse\n",
        "ship\n",
        "truck'''.split()"
      ],
      "execution_count": 12,
      "outputs": []
    },
    {
      "cell_type": "code",
      "metadata": {
        "id": "QRJJndMT-Mp6",
        "colab_type": "code",
        "colab": {
          "base_uri": "https://localhost:8080/",
          "height": 281
        },
        "outputId": "249200fe-fafc-4ed3-c2f8-84d17b88a62c"
      },
      "source": [
        "# Show some misclassified examples\n",
        "misclassified_idx = np.where(p_test != y_test)[0]\n",
        "i = np.random.choice(misclassified_idx)\n",
        "plt.imshow(x_test[i], cmap='gray')\n",
        "plt.title(\"True label: %s Predicted: %s\" % (labels[y_test[i]], labels[p_test[i]]));"
      ],
      "execution_count": 13,
      "outputs": [
        {
          "output_type": "display_data",
          "data": {
            "image/png": "[encoded data removed]",
            "text/plain": [
              "<Figure size 432x288 with 1 Axes>"
            ]
          },
          "metadata": {
            "tags": [],
            "needs_background": "light"
          }
        }
      ]
    },
    {
      "cell_type": "code",
      "metadata": {
        "id": "5O9Mhmln-Oh5",
        "colab_type": "code",
        "colab": {
          "base_uri": "https://localhost:8080/",
          "height": 883
        },
        "outputId": "764584c0-5010-41a2-ecb0-e1e96fa07134"
      },
      "source": [
        "# Now that the model is so large, it's useful to summarize it\n",
        "model.summary()"
      ],
      "execution_count": 14,
      "outputs": [
        {
          "output_type": "stream",
          "text": [
            "Model: \"model\"\n",
            "_________________________________________________________________\n",
            "Layer (type)                 Output Shape              Param #   \n",
            "=================================================================\n",
            "input_1 (InputLayer)         [(None, 32, 32, 3)]       0         \n",
            "_________________________________________________________________\n",
            "conv2d (Conv2D)              (None, 32, 32, 32)        896       \n",
            "_________________________________________________________________\n",
            "batch_normalization (BatchNo (None, 32, 32, 32)        128       \n",
            "_________________________________________________________________\n",
            "conv2d_1 (Conv2D)            (None, 32, 32, 32)        9248      \n",
            "_________________________________________________________________\n",
            "batch_normalization_1 (Batch (None, 32, 32, 32)        128       \n",
            "_________________________________________________________________\n",
            "max_pooling2d (MaxPooling2D) (None, 16, 16, 32)        0         \n",
            "_________________________________________________________________\n",
            "conv2d_2 (Conv2D)            (None, 16, 16, 64)        18496     \n",
            "_________________________________________________________________\n",
            "batch_normalization_2 (Batch (None, 16, 16, 64)        256       \n",
            "_________________________________________________________________\n",
            "conv2d_3 (Conv2D)            (None, 16, 16, 64)        36928     \n",
            "_________________________________________________________________\n",
            "batch_normalization_3 (Batch (None, 16, 16, 64)        256       \n",
            "_________________________________________________________________\n",
            "max_pooling2d_1 (MaxPooling2 (None, 8, 8, 64)          0         \n",
            "_________________________________________________________________\n",
            "conv2d_4 (Conv2D)            (None, 8, 8, 128)         73856     \n",
            "_________________________________________________________________\n",
            "batch_normalization_4 (Batch (None, 8, 8, 128)         512       \n",
            "_________________________________________________________________\n",
            "conv2d_5 (Conv2D)            (None, 8, 8, 128)         147584    \n",
            "_________________________________________________________________\n",
            "batch_normalization_5 (Batch (None, 8, 8, 128)         512       \n",
            "_________________________________________________________________\n",
            "max_pooling2d_2 (MaxPooling2 (None, 4, 4, 128)         0         \n",
            "_________________________________________________________________\n",
            "flatten (Flatten)            (None, 2048)              0         \n",
            "_________________________________________________________________\n",
            "dropout (Dropout)            (None, 2048)              0         \n",
            "_________________________________________________________________\n",
            "dense (Dense)                (None, 1024)              2098176   \n",
            "_________________________________________________________________\n",
            "dropout_1 (Dropout)          (None, 1024)              0         \n",
            "_________________________________________________________________\n",
            "dense_1 (Dense)              (None, 10)                10250     \n",
            "=================================================================\n",
            "Total params: 2,397,226\n",
            "Trainable params: 2,396,330\n",
            "Non-trainable params: 896\n",
            "_________________________________________________________________\n"
          ],
          "name": "stdout"
        }
      ]
    },
    {
      "cell_type": "code",
      "metadata": {
        "id": "UsJyk86O-RiS",
        "colab_type": "code",
        "colab": {}
      },
      "source": [
        ""
      ],
      "execution_count": null,
      "outputs": []
    }
  ]
}