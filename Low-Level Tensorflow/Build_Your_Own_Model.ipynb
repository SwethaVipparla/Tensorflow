{
  "nbformat": 4,
  "nbformat_minor": 0,
  "metadata": {
    "colab": {
      "name": "TF2.0 Build Your Own Model.ipynb",
      "provenance": [],
      "collapsed_sections": [],
      "authorship_tag": "ABX9TyOybJlZwHtNAh6aoECcWq6R",
      "include_colab_link": true
    },
    "kernelspec": {
      "name": "python3",
      "display_name": "Python 3"
    },
    "accelerator": "GPU"
  },
  "cells": [
    {
      "cell_type": "markdown",
      "metadata": {
        "id": "view-in-github",
        "colab_type": "text"
      },
      "source": [
        "<a href=\"https://colab.research.google.com/github/SwethaVipparla/Tensorflow/blob/master/Low-Level%20Tensorflow/Build_Your_Own_Model.ipynb\" target=\"_parent\"><img src=\"https://colab.research.google.com/assets/colab-badge.svg\" alt=\"Open In Colab\"/></a>"
      ]
    },
    {
      "cell_type": "code",
      "metadata": {
        "id": "iKtw4xrwdn4R",
        "colab_type": "code",
        "colab": {
          "base_uri": "https://localhost:8080/",
          "height": 34
        },
        "outputId": "003bde73-ae74-4a17-f5af-c8eda1bc0ff0"
      },
      "source": [
        "import tensorflow as tf\n",
        "print(tf.__version__)"
      ],
      "execution_count": 1,
      "outputs": [
        {
          "output_type": "stream",
          "text": [
            "2.2.0\n"
          ],
          "name": "stdout"
        }
      ]
    },
    {
      "cell_type": "code",
      "metadata": {
        "id": "JAQZXU4ed2s3",
        "colab_type": "code",
        "colab": {}
      },
      "source": [
        "# Other imports\n",
        "import numpy as np\n",
        "import matplotlib.pyplot as plt"
      ],
      "execution_count": 2,
      "outputs": []
    },
    {
      "cell_type": "code",
      "metadata": {
        "id": "5lM7wDGtd60W",
        "colab_type": "code",
        "colab": {}
      },
      "source": [
        "# Define linear regression model\n",
        "\n",
        "class LinearRegression(tf.keras.Model):\n",
        "  def __init__(self, num_inputs, num_outputs):\n",
        "    super(LinearRegression, self).__init__()\n",
        "    self.W = tf.Variable(\n",
        "        tf.random_normal_initializer()((num_inputs, num_outputs)))\n",
        "    self.b = tf.Variable(tf.zeros(num_outputs))\n",
        "    self.params = [self.W, self.b]\n",
        "\n",
        "  def call(self, inputs):\n",
        "    return tf.matmul(inputs, self.W) + self.b"
      ],
      "execution_count": 3,
      "outputs": []
    },
    {
      "cell_type": "code",
      "metadata": {
        "id": "FkboyCxHd8H-",
        "colab_type": "code",
        "colab": {}
      },
      "source": [
        "# Create a dataset\n",
        "N = 100\n",
        "D = 1\n",
        "K = 1\n",
        "X = np.random.random((N, D)) * 2 - 1\n",
        "w = np.random.randn(D, K)\n",
        "b = np.random.randn()\n",
        "Y = X.dot(w) + b + np.random.randn(N, 1) * 0.1"
      ],
      "execution_count": 4,
      "outputs": []
    },
    {
      "cell_type": "code",
      "metadata": {
        "id": "eF_q8zyud9ji",
        "colab_type": "code",
        "colab": {
          "base_uri": "https://localhost:8080/",
          "height": 285
        },
        "outputId": "dfa678cb-16ca-4b06-d4a3-e289cd60434f"
      },
      "source": [
        "plt.scatter(X, Y)"
      ],
      "execution_count": 5,
      "outputs": [
        {
          "output_type": "execute_result",
          "data": {
            "text/plain": [
              "<matplotlib.collections.PathCollection at 0x7f09b9406898>"
            ]
          },
          "metadata": {
            "tags": []
          },
          "execution_count": 5
        },
        {
          "output_type": "display_data",
          "data": {
            "image/png": "[encoded data removed]",
            "text/plain": [
              "<Figure size 432x288 with 1 Axes>"
            ]
          },
          "metadata": {
            "tags": [],
            "needs_background": "light"
          }
        }
      ]
    },
    {
      "cell_type": "code",
      "metadata": {
        "id": "8znn8mYBd-a2",
        "colab_type": "code",
        "colab": {}
      },
      "source": [
        "# Cast type, otherwise Tensorflow will complain\n",
        "\n",
        "X = X.astype(np.float32)\n",
        "Y = Y.astype(np.float32)"
      ],
      "execution_count": 6,
      "outputs": []
    },
    {
      "cell_type": "code",
      "metadata": {
        "id": "fIVnTl4Pd_lC",
        "colab_type": "code",
        "colab": {}
      },
      "source": [
        "# Define the loss\n",
        "\n",
        "def get_loss(model, inputs, targets):\n",
        "  predictions = model(inputs)\n",
        "  error = targets - predictions\n",
        "  return tf.reduce_mean(tf.square(error))"
      ],
      "execution_count": 7,
      "outputs": []
    },
    {
      "cell_type": "code",
      "metadata": {
        "id": "uGPxe0UGeBHK",
        "colab_type": "code",
        "colab": {}
      },
      "source": [
        "# Gradient function\n",
        "def get_grad(model, inputs, targets):\n",
        "  with tf.GradientTape() as tape:\n",
        "    # calculate the loss\n",
        "    loss_value = get_loss(model, inputs, targets)\n",
        "  \n",
        "  # return gradient\n",
        "  return tape.gradient(loss_value, model.params)"
      ],
      "execution_count": 8,
      "outputs": []
    },
    {
      "cell_type": "code",
      "metadata": {
        "id": "_9s8aWU4eCV2",
        "colab_type": "code",
        "colab": {
          "base_uri": "https://localhost:8080/",
          "height": 89
        },
        "outputId": "862c3e9c-6b13-4498-fd58-2a620e8f81d4"
      },
      "source": [
        "# Create and train the model\n",
        "model = LinearRegression(D, K)\n",
        "\n",
        "# Print the params before training\n",
        "print(\"Initial params:\")\n",
        "print(model.W)\n",
        "print(model.b)"
      ],
      "execution_count": 9,
      "outputs": [
        {
          "output_type": "stream",
          "text": [
            "Initial params:\n",
            "<tf.Variable 'Variable:0' shape=(1, 1) dtype=float32, numpy=array([[0.07286303]], dtype=float32)>\n",
            "<tf.Variable 'Variable:0' shape=(1,) dtype=float32, numpy=array([0.], dtype=float32)>\n"
          ],
          "name": "stdout"
        }
      ]
    },
    {
      "cell_type": "code",
      "metadata": {
        "id": "ovIvpqNSeDOu",
        "colab_type": "code",
        "colab": {}
      },
      "source": [
        "# Store the losses here\n",
        "losses = []\n",
        "\n",
        "# Create an optimizer\n",
        "optimizer = tf.keras.optimizers.SGD(learning_rate=0.2)\n",
        "\n",
        "# Run the training loop\n",
        "for i in range(100):\n",
        "  # Get gradients\n",
        "  grads = get_grad(model, X, Y)\n",
        "  \n",
        "  # Do one step of gradient descent: param <- param - learning_rate * grad\n",
        "  optimizer.apply_gradients(zip(grads, model.params))\n",
        "  \n",
        "  # Store the loss\n",
        "  loss = get_loss(model, X, Y)\n",
        "  losses.append(loss)"
      ],
      "execution_count": 10,
      "outputs": []
    },
    {
      "cell_type": "code",
      "metadata": {
        "id": "9raFI1xweF3w",
        "colab_type": "code",
        "colab": {
          "base_uri": "https://localhost:8080/",
          "height": 282
        },
        "outputId": "f9275d02-1314-47da-af84-98af7d8cb48c"
      },
      "source": [
        "plt.plot(losses)"
      ],
      "execution_count": 11,
      "outputs": [
        {
          "output_type": "execute_result",
          "data": {
            "text/plain": [
              "[<matplotlib.lines.Line2D at 0x7f09b00b5780>]"
            ]
          },
          "metadata": {
            "tags": []
          },
          "execution_count": 11
        },
        {
          "output_type": "display_data",
          "data": {
            "image/png": "[encoded data removed]",
            "text/plain": [
              "<Figure size 432x288 with 1 Axes>"
            ]
          },
          "metadata": {
            "tags": [],
            "needs_background": "light"
          }
        }
      ]
    },
    {
      "cell_type": "code",
      "metadata": {
        "id": "kGo3an5neHKt",
        "colab_type": "code",
        "colab": {
          "base_uri": "https://localhost:8080/",
          "height": 285
        },
        "outputId": "b35fd2c4-cb3b-4057-ca54-c0d30f232cb3"
      },
      "source": [
        "x_axis = np.linspace(X.min(), X.max(), 100)\n",
        "y_axis = model.predict(x_axis.reshape(-1, 1)).flatten()\n",
        "\n",
        "plt.scatter(X, Y)\n",
        "plt.plot(x_axis, y_axis)"
      ],
      "execution_count": 12,
      "outputs": [
        {
          "output_type": "execute_result",
          "data": {
            "text/plain": [
              "[<matplotlib.lines.Line2D at 0x7f0a171a5898>]"
            ]
          },
          "metadata": {
            "tags": []
          },
          "execution_count": 12
        },
        {
          "output_type": "display_data",
          "data": {
            "image/png": "[encoded data removed]",
            "text/plain": [
              "<Figure size 432x288 with 1 Axes>"
            ]
          },
          "metadata": {
            "tags": [],
            "needs_background": "light"
          }
        }
      ]
    },
    {
      "cell_type": "code",
      "metadata": {
        "id": "pUwkIh2SeIsL",
        "colab_type": "code",
        "colab": {
          "base_uri": "https://localhost:8080/",
          "height": 69
        },
        "outputId": "5131294e-7608-4c50-d283-aae9faf09d6b"
      },
      "source": [
        "print(\"Predicted params:\")\n",
        "print(model.W)\n",
        "print(model.b)"
      ],
      "execution_count": 13,
      "outputs": [
        {
          "output_type": "stream",
          "text": [
            "Predicted params:\n",
            "<tf.Variable 'Variable:0' shape=(1, 1) dtype=float32, numpy=array([[0.42599517]], dtype=float32)>\n",
            "<tf.Variable 'Variable:0' shape=(1,) dtype=float32, numpy=array([0.7827575], dtype=float32)>\n"
          ],
          "name": "stdout"
        }
      ]
    },
    {
      "cell_type": "code",
      "metadata": {
        "id": "yKr-lArGeJxT",
        "colab_type": "code",
        "colab": {
          "base_uri": "https://localhost:8080/",
          "height": 51
        },
        "outputId": "55c9a202-d9c5-40c3-c6b7-42b2fdd815a4"
      },
      "source": [
        "print(\"True params:\")\n",
        "w, b"
      ],
      "execution_count": 14,
      "outputs": [
        {
          "output_type": "stream",
          "text": [
            "True params:\n"
          ],
          "name": "stdout"
        },
        {
          "output_type": "execute_result",
          "data": {
            "text/plain": [
              "(array([[0.37115454]]), 0.7882414892527715)"
            ]
          },
          "metadata": {
            "tags": []
          },
          "execution_count": 14
        }
      ]
    },
    {
      "cell_type": "code",
      "metadata": {
        "id": "3CefcT-QeLDB",
        "colab_type": "code",
        "colab": {}
      },
      "source": [
        ""
      ],
      "execution_count": null,
      "outputs": []
    }
  ]
}