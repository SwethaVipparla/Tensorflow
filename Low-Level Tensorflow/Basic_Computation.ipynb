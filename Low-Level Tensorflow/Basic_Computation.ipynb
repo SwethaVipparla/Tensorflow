{
  "nbformat": 4,
  "nbformat_minor": 0,
  "metadata": {
    "colab": {
      "name": "Tf2.0 Basic Computation.ipynb",
      "provenance": [],
      "authorship_tag": "ABX9TyPIDCsn2rf2WdoOQJ2JIWe9",
      "include_colab_link": true
    },
    "kernelspec": {
      "name": "python3",
      "display_name": "Python 3"
    }
  },
  "cells": [
    {
      "cell_type": "markdown",
      "metadata": {
        "id": "view-in-github",
        "colab_type": "text"
      },
      "source": [
        "<a href=\"https://colab.research.google.com/github/SwethaVipparla/Tensorflow/blob/master/Low-Level%20Tensorflow/Basic_Computation.ipynb\" target=\"_parent\"><img src=\"https://colab.research.google.com/assets/colab-badge.svg\" alt=\"Open In Colab\"/></a>"
      ]
    },
    {
      "cell_type": "code",
      "metadata": {
        "id": "ZwD0yY2Q6GIV",
        "colab_type": "code",
        "colab": {
          "base_uri": "https://localhost:8080/",
          "height": 34
        },
        "outputId": "a6926b00-d20c-42c4-ddac-75c7ec6a3418"
      },
      "source": [
        "import tensorflow as tf\n",
        "print(tf.__version__)"
      ],
      "execution_count": 1,
      "outputs": [
        {
          "output_type": "stream",
          "text": [
            "2.2.0\n"
          ],
          "name": "stdout"
        }
      ]
    },
    {
      "cell_type": "code",
      "metadata": {
        "id": "5qDBXLxF6NKI",
        "colab_type": "code",
        "colab": {
          "base_uri": "https://localhost:8080/",
          "height": 51
        },
        "outputId": "ae7540bb-f87c-44c3-a090-bf0c58a33a6f"
      },
      "source": [
        "a = tf.constant(3.0)\n",
        "b = tf.constant(4.0)\n",
        "c = tf.sqrt(a**2 + b**2)\n",
        "print(\"c:\", c)\n",
        "\n",
        "# if you use Python 3 f-strings it will print\n",
        "# the tensor as a float\n",
        "print(f\"c: {c}\") "
      ],
      "execution_count": 2,
      "outputs": [
        {
          "output_type": "stream",
          "text": [
            "c: tf.Tensor(5.0, shape=(), dtype=float32)\n",
            "c: 5.0\n"
          ],
          "name": "stdout"
        }
      ]
    },
    {
      "cell_type": "code",
      "metadata": {
        "id": "XBV4VpME6RWN",
        "colab_type": "code",
        "colab": {
          "base_uri": "https://localhost:8080/",
          "height": 34
        },
        "outputId": "4a967e71-c62a-48fc-fff4-e6352b8b63b4"
      },
      "source": [
        "# Get the Numpy version of a Tensor\n",
        "c.numpy()"
      ],
      "execution_count": 3,
      "outputs": [
        {
          "output_type": "execute_result",
          "data": {
            "text/plain": [
              "5.0"
            ]
          },
          "metadata": {
            "tags": []
          },
          "execution_count": 3
        }
      ]
    },
    {
      "cell_type": "code",
      "metadata": {
        "id": "huyQrNb26Sjn",
        "colab_type": "code",
        "colab": {
          "base_uri": "https://localhost:8080/",
          "height": 34
        },
        "outputId": "4086db1c-89c2-424b-8957-e7a610dfe0ba"
      },
      "source": [
        "type(c.numpy())"
      ],
      "execution_count": 4,
      "outputs": [
        {
          "output_type": "execute_result",
          "data": {
            "text/plain": [
              "numpy.float32"
            ]
          },
          "metadata": {
            "tags": []
          },
          "execution_count": 4
        }
      ]
    },
    {
      "cell_type": "code",
      "metadata": {
        "id": "1FAfWCaY6Tp3",
        "colab_type": "code",
        "colab": {
          "base_uri": "https://localhost:8080/",
          "height": 51
        },
        "outputId": "b3086a00-e3e1-4536-c229-50e37f5e8052"
      },
      "source": [
        "a = tf.constant([1, 2, 3])\n",
        "b = tf.constant([4, 5, 6])\n",
        "print(f\"b: {b}\")\n",
        "c = tf.tensordot(a, b, axes=[0,0])\n",
        "print(f\"c: {c}\")"
      ],
      "execution_count": 5,
      "outputs": [
        {
          "output_type": "stream",
          "text": [
            "b: [4 5 6]\n",
            "c: 32\n"
          ],
          "name": "stdout"
        }
      ]
    },
    {
      "cell_type": "code",
      "metadata": {
        "id": "snkPTyY_6VME",
        "colab_type": "code",
        "colab": {
          "base_uri": "https://localhost:8080/",
          "height": 34
        },
        "outputId": "aa5dcf19-e2e2-4802-998f-0b764e8938b5"
      },
      "source": [
        "a.numpy().dot(b.numpy())"
      ],
      "execution_count": 6,
      "outputs": [
        {
          "output_type": "execute_result",
          "data": {
            "text/plain": [
              "32"
            ]
          },
          "metadata": {
            "tags": []
          },
          "execution_count": 6
        }
      ]
    },
    {
      "cell_type": "code",
      "metadata": {
        "id": "syTbQs6v6WLk",
        "colab_type": "code",
        "colab": {
          "base_uri": "https://localhost:8080/",
          "height": 121
        },
        "outputId": "f9c27bee-dc18-46bf-8641-414305aede79"
      },
      "source": [
        "import numpy as np\n",
        "A0 = np.random.randn(3, 3)\n",
        "b0 = np.random.randn(3, 1)\n",
        "c0 = A0.dot(b0)\n",
        "print(f\"c0: {c0}\")\n",
        "\n",
        "A = tf.constant(A0)\n",
        "b = tf.constant(b0)\n",
        "c = tf.matmul(A, b)\n",
        "print(f\"c: {c}\")"
      ],
      "execution_count": 7,
      "outputs": [
        {
          "output_type": "stream",
          "text": [
            "c0: [[ 2.19512675]\n",
            " [-1.95197723]\n",
            " [-0.75619629]]\n",
            "c: [[ 2.19512675]\n",
            " [-1.95197723]\n",
            " [-0.75619629]]\n"
          ],
          "name": "stdout"
        }
      ]
    },
    {
      "cell_type": "code",
      "metadata": {
        "id": "tXrAoCpR6YG5",
        "colab_type": "code",
        "colab": {
          "base_uri": "https://localhost:8080/",
          "height": 51
        },
        "outputId": "7fd27c43-b693-40b4-81e7-358af2a491ec"
      },
      "source": [
        "# Broadcasting\n",
        "A = tf.constant([[1,2],[3,4]])\n",
        "b = tf.constant(1)\n",
        "C = A + b\n",
        "print(f\"C: {C}\")"
      ],
      "execution_count": 8,
      "outputs": [
        {
          "output_type": "stream",
          "text": [
            "C: [[2 3]\n",
            " [4 5]]\n"
          ],
          "name": "stdout"
        }
      ]
    },
    {
      "cell_type": "code",
      "metadata": {
        "id": "gyJ0AmAc6ZKq",
        "colab_type": "code",
        "colab": {
          "base_uri": "https://localhost:8080/",
          "height": 51
        },
        "outputId": "1eab2642-dbba-4aa5-9d0d-621cabf39f7b"
      },
      "source": [
        "# Element-wise multiplication\n",
        "A = tf.constant([[1,2],[3,4]])\n",
        "B = tf.constant([[2,3],[4,5]])\n",
        "C = A * B\n",
        "print(f\"C: {C}\")"
      ],
      "execution_count": 9,
      "outputs": [
        {
          "output_type": "stream",
          "text": [
            "C: [[ 2  6]\n",
            " [12 20]]\n"
          ],
          "name": "stdout"
        }
      ]
    },
    {
      "cell_type": "code",
      "metadata": {
        "id": "RqqSgI1K6aJ0",
        "colab_type": "code",
        "colab": {}
      },
      "source": [
        ""
      ],
      "execution_count": null,
      "outputs": []
    }
  ]
}